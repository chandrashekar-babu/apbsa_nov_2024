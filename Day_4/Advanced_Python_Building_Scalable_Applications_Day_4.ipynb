{
 "cells": [
  {
   "cell_type": "markdown",
   "metadata": {},
   "source": [
    "# Advanced Python: Building Scalable Applications\n",
    "\n",
    "### Day 4: Sockets, IPCs and Serialization\n"
   ]
  },
  {
   "cell_type": "code",
   "execution_count": 2,
   "metadata": {},
   "outputs": [
    {
     "data": {
      "text/plain": [
       "<queue.PriorityQueue at 0x2046947a560>"
      ]
     },
     "execution_count": 2,
     "metadata": {},
     "output_type": "execute_result"
    }
   ],
   "source": [
    "# PriorityQueue\n",
    "\n",
    "from queue import PriorityQueue\n",
    "\n",
    "pq = PriorityQueue(5)\n",
    "pq"
   ]
  },
  {
   "cell_type": "code",
   "execution_count": 3,
   "metadata": {},
   "outputs": [],
   "source": [
    "pq.put(34)\n",
    "pq.put(12)\n",
    "pq.put(56)\n",
    "pq.put(67)\n",
    "pq.put(15)\n"
   ]
  },
  {
   "cell_type": "code",
   "execution_count": 6,
   "metadata": {},
   "outputs": [
    {
     "name": "stdout",
     "output_type": "stream",
     "text": [
      "67\n",
      "56\n",
      "34\n",
      "15\n",
      "12\n"
     ]
    }
   ],
   "source": [
    "values = [34, 12, 56, 67, 15]\n",
    "for v in values:\n",
    "    pq.put(-v)\n",
    "\n",
    "while not pq.empty():\n",
    "    v = -pq.get()\n",
    "    print(v)"
   ]
  },
  {
   "cell_type": "code",
   "execution_count": 4,
   "metadata": {},
   "outputs": [
    {
     "name": "stdout",
     "output_type": "stream",
     "text": [
      "12\n",
      "15\n",
      "34\n",
      "56\n",
      "67\n"
     ]
    }
   ],
   "source": [
    "while not pq.empty():\n",
    "    v = pq.get()\n",
    "    print(v)"
   ]
  },
  {
   "cell_type": "code",
   "execution_count": 1,
   "metadata": {},
   "outputs": [
    {
     "name": "stdout",
     "output_type": "stream",
     "text": [
      "adam\n",
      "bill\n",
      "john\n",
      "jones\n",
      "raymond\n",
      "sam\n",
      "tim\n"
     ]
    }
   ],
   "source": [
    "from queue import PriorityQueue\n",
    "\n",
    "users = \"john\", \"sam\", \"raymond\", \"adam\", \"tim\", \"bill\", \"jones\"\n",
    "pq = PriorityQueue(len(users))\n",
    "\n",
    "for v in users:\n",
    "    pq.put(v)\n",
    "\n",
    "while not pq.empty():\n",
    "    v = pq.get()\n",
    "    print(v)"
   ]
  },
  {
   "cell_type": "code",
   "execution_count": 2,
   "metadata": {},
   "outputs": [
    {
     "name": "stdout",
     "output_type": "stream",
     "text": [
      "((1, 'john'), (5, 'sam'), (2, 'raymond'), (6, 'adam'), (3, 'tim'), (7, 'bill'), (4, 'jones'))\n",
      "(1, 'john')\n",
      "(2, 'raymond')\n",
      "(3, 'tim')\n",
      "(4, 'jones')\n",
      "(5, 'sam')\n",
      "(6, 'adam')\n",
      "(7, 'bill')\n"
     ]
    }
   ],
   "source": [
    "from queue import PriorityQueue\n",
    "\n",
    "users = \"john\", \"sam\", \"raymond\", \"adam\", \"tim\", \"bill\", \"jones\"\n",
    "prio = 1, 5, 2, 6, 3, 7, 4\n",
    "\n",
    "values = tuple(zip(prio, users))\n",
    "print(values)\n",
    "\n",
    "pq = PriorityQueue(len(users))\n",
    "\n",
    "for v in values:\n",
    "    pq.put(v)\n",
    "\n",
    "while not pq.empty():\n",
    "    v = pq.get()\n",
    "    print(v)"
   ]
  },
  {
   "cell_type": "code",
   "execution_count": 11,
   "metadata": {},
   "outputs": [
    {
     "name": "stdout",
     "output_type": "stream",
     "text": [
      "['authkey', 'close', 'daemon', 'exitcode', 'ident', 'is_alive', 'join', 'kill', 'name', 'pid', 'run', 'sentinel', 'start', 'terminate']\n",
      "Process-8 False True\n",
      "9408 None\n"
     ]
    }
   ],
   "source": [
    "from multiprocessing import Process\n",
    "from time import sleep\n",
    "\n",
    "p = Process(target=sleep, args=(60,))\n",
    "p.start()\n",
    "print([a for a in dir(p) if a[0] != '_'])\n",
    "\n",
    "print(p.name, p.daemon, p.is_alive())\n",
    "print(p.pid, p.exitcode)"
   ]
  },
  {
   "cell_type": "code",
   "execution_count": 12,
   "metadata": {},
   "outputs": [
    {
     "name": "stdout",
     "output_type": "stream",
     "text": [
      "['Array', 'AuthenticationError', 'Barrier', 'BoundedSemaphore', 'BufferTooShort', 'Condition', 'Event', 'JoinableQueue', 'Lock', 'Manager', 'Pipe', 'Pool', 'Process', 'ProcessError', 'Queue', 'RLock', 'RawArray', 'RawValue', 'SUBDEBUG', 'SUBWARNING', 'Semaphore', 'SimpleQueue', 'TimeoutError', 'Value', '__all__', '__builtins__', '__cached__', '__doc__', '__file__', '__loader__', '__name__', '__package__', '__path__', '__spec__', 'active_children', 'allow_connection_pickling', 'context', 'cpu_count', 'current_process', 'freeze_support', 'get_all_start_methods', 'get_context', 'get_logger', 'get_start_method', 'log_to_stderr', 'parent_process', 'popen_spawn_win32', 'process', 'reducer', 'reduction', 'set_executable', 'set_forkserver_preload', 'set_start_method', 'spawn', 'sys', 'util']\n"
     ]
    }
   ],
   "source": [
    "import multiprocessing as mp\n",
    "print(dir(mp))"
   ]
  },
  {
   "cell_type": "code",
   "execution_count": 15,
   "metadata": {},
   "outputs": [
    {
     "name": "stdout",
     "output_type": "stream",
     "text": [
      "Writing proc_pipe_test.py\n"
     ]
    }
   ],
   "source": [
    "%%file proc_pipe_test.py\n",
    "\n",
    "from multiprocessing import Process, Pipe, Event\n",
    "from random import random\n",
    "from time import sleep\n",
    "\n",
    "def sender(outs):\n",
    "    data = 10, True, {\"name\": \"John\"}, [11, 22, 33], None, 6.7\n",
    "    for d in data:\n",
    "        print(\"sender: sending - \", d)\n",
    "        outs.send(d)\n",
    "        sleep(random())\n",
    "\n",
    "def receiver(ins):\n",
    "    while True:\n",
    "        d = ins.recv()\n",
    "        print(\"receiver: received -\", d)\n",
    "        print(\"-\" * 40)\n",
    "        sleep(random())\n",
    "\n",
    "ins, outs = Pipe()\n",
    "p1 = Process(target=sender, args=(outs,))\n",
    "p2 = Process(target=receiver, args=(ins,))\n",
    "p1.start()\n",
    "p2.start()\n",
    "\n"
   ]
  },
  {
   "cell_type": "code",
   "execution_count": 16,
   "metadata": {},
   "outputs": [
    {
     "name": "stdout",
     "output_type": "stream",
     "text": [
      "[10, 22, 33, 44, 55, 67, 89] <class 'list'>\n"
     ]
    }
   ],
   "source": [
    "a = [10, 22, 33, 44, 55, 67, 89]\n",
    "print(a, type(a))"
   ]
  },
  {
   "cell_type": "code",
   "execution_count": 17,
   "metadata": {},
   "outputs": [
    {
     "name": "stdout",
     "output_type": "stream",
     "text": [
      "array('i', [10, 22, 33, 44, 55, 67, 89]) <class 'array.array'>\n"
     ]
    }
   ],
   "source": [
    "from array import array\n",
    "b = array(\"i\", a)\n",
    "print(b, type(b))"
   ]
  },
  {
   "cell_type": "code",
   "execution_count": 30,
   "metadata": {},
   "outputs": [
    {
     "name": "stdout",
     "output_type": "stream",
     "text": [
      "array('i', [0, 0, 0, 0, 0, 0, 0, 0, 0, 0, 0, 0, 0, 0, 0, 0, 0, 0, 0, 0, 0, 0, 0, 0, 0, 0, 0, 0])\n"
     ]
    }
   ],
   "source": [
    "# Sharing memory buffers\n",
    "# Memory buffers can be str, bytes, bytearray, array.array, numpy.array, etc.\n",
    "\n",
    "from multiprocessing.shared_memory import SharedMemory\n",
    "from array import array\n",
    "\n",
    "a = array(\"i\", [11, 23, 44, 55, 66, 77, 88])\n",
    "shm = SharedMemory(name=\"nums\", create=True, size=a.itemsize * len(a))\n",
    "a = array(\"i\", shm.buf)\n",
    "print(a)"
   ]
  },
  {
   "cell_type": "code",
   "execution_count": 28,
   "metadata": {},
   "outputs": [
    {
     "name": "stdout",
     "output_type": "stream",
     "text": [
      "\u001b[1;31mInit signature:\u001b[0m \u001b[0marray\u001b[0m\u001b[1;33m(\u001b[0m\u001b[0mself\u001b[0m\u001b[1;33m,\u001b[0m \u001b[1;33m/\u001b[0m\u001b[1;33m,\u001b[0m \u001b[1;33m*\u001b[0m\u001b[0margs\u001b[0m\u001b[1;33m,\u001b[0m \u001b[1;33m**\u001b[0m\u001b[0mkwargs\u001b[0m\u001b[1;33m)\u001b[0m\u001b[1;33m\u001b[0m\u001b[1;33m\u001b[0m\u001b[0m\n",
      "\u001b[1;31mDocstring:\u001b[0m     \n",
      "array(typecode [, initializer]) -> array\n",
      "\n",
      "Return a new array whose items are restricted by typecode, and\n",
      "initialized from the optional initializer value, which must be a list,\n",
      "string or iterable over elements of the appropriate type.\n",
      "\n",
      "Arrays represent basic values and behave very much like lists, except\n",
      "the type of objects stored in them is constrained. The type is specified\n",
      "at object creation time by using a type code, which is a single character.\n",
      "The following type codes are defined:\n",
      "\n",
      "    Type code   C Type             Minimum size in bytes\n",
      "    'b'         signed integer     1\n",
      "    'B'         unsigned integer   1\n",
      "    'u'         Unicode character  2 (see note)\n",
      "    'h'         signed integer     2\n",
      "    'H'         unsigned integer   2\n",
      "    'i'         signed integer     2\n",
      "    'I'         unsigned integer   2\n",
      "    'l'         signed integer     4\n",
      "    'L'         unsigned integer   4\n",
      "    'q'         signed integer     8 (see note)\n",
      "    'Q'         unsigned integer   8 (see note)\n",
      "    'f'         floating point     4\n",
      "    'd'         floating point     8\n",
      "\n",
      "NOTE: The 'u' typecode corresponds to Python's unicode character. On\n",
      "narrow builds this is 2-bytes on wide builds this is 4-bytes.\n",
      "\n",
      "NOTE: The 'q' and 'Q' type codes are only available if the platform\n",
      "C compiler used to build Python supports 'long long', or, on Windows,\n",
      "'__int64'.\n",
      "\n",
      "Methods:\n",
      "\n",
      "append() -- append a new item to the end of the array\n",
      "buffer_info() -- return information giving the current memory info\n",
      "byteswap() -- byteswap all the items of the array\n",
      "count() -- return number of occurrences of an object\n",
      "extend() -- extend array by appending multiple elements from an iterable\n",
      "fromfile() -- read items from a file object\n",
      "fromlist() -- append items from the list\n",
      "frombytes() -- append items from the string\n",
      "index() -- return index of first occurrence of an object\n",
      "insert() -- insert a new item into the array at a provided position\n",
      "pop() -- remove and return item (default last)\n",
      "remove() -- remove first occurrence of an object\n",
      "reverse() -- reverse the order of the items in the array\n",
      "tofile() -- write all items to a file object\n",
      "tolist() -- return the array converted to an ordinary list\n",
      "tobytes() -- return the array converted to a string\n",
      "\n",
      "Attributes:\n",
      "\n",
      "typecode -- the typecode character used to create the array\n",
      "itemsize -- the length in bytes of one array item\n",
      "\u001b[1;31mType:\u001b[0m           type\n",
      "\u001b[1;31mSubclasses:\u001b[0m     \n"
     ]
    }
   ],
   "source": [
    "from array import array\n",
    "array?"
   ]
  }
 ],
 "metadata": {
  "kernelspec": {
   "display_name": "Python 3",
   "language": "python",
   "name": "python3"
  },
  "language_info": {
   "codemirror_mode": {
    "name": "ipython",
    "version": 3
   },
   "file_extension": ".py",
   "mimetype": "text/x-python",
   "name": "python",
   "nbconvert_exporter": "python",
   "pygments_lexer": "ipython3",
   "version": "3.10.2"
  }
 },
 "nbformat": 4,
 "nbformat_minor": 2
}
