{
 "cells": [
  {
   "cell_type": "markdown",
   "metadata": {},
   "source": [
    "# Advanced Python: Building Scalable Applications\n",
    "\n",
    "### Day 5: Serialization, Data Persistence and Web APIs\n"
   ]
  },
  {
   "cell_type": "code",
   "execution_count": 2,
   "metadata": {},
   "outputs": [
    {
     "name": "stdout",
     "output_type": "stream",
     "text": [
      "\u001b[1;31mDocstring:\u001b[0m\n",
      "shutdown(flag)\n",
      "\n",
      "Shut down the reading side of the socket (flag == SHUT_RD), the writing side\n",
      "of the socket (flag == SHUT_WR), or both ends (flag == SHUT_RDWR).\n",
      "\u001b[1;31mType:\u001b[0m      builtin_function_or_method\n"
     ]
    }
   ],
   "source": [
    "from socket import socket, AF_INET, SOCK_STREAM\n",
    "s = socket(AF_INET, SOCK_STREAM)\n",
    "s.shutdown?"
   ]
  },
  {
   "cell_type": "code",
   "execution_count": 3,
   "metadata": {},
   "outputs": [
    {
     "name": "stdout",
     "output_type": "stream",
     "text": [
      "Requirement already satisfied: httpx in c:\\python310\\lib\\site-packages (0.27.2)\n",
      "Requirement already satisfied: anyio in c:\\python310\\lib\\site-packages (from httpx) (4.6.2.post1)\n",
      "Requirement already satisfied: certifi in c:\\python310\\lib\\site-packages (from httpx) (2021.10.8)\n",
      "Requirement already satisfied: httpcore==1.* in c:\\python310\\lib\\site-packages (from httpx) (1.0.6)\n",
      "Requirement already satisfied: idna in c:\\python310\\lib\\site-packages (from httpx) (3.3)\n",
      "Requirement already satisfied: sniffio in c:\\python310\\lib\\site-packages (from httpx) (1.2.0)\n",
      "Requirement already satisfied: h11<0.15,>=0.13 in c:\\python310\\lib\\site-packages (from httpcore==1.*->httpx) (0.13.0)\n",
      "Requirement already satisfied: exceptiongroup>=1.0.2 in c:\\python310\\lib\\site-packages (from anyio->httpx) (1.2.2)\n",
      "Requirement already satisfied: typing-extensions>=4.1 in c:\\python310\\lib\\site-packages (from anyio->httpx) (4.2.0)\n",
      "Note: you may need to restart the kernel to use updated packages.\n"
     ]
    },
    {
     "name": "stderr",
     "output_type": "stream",
     "text": [
      "\n",
      "[notice] A new release of pip is available: 24.2 -> 24.3.1\n",
      "[notice] To update, run: python.exe -m pip install --upgrade pip\n"
     ]
    }
   ],
   "source": [
    "pip install httpx"
   ]
  },
  {
   "cell_type": "code",
   "execution_count": 4,
   "metadata": {},
   "outputs": [
    {
     "data": {
      "text/plain": [
       "<Response [301 Moved Permanently]>"
      ]
     },
     "execution_count": 4,
     "metadata": {},
     "output_type": "execute_result"
    }
   ],
   "source": [
    "import httpx\n",
    "\n",
    "res = httpx.get(\"http://python.org\")\n",
    "res"
   ]
  },
  {
   "cell_type": "code",
   "execution_count": 8,
   "metadata": {},
   "outputs": [
    {
     "data": {
      "text/plain": [
       "(301, 'Moved Permanently')"
      ]
     },
     "execution_count": 8,
     "metadata": {},
     "output_type": "execute_result"
    }
   ],
   "source": [
    "res.status_code, res.reason_phrase"
   ]
  },
  {
   "cell_type": "code",
   "execution_count": 10,
   "metadata": {},
   "outputs": [
    {
     "name": "stdout",
     "output_type": "stream",
     "text": [
      "True False False False\n"
     ]
    }
   ],
   "source": [
    "print(res.is_redirect, res.is_success, res.is_error, res.is_client_error)"
   ]
  },
  {
   "cell_type": "code",
   "execution_count": 12,
   "metadata": {},
   "outputs": [
    {
     "name": "stdout",
     "output_type": "stream",
     "text": [
      "connection -> close\n",
      "content-length -> 0\n",
      "server -> Varnish\n",
      "retry-after -> 0\n",
      "accept-ranges -> bytes\n",
      "date -> Fri, 22 Nov 2024 05:07:12 GMT\n",
      "via -> 1.1 varnish\n",
      "x-served-by -> cache-maa10225-MAA\n",
      "x-cache -> HIT\n",
      "x-cache-hits -> 0\n",
      "x-timer -> S1732252032.296288,VS0,VE0\n",
      "location -> https://www.python.org/\n",
      "strict-transport-security -> max-age=315360000; preload\n"
     ]
    }
   ],
   "source": [
    "for k, v in res.headers.items():\n",
    "    print(f\"{k} -> {v}\")"
   ]
  },
  {
   "cell_type": "code",
   "execution_count": 13,
   "metadata": {},
   "outputs": [
    {
     "data": {
      "text/plain": [
       "<Response [200 OK]>"
      ]
     },
     "execution_count": 13,
     "metadata": {},
     "output_type": "execute_result"
    }
   ],
   "source": [
    "res = httpx.get(\"https://www.python.org\")\n",
    "res"
   ]
  },
  {
   "cell_type": "code",
   "execution_count": 14,
   "metadata": {},
   "outputs": [
    {
     "name": "stdout",
     "output_type": "stream",
     "text": [
      "False True False False\n"
     ]
    }
   ],
   "source": [
    "print(res.is_redirect, res.is_success, res.is_error, res.is_client_error)"
   ]
  },
  {
   "cell_type": "code",
   "execution_count": 15,
   "metadata": {},
   "outputs": [
    {
     "name": "stdout",
     "output_type": "stream",
     "text": [
      "connection -> keep-alive\n",
      "content-length -> 12076\n",
      "via -> 1.1 varnish, 1.1 varnish, 1.1 varnish\n",
      "content-encoding -> gzip\n",
      "x-frame-options -> SAMEORIGIN\n",
      "content-type -> text/html; charset=utf-8\n",
      "accept-ranges -> bytes\n",
      "date -> Fri, 22 Nov 2024 05:13:08 GMT\n",
      "age -> 1563\n",
      "x-served-by -> cache-iad-kiad7000114-IAD, cache-iad-kiad7000114-IAD, cache-maa10240-MAA\n",
      "x-cache -> MISS, MISS, HIT\n",
      "x-cache-hits -> 0, 0, 3\n",
      "x-timer -> S1732252388.050457,VS0,VE0\n",
      "vary -> Cookie\n",
      "strict-transport-security -> max-age=63072000; includeSubDomains; preload\n"
     ]
    }
   ],
   "source": [
    "for k, v in res.headers.items():\n",
    "    print(f\"{k} -> {v}\")"
   ]
  },
  {
   "cell_type": "code",
   "execution_count": 16,
   "metadata": {},
   "outputs": [
    {
     "data": {
      "text/plain": [
       "'<!doctype html>\\n<!--[if lt IE 7]>   <html class=\"no-js ie6 lt-ie7 lt-ie8 lt-ie9\">   <![endif]-->\\n<!--[if IE 7]>      <html class=\"no-js ie7 lt-ie8 lt-ie9\">          <![endif]-->\\n<!--[if IE 8]>      <html class=\"no-js ie8 lt-ie9\">                 <![endif]-->\\n<!--[if gt IE 8]><!--><html class=\"no-js\" lang=\"en\" dir=\"ltr\">  <!--<![endif]-->\\n\\n<head>\\n    <!-- Google tag (gtag.js) -->\\n    <script async src=\"https://www.googletagmanager.com/gtag/js?id=G-TF35YF9CVH\"></script>\\n    <script>\\n      window.dataLayer = window.dataLayer || [];\\n      function gtag(){dataLayer.push(arguments);}\\n      gtag(\\'js\\', new Date());\\n      gtag(\\'config\\', \\'G-TF35YF9CVH\\');\\n    </script>\\n    <!-- Plausible.io analytics -->\\n    <script defer data-domain=\"python.org\" src=\"https://plausible.io/js/script.js\"></script>\\n\\n    <meta charset=\"utf-8\">\\n    <meta http-equiv=\"X-UA-Compatible\" content=\"IE=edge\">\\n\\n    <link rel=\"prefetch\" href=\"//ajax.googleapis.com/ajax/libs/jquery/1.8.2/jquery.min.js\">\\n    <link rel=\"prefetch\" href=\"//ajax.googleapis.com/ajax/libs/jqueryui/1.12.1/jquery-ui.min.js\">\\n\\n    <meta name=\"application-name\" content=\"Python.org\">\\n    <meta name=\"msapplication-tooltip\" content=\"The official home of the Python Programming Language\">\\n    <meta name=\"apple-mobile-web-app-title\" content=\"Python.org\">\\n    <meta name=\"apple-mobile-web-app-capable\" content=\"yes\">\\n    <meta name=\"apple-mobile-web-app-status-bar-style\" content=\"black\">\\n\\n    <meta name=\"viewport\" content=\"width=device-width, initial-scale=1.0\">\\n    <meta name=\"HandheldFriendly\" content=\"True\">\\n    <meta name=\"format-detection\" content=\"telephone=no\">\\n    <meta http-equiv=\"cleartype\" content=\"on\">\\n    <meta http-equiv=\"imagetoolbar\" content=\"false\">\\n\\n    <script async\\n            src=\"https://media.ethicalads.io/media/client/v1.4.0/ethicalads.min.js\"\\n            integrity=\"sha256-U3hKDidudIaxBDEzwGJApJgPEf2mWk6cfMWghrAa6i0= sha384-UcmsCqcNRSLW/dV3Lo1oCi2/VaurXbib6p4HyUEOeIa/4OpsrnucrugAefzVZJfI sha512-q4t1L4xEjGV2R4hzqCa41P8jrgFUS8xTb8rdNv4FGvw7FpydVj/kkxBJHOiaoxHa8olCcx1Slk9K+3sNbsM4ug==\"\\n            crossorigin=\"anonymous\"\\n    ></script>\\n    <script src=\"/static/js/libs/modernizr.js\"></script>\\n\\n    <link href=\"/static/stylesheets/style.08a078d0aa02.css\" rel=\"stylesheet\" type=\"text/css\" media=\"all\" title=\"default\" />\\n    <link href=\"/static/stylesheets/mq.31ede2afc427.css\" rel=\"stylesheet\" type=\"text/css\" media=\"not print, braille, embossed, speech, tty\" />\\n    <link href=\"/static/stylesheets/no-mq.bf0c425cdb73.css\" rel=\"stylesheet\" type=\"text/css\" media=\"screen\" />\\n    \\n\\n    <!--[if (lte IE 8)&(!IEMobile)]>\\n    <link href=\"/static/stylesheets/no-mq.bf0c425cdb73.css\" rel=\"stylesheet\" type=\"text/css\" media=\"screen\" />\\n    \\n    \\n    <![endif]-->\\n    <link rel=\"stylesheet\" href=\"//ajax.googleapis.com/ajax/libs/jqueryui/1.12.1/themes/smoothness/jquery-ui.css\">\\n\\n    \\n    <link rel=\"icon\" type=\"image/x-icon\" href=\"/static/favicon.ico\">\\n    <link rel=\"apple-touch-icon-precomposed\" sizes=\"144x144\" href=\"/static/apple-touch-icon-144x144-precomposed.png\">\\n    <link rel=\"apple-touch-icon-precomposed\" sizes=\"114x114\" href=\"/static/apple-touch-icon-114x114-precomposed.png\">\\n    <link rel=\"apple-touch-icon-precomposed\" sizes=\"72x72\" href=\"/static/apple-touch-icon-72x72-precomposed.png\">\\n    <link rel=\"apple-touch-icon-precomposed\" href=\"/static/apple-touch-icon-precomposed.png\">\\n    <link rel=\"apple-touch-icon\" href=\"/static/apple-touch-icon-precomposed.png\">\\n\\n    \\n    <meta name=\"msapplication-TileImage\" content=\"/static/metro-icon-144x144.png\"><!-- white shape -->\\n    <meta name=\"msapplication-TileColor\" content=\"#3673a5\"><!-- python blue -->\\n    <meta name=\"msapplication-navbutton-color\" content=\"#3673a5\">\\n\\n    <title>Welcome to Python.org</title>\\n\\n    <meta name=\"description\" content=\"The official home of the Python Programming Language\">\\n    <meta name=\"keywords\" content=\"Python programming language object oriented web free open source software license documentation download community\">\\n\\n    \\n    <meta property=\"og:type\" content=\"website\">\\n    <meta property=\"og:site_name\" content=\"Python.org\">\\n    <meta property=\"og:title\" content=\"Welcome to Python.org\">\\n    <meta property=\"og:description\" content=\"The official home of the Python Programming Language\">\\n    \\n    <meta property=\"og:image\" content=\"https://www.python.org/static/opengraph-icon-200x200.png\">\\n    <meta property=\"og:image:secure_url\" content=\"https://www.python.org/static/opengraph-icon-200x200.png\">\\n    \\n    <meta property=\"og:url\" content=\"https://www.python.org/\">\\n\\n    <link rel=\"author\" href=\"/humans.txt\">\\n\\n    <link rel=\"alternate\" type=\"application/rss+xml\" title=\"Python Enhancement Proposals\"\\n          href=\"https://peps.python.org/peps.rss\">\\n    <link rel=\"alternate\" type=\"application/rss+xml\" title=\"Python Job Opportunities\"\\n          href=\"https://www.python.org/jobs/feed/rss/\">\\n    <link rel=\"alternate\" type=\"application/rss+xml\" title=\"Python Software Foundation News\"\\n          href=\"https://feeds.feedburner.com/PythonSoftwareFoundationNews\">\\n    <link rel=\"alternate\" type=\"application/rss+xml\" title=\"Python Insider\"\\n          href=\"https://feeds.feedburner.com/PythonInsider\">\\n   <link rel=\"alternate\" type=\"application/rss+xml\" title=\"Python Releases\"\\n         href=\"https://www.python.org/downloads/feed.rss\">\\n\\n    \\n\\n    \\n    <script type=\"application/ld+json\">\\n     {\\n       \"@context\": \"https://schema.org\",\\n       \"@type\": \"WebSite\",\\n       \"url\": \"https://www.python.org/\",\\n       \"potentialAction\": {\\n         \"@type\": \"SearchAction\",\\n         \"target\": \"https://www.python.org/search/?q={search_term_string}\",\\n         \"query-input\": \"required name=search_term_string\"\\n       }\\n     }\\n    </script>\\n\\n    \\n    <script type=\"text/javascript\">\\n    var _gaq = _gaq || [];\\n    _gaq.push([\\'_setAccount\\', \\'UA-39055973-1\\']);\\n    _gaq.push([\\'_trackPageview\\']);\\n\\n    (function() {\\n        var ga = document.createElement(\\'script\\'); ga.type = \\'text/javascript\\'; ga.async = true;\\n        ga.src = (\\'https:\\' == document.location.protocol ? \\'https://ssl\\' : \\'http://www\\') + \\'.google-analytics.com/ga.js\\';\\n        var s = document.getElementsByTagName(\\'script\\')[0]; s.parentNode.insertBefore(ga, s);\\n    })();\\n    </script>\\n    \\n</head>\\n\\n<body class=\"python home\" id=\"homepage\">\\n\\n    <div id=\"touchnav-wrapper\">\\n\\n        <div id=\"nojs\" class=\"do-not-print\">\\n            <p><strong>Notice:</strong> While JavaScript is not essential for this website, your interaction with the content will be limited. Please turn JavaScript on for the full experience. </p>\\n        </div>\\n\\n        <!--[if lte IE 8]>\\n        <div id=\"oldie-warning\" class=\"do-not-print\">\\n            <p>\\n                <strong>Notice:</strong> Your browser is <em>ancient</em>. Please\\n                <a href=\"http://browsehappy.com/\">upgrade to a different browser</a> to experience a better web.\\n            </p>\\n        </div>\\n        <![endif]-->\\n\\n        <!-- Sister Site Links -->\\n        <div id=\"top\" class=\"top-bar do-not-print\">\\n\\n            <nav class=\"meta-navigation container\" role=\"navigation\">\\n\\n                \\n                <div class=\"skip-link screen-reader-text\">\\n                    <a href=\"#content\" title=\"Skip to content\">Skip to content</a>\\n                </div>\\n\\n                \\n                <a id=\"close-python-network\" class=\"jump-link\" href=\"#python-network\" aria-hidden=\"true\">\\n                    <span aria-hidden=\"true\" class=\"icon-arrow-down\"><span>&#9660;</span></span> Close\\n                </a>\\n\\n                \\n\\n<ul class=\"menu\" role=\"tree\">\\n    \\n    <li class=\"python-meta current_item selectedcurrent_branch selected\">\\n        <a href=\"/\" title=\"The Python Programming Language\" class=\"current_item selectedcurrent_branch selected\">Python</a>\\n    </li>\\n    \\n    <li class=\"psf-meta \">\\n        <a href=\"https://www.python.org/psf/\" title=\"The Python Software Foundation\" >PSF</a>\\n    </li>\\n    \\n    <li class=\"docs-meta \">\\n        <a href=\"https://docs.python.org\" title=\"Python Documentation\" >Docs</a>\\n    </li>\\n    \\n    <li class=\"pypi-meta \">\\n        <a href=\"https://pypi.org/\" title=\"Python Package Index\" >PyPI</a>\\n    </li>\\n    \\n    <li class=\"jobs-meta \">\\n        <a href=\"/jobs/\" title=\"Python Job Board\" >Jobs</a>\\n    </li>\\n    \\n    <li class=\"shop-meta \">\\n        <a href=\"/community/\"  >Community</a>\\n    </li>\\n    \\n</ul>\\n\\n\\n                <a id=\"python-network\" class=\"jump-link\" href=\"#top\" aria-hidden=\"true\">\\n                    <span aria-hidden=\"true\" class=\"icon-arrow-up\"><span>&#9650;</span></span> The Python Network\\n                </a>\\n\\n            </nav>\\n\\n        </div>\\n\\n        <!-- Header elements -->\\n        <header class=\"main-header\" role=\"banner\">\\n            <div class=\"container\">\\n\\n                <h1 class=\"site-headline\">\\n                    <a href=\"/\"><img class=\"python-logo\" src=\"/static/img/python-logo.png\" alt=\"python&trade;\"></a>\\n                </h1>\\n\\n                <div class=\"options-bar-container do-not-print\">\\n                    <a href=\"https://psfmember.org/civicrm/contribute/transact?reset=1&id=2\" class=\"donate-button\">Donate</a>\\n                    <div class=\"options-bar\">\\n                        \\n                        <a id=\"site-map-link\" class=\"jump-to-menu\" href=\"#site-map\"><span class=\"menu-icon\">&equiv;</span> Menu</a><form class=\"search-the-site\" action=\"/search/\" method=\"get\">\\n                            <fieldset title=\"Search Python.org\">\\n\\n                                <span aria-hidden=\"true\" class=\"icon-search\"></span>\\n\\n                                <label class=\"screen-reader-text\" for=\"id-search-field\">Search This Site</label>\\n                                <input id=\"id-search-field\" name=\"q\" type=\"search\" role=\"textbox\" class=\"search-field\" placeholder=\"Search\" value=\"\" tabindex=\"1\">\\n\\n                                <button type=\"submit\" name=\"submit\" id=\"submit\" class=\"search-button\" title=\"Submit this Search\" tabindex=\"3\">\\n                                    GO\\n                                </button>\\n\\n                                \\n                                <!--[if IE]><input type=\"text\" style=\"display: none;\" disabled=\"disabled\" size=\"1\" tabindex=\"4\"><![endif]-->\\n\\n                            </fieldset>\\n                        </form><span class=\"breaker\"></span><div class=\"adjust-font-size\" aria-hidden=\"true\">\\n                            <ul class=\"navigation menu\" aria-label=\"Adjust Text Size on Page\">\\n                                <li class=\"tier-1 last\" aria-haspopup=\"true\">\\n                                    <a href=\"#\" class=\"action-trigger\"><strong><small>A</small> A</strong></a>\\n                                    <ul class=\"subnav menu\">\\n                                        <li class=\"tier-2 element-1\" role=\"treeitem\"><a class=\"text-shrink\" title=\"Make Text Smaller\" href=\"javascript:;\">Smaller</a></li>\\n                                        <li class=\"tier-2 element-2\" role=\"treeitem\"><a class=\"text-grow\" title=\"Make Text Larger\" href=\"javascript:;\">Larger</a></li>\\n                                        <li class=\"tier-2 element-3\" role=\"treeitem\"><a class=\"text-reset\" title=\"Reset any font size changes I have made\" href=\"javascript:;\">Reset</a></li>\\n                                    </ul>\\n                                </li>\\n                            </ul>\\n                        </div><div class=\"winkwink-nudgenudge\">\\n                            <ul class=\"navigation menu\" aria-label=\"Social Media Navigation\">\\n                                <li class=\"tier-1 last\" aria-haspopup=\"true\">\\n                                    <a href=\"#\" class=\"action-trigger\">Socialize</a>\\n                                    <ul class=\"subnav menu\">\\n                                        <li class=\"tier-2 element-1\" role=\"treeitem\"><a href=\"https://www.linkedin.com/company/python-software-foundation/\"><i aria-hidden=\"true\" class=\"fa fa-linkedin-square\"></i>LinkedIn</a></li>\\n                                        <li class=\"tier-2 element-2\" role=\"treeitem\"><a href=\"https://fosstodon.org/@ThePSF\"><span aria-hidden=\"true\" class=\"icon-mastodon\"></span>Mastodon</a></li>\\n                                        <li class=\"tier-2 element-3\" role=\"treeitem\"><a href=\"/community/irc/\"><span aria-hidden=\"true\" class=\"icon-freenode\"></span>Chat on IRC</a></li>\\n                                        <li class=\"tier-2 element-4\" role=\"treeitem\"><a href=\"https://twitter.com/ThePSF\"><span aria-hidden=\"true\" class=\"icon-twitter\"></span>Twitter</a></li>\\n                                    </ul>\\n                                </li>\\n                            </ul>\\n                        </div>\\n                        <span data-html-include=\"/authenticated\"></span>\\n                    </div><!-- end options-bar -->\\n                </div>\\n\\n                <nav id=\"mainnav\" class=\"python-navigation main-navigation do-not-print\" role=\"navigation\">\\n                    \\n                        \\n<ul class=\"navigation menu\" role=\"menubar\" aria-label=\"Main Navigation\">\\n  \\n    \\n    \\n    <li id=\"about\" class=\"tier-1 element-1  \" aria-haspopup=\"true\">\\n        <a href=\"/about/\" title=\"\" class=\"\">About</a>\\n        \\n            \\n\\n<ul class=\"subnav menu\" role=\"menu\" aria-hidden=\"true\">\\n    \\n        <li class=\"tier-2 element-1\" role=\"treeitem\"><a href=\"/about/apps/\" title=\"\">Applications</a></li>\\n    \\n        <li class=\"tier-2 element-2\" role=\"treeitem\"><a href=\"/about/quotes/\" title=\"\">Quotes</a></li>\\n    \\n        <li class=\"tier-2 element-3\" role=\"treeitem\"><a href=\"/about/gettingstarted/\" title=\"\">Getting Started</a></li>\\n    \\n        <li class=\"tier-2 element-4\" role=\"treeitem\"><a href=\"/about/help/\" title=\"\">Help</a></li>\\n    \\n        <li class=\"tier-2 element-5\" role=\"treeitem\"><a href=\"http://brochure.getpython.info/\" title=\"\">Python Brochure</a></li>\\n    \\n</ul>\\n\\n        \\n    </li>\\n    \\n    \\n    \\n    <li id=\"downloads\" class=\"tier-1 element-2  \" aria-haspopup=\"true\">\\n        <a href=\"/downloads/\" title=\"\" class=\"\">Downloads</a>\\n        \\n            \\n\\n<ul class=\"subnav menu\" role=\"menu\" aria-hidden=\"true\">\\n    \\n        <li class=\"tier-2 element-1\" role=\"treeitem\"><a href=\"/downloads/\" title=\"\">All releases</a></li>\\n    \\n        <li class=\"tier-2 element-2\" role=\"treeitem\"><a href=\"/downloads/source/\" title=\"\">Source code</a></li>\\n    \\n        <li class=\"tier-2 element-3\" role=\"treeitem\"><a href=\"/downloads/windows/\" title=\"\">Windows</a></li>\\n    \\n        <li class=\"tier-2 element-4\" role=\"treeitem\"><a href=\"/downloads/macos/\" title=\"\">macOS</a></li>\\n    \\n        <li class=\"tier-2 element-5\" role=\"treeitem\"><a href=\"/download/other/\" title=\"\">Other Platforms</a></li>\\n    \\n        <li class=\"tier-2 element-6\" role=\"treeitem\"><a href=\"https://docs.python.org/3/license.html\" title=\"\">License</a></li>\\n    \\n        <li class=\"tier-2 element-7\" role=\"treeitem\"><a href=\"/download/alternatives\" title=\"\">Alternative Implementations</a></li>\\n    \\n</ul>\\n\\n        \\n    </li>\\n    \\n    \\n    \\n    <li id=\"documentation\" class=\"tier-1 element-3  \" aria-haspopup=\"true\">\\n        <a href=\"/doc/\" title=\"\" class=\"\">Documentation</a>\\n        \\n            \\n\\n<ul class=\"subnav menu\" role=\"menu\" aria-hidden=\"true\">\\n    \\n        <li class=\"tier-2 element-1\" role=\"treeitem\"><a href=\"/doc/\" title=\"\">Docs</a></li>\\n    \\n        <li class=\"tier-2 element-2\" role=\"treeitem\"><a href=\"/doc/av\" title=\"\">Audio/Visual Talks</a></li>\\n    \\n        <li class=\"tier-2 element-3\" role=\"treeitem\"><a href=\"https://wiki.python.org/moin/BeginnersGuide\" title=\"\">Beginner&#x27;s Guide</a></li>\\n    \\n        <li class=\"tier-2 element-4\" role=\"treeitem\"><a href=\"https://devguide.python.org/\" title=\"\">Developer&#x27;s Guide</a></li>\\n    \\n        <li class=\"tier-2 element-5\" role=\"treeitem\"><a href=\"https://docs.python.org/faq/\" title=\"\">FAQ</a></li>\\n    \\n        <li class=\"tier-2 element-6\" role=\"treeitem\"><a href=\"http://wiki.python.org/moin/Languages\" title=\"\">Non-English Docs</a></li>\\n    \\n        <li class=\"tier-2 element-7\" role=\"treeitem\"><a href=\"https://peps.python.org\" title=\"\">PEP Index</a></li>\\n    \\n        <li class=\"tier-2 element-8\" role=\"treeitem\"><a href=\"https://wiki.python.org/moin/PythonBooks\" title=\"\">Python Books</a></li>\\n    \\n        <li class=\"tier-2 element-9\" role=\"treeitem\"><a href=\"/doc/essays/\" title=\"\">Python Essays</a></li>\\n    \\n</ul>\\n\\n        \\n    </li>\\n    \\n    \\n    \\n    <li id=\"community\" class=\"tier-1 element-4  \" aria-haspopup=\"true\">\\n        <a href=\"/community/\" title=\"\" class=\"\">Community</a>\\n        \\n            \\n\\n<ul class=\"subnav menu\" role=\"menu\" aria-hidden=\"true\">\\n    \\n        <li class=\"tier-2 element-1\" role=\"treeitem\"><a href=\"/community/diversity/\" title=\"\">Diversity</a></li>\\n    \\n        <li class=\"tier-2 element-2\" role=\"treeitem\"><a href=\"/community/lists/\" title=\"\">Mailing Lists</a></li>\\n    \\n        <li class=\"tier-2 element-3\" role=\"treeitem\"><a href=\"/community/irc/\" title=\"\">IRC</a></li>\\n    \\n        <li class=\"tier-2 element-4\" role=\"treeitem\"><a href=\"/community/forums/\" title=\"\">Forums</a></li>\\n    \\n        <li class=\"tier-2 element-5\" role=\"treeitem\"><a href=\"/psf/annual-report/2021/\" title=\"\">PSF Annual Impact Report</a></li>\\n    \\n        <li class=\"tier-2 element-6\" role=\"treeitem\"><a href=\"/community/workshops/\" title=\"\">Python Conferences</a></li>\\n    \\n        <li class=\"tier-2 element-7\" role=\"treeitem\"><a href=\"/community/sigs/\" title=\"\">Special Interest Groups</a></li>\\n    \\n        <li class=\"tier-2 element-8\" role=\"treeitem\"><a href=\"/community/logos/\" title=\"\">Python Logo</a></li>\\n    \\n        <li class=\"tier-2 element-9\" role=\"treeitem\"><a href=\"https://wiki.python.org/moin/\" title=\"\">Python Wiki</a></li>\\n    \\n        <li class=\"tier-2 element-10\" role=\"treeitem\"><a href=\"/psf/conduct/\" title=\"\">Code of Conduct</a></li>\\n    \\n        <li class=\"tier-2 element-11\" role=\"treeitem\"><a href=\"/community/awards\" title=\"\">Community Awards</a></li>\\n    \\n        <li class=\"tier-2 element-12\" role=\"treeitem\"><a href=\"/psf/get-involved/\" title=\"\">Get Involved</a></li>\\n    \\n        <li class=\"tier-2 element-13\" role=\"treeitem\"><a href=\"/psf/community-stories/\" title=\"\">Shared Stories</a></li>\\n    \\n</ul>\\n\\n        \\n    </li>\\n    \\n    \\n    \\n    <li id=\"success-stories\" class=\"tier-1 element-5  \" aria-haspopup=\"true\">\\n        <a href=\"/success-stories/\" title=\"success-stories\" class=\"\">Success Stories</a>\\n        \\n            \\n\\n<ul class=\"subnav menu\" role=\"menu\" aria-hidden=\"true\">\\n    \\n        <li class=\"tier-2 element-1\" role=\"treeitem\"><a href=\"/success-stories/category/arts/\" title=\"\">Arts</a></li>\\n    \\n        <li class=\"tier-2 element-2\" role=\"treeitem\"><a href=\"/success-stories/category/business/\" title=\"\">Business</a></li>\\n    \\n        <li class=\"tier-2 element-3\" role=\"treeitem\"><a href=\"/success-stories/category/education/\" title=\"\">Education</a></li>\\n    \\n        <li class=\"tier-2 element-4\" role=\"treeitem\"><a href=\"/success-stories/category/engineering/\" title=\"\">Engineering</a></li>\\n    \\n        <li class=\"tier-2 element-5\" role=\"treeitem\"><a href=\"/success-stories/category/government/\" title=\"\">Government</a></li>\\n    \\n        <li class=\"tier-2 element-6\" role=\"treeitem\"><a href=\"/success-stories/category/scientific/\" title=\"\">Scientific</a></li>\\n    \\n        <li class=\"tier-2 element-7\" role=\"treeitem\"><a href=\"/success-stories/category/software-development/\" title=\"\">Software Development</a></li>\\n    \\n</ul>\\n\\n        \\n    </li>\\n    \\n    \\n    \\n    <li id=\"news\" class=\"tier-1 element-6  \" aria-haspopup=\"true\">\\n        <a href=\"/blogs/\" title=\"News from around the Python world\" class=\"\">News</a>\\n        \\n            \\n\\n<ul class=\"subnav menu\" role=\"menu\" aria-hidden=\"true\">\\n    \\n        <li class=\"tier-2 element-1\" role=\"treeitem\"><a href=\"/blogs/\" title=\"Python Insider Blog Posts\">Python News</a></li>\\n    \\n        <li class=\"tier-2 element-2\" role=\"treeitem\"><a href=\"/psf/newsletter/\" title=\"Python Software Foundation Newsletter\">PSF Newsletter</a></li>\\n    \\n        <li class=\"tier-2 element-3\" role=\"treeitem\"><a href=\"http://pyfound.blogspot.com/\" title=\"PSF Blog\">PSF News</a></li>\\n    \\n        <li class=\"tier-2 element-4\" role=\"treeitem\"><a href=\"http://pycon.blogspot.com/\" title=\"PyCon Blog\">PyCon US News</a></li>\\n    \\n        <li class=\"tier-2 element-5\" role=\"treeitem\"><a href=\"http://planetpython.org/\" title=\"Planet Python\">News from the Community</a></li>\\n    \\n</ul>\\n\\n        \\n    </li>\\n    \\n    \\n    \\n    <li id=\"events\" class=\"tier-1 element-7  \" aria-haspopup=\"true\">\\n        <a href=\"/events/\" title=\"\" class=\"\">Events</a>\\n        \\n            \\n\\n<ul class=\"subnav menu\" role=\"menu\" aria-hidden=\"true\">\\n    \\n        <li class=\"tier-2 element-1\" role=\"treeitem\"><a href=\"/events/python-events/\" title=\"\">Python Events</a></li>\\n    \\n        <li class=\"tier-2 element-2\" role=\"treeitem\"><a href=\"/events/python-user-group/\" title=\"\">User Group Events</a></li>\\n    \\n        <li class=\"tier-2 element-3\" role=\"treeitem\"><a href=\"/events/python-events/past/\" title=\"\">Python Events Archive</a></li>\\n    \\n        <li class=\"tier-2 element-4\" role=\"treeitem\"><a href=\"/events/python-user-group/past/\" title=\"\">User Group Events Archive</a></li>\\n    \\n        <li class=\"tier-2 element-5\" role=\"treeitem\"><a href=\"https://wiki.python.org/moin/PythonEventsCalendar#Submitting_an_Event\" title=\"\">Submit an Event</a></li>\\n    \\n</ul>\\n\\n        \\n    </li>\\n    \\n    \\n    \\n    \\n  \\n</ul>\\n\\n                    \\n                </nav>\\n\\n                <div class=\"header-banner \"> <!-- for optional \"do-not-print\" class -->\\n                    \\n        <div id=\"dive-into-python\" class=\"flex-slideshow slideshow\">\\n\\n            <ul class=\"launch-shell menu\" id=\"launch-shell\">\\n                <li>\\n                    <a class=\"button prompt\" id=\"start-shell\" data-shell-container=\"#dive-into-python\" href=\"/shell/\">&gt;_\\n                        <span class=\"message\">Launch Interactive Shell</span>\\n                    </a>\\n                </li>\\n            </ul>\\n\\n            <ul class=\"slides menu\">\\n                \\n                <li>\\n                    <div class=\"slide-code\"><pre><code><span class=\"comment\"># Python 3: Fibonacci series up to n</span>\\r\\n>>> def fib(n):\\r\\n>>>     a, b = 0, 1\\r\\n>>>     while a &lt; n:\\r\\n>>>         print(a, end=\\' \\')\\r\\n>>>         a, b = b, a+b\\r\\n>>>     print()\\r\\n>>> fib(1000)\\r\\n<span class=\"output\">0 1 1 2 3 5 8 13 21 34 55 89 144 233 377 610 987</span></code></pre></div>\\n                    <div class=\"slide-copy\"><h1>Functions Defined</h1>\\r\\n<p>The core of extensible programming is defining functions. Python allows mandatory and optional arguments, keyword arguments, and even arbitrary argument lists. <a href=\"//docs.python.org/3/tutorial/controlflow.html#defining-functions\">More about defining functions in Python&nbsp;3</a></p></div>\\n                </li>\\n                \\n                <li>\\n                    <div class=\"slide-code\"><pre><code><span class=\"comment\"># Python 3: List comprehensions</span>\\r\\n>>> fruits = [\\'Banana\\', \\'Apple\\', \\'Lime\\']\\r\\n>>> loud_fruits = [fruit.upper() for fruit in fruits]\\r\\n>>> print(loud_fruits)\\r\\n<span class=\"output\">[\\'BANANA\\', \\'APPLE\\', \\'LIME\\']</span>\\r\\n\\r\\n<span class=\"comment\"># List and the enumerate function</span>\\r\\n>>> list(enumerate(fruits))\\r\\n<span class=\"output\">[(0, \\'Banana\\'), (1, \\'Apple\\'), (2, \\'Lime\\')]</span></code></pre></div>\\n                    <div class=\"slide-copy\"><h1>Compound Data Types</h1>\\r\\n<p>Lists (known as arrays in other languages) are one of the compound data types that Python understands. Lists can be indexed, sliced and manipulated with other built-in functions. <a href=\"//docs.python.org/3/tutorial/introduction.html#lists\">More about lists in Python&nbsp;3</a></p></div>\\n                </li>\\n                \\n                <li>\\n                    <div class=\"slide-code\"><pre><code><span class=\"comment\"># Python 3: Simple arithmetic</span>\\r\\n>>> 1 / 2\\r\\n<span class=\"output\">0.5</span>\\r\\n>>> 2 ** 3\\r\\n<span class=\"output\">8</span>\\r\\n>>> 17 / 3  <span class=\"comment\"># classic division returns a float</span>\\r\\n<span class=\"output\">5.666666666666667</span>\\r\\n>>> 17 // 3  <span class=\"comment\"># floor division</span>\\r\\n<span class=\"output\">5</span></code></pre></div>\\n                    <div class=\"slide-copy\"><h1>Intuitive Interpretation</h1>\\r\\n<p>Calculations are simple with Python, and expression syntax is straightforward: the operators <code>+</code>, <code>-</code>, <code>*</code> and <code>/</code> work as expected; parentheses <code>()</code> can be used for grouping. <a href=\"http://docs.python.org/3/tutorial/introduction.html#using-python-as-a-calculator\">More about simple math functions in Python&nbsp;3</a>.</p></div>\\n                </li>\\n                \\n                <li>\\n                    <div class=\"slide-code\"><pre><code><span class=\"comment\"># For loop on a list</span>\\r\\n>>> numbers = [2, 4, 6, 8]\\r\\n>>> product = 1\\r\\n>>> for number in numbers:\\r\\n...    product = product * number\\r\\n... \\r\\n>>> print(\\'The product is:\\', product)\\r\\n<span class=\"output\">The product is: 384</span></code></pre></div>\\n                    <div class=\"slide-copy\"><h1>All the Flow You&rsquo;d Expect</h1>\\r\\n<p>Python knows the usual control flow statements that other languages speak &mdash; <code>if</code>, <code>for</code>, <code>while</code> and <code>range</code> &mdash; with some of its own twists, of course. <a href=\"//docs.python.org/3/tutorial/controlflow.html\">More control flow tools in Python&nbsp;3</a></p></div>\\n                </li>\\n                \\n                <li>\\n                    <div class=\"slide-code\"><pre><code><span class=\"comment\"># Simple output (with Unicode)</span>\\r\\n>>> print(\"Hello, I\\'m Python!\")\\r\\n<span class=\"output\">Hello, I\\'m Python!</span>\\r\\n<span class=\"comment\"># Input, assignment</span>\\r\\n>>> name = input(\\'What is your name?\\\\n\\')\\r\\n<span class=\"output\">What is your name?\\r\\nPython</span>\\r\\n>>> print(f\\'Hi, {name}.\\')\\r\\n<span class=\"output\">Hi, Python.</span></code>\\r\\n</pre></div>\\n                    <div class=\"slide-copy\"><h1>Quick &amp; Easy to Learn</h1>\\r\\n<p>Experienced programmers in any other language can pick up Python very quickly, and beginners find the clean syntax and indentation structure easy to learn. <a href=\"//docs.python.org/3/tutorial/\">Whet your appetite</a> with our Python&nbsp;3 overview.</p></div>\\n                </li>\\n                \\n            </ul>\\n        </div>\\n\\n\\n                </div>\\n\\n                \\n        <div class=\"introduction\">\\n            <p>Python is a programming language that lets you work quickly <span class=\"breaker\"></span>and integrate systems more effectively. <a class=\"readmore\" href=\"/doc/\">Learn More</a></p>\\n        </div>\\n\\n\\n             </div><!-- end .container -->\\n        </header>\\n\\n        <div id=\"content\" class=\"content-wrapper\">\\n            <!-- Main Content Column -->\\n            <div class=\"container\">\\n\\n                <section class=\"main-content \" role=\"main\">\\n\\n                    \\n                    \\n\\n                    \\n\\n                    \\n\\n                <div class=\"notification-bar notification-bar--survey\" style=\"background-color: #ffdf76; color: #664e04; border-color: #004d7a; text-align: center; background-color: #004d7a; color: #fff; padding: 10px; margin: .5em; position: relative; width: 95%; background-color: #ffdf76; color: #664e04; border-color: #004d7a; border-radius: 1em;\">\\n  <span class=\"notification-bar__icon\">\\n    <i class=\"fa fa-chart-line\" aria-hidden=\"true\"></i>\\n  </span>\\n  <span class=\"notification-bar__message\">⚡🐍⚡ Power Python with a 30% discount on PyCharm-  all proceeds go to the Python Software Foundation. Offer ends soon, so grab it today! &nbsp;&nbsp;<a class=\"button button--dark button--small button--primary\" style=\"color: #606060; border-color: #006dad; background-color: #006dad;\" href=\"https://lp.jetbrains.com/psf-q4-2024-fundraiser-3783/\"  target=\"_blank\" rel=\"noopener\">GET 30% OFF PYCHARM</a>\\n   </span>\\n</div>\\n\\n\\n                <div class=\"row\">\\n\\n                    <div class=\"small-widget get-started-widget\">\\n                        <h2 class=\"widget-title\"><span aria-hidden=\"true\" class=\"icon-get-started\"></span>Get Started</h2>\\r\\n<p>Whether you\\'re new to programming or an experienced developer, it\\'s easy to learn and use Python.</p>\\r\\n<p><a href=\"/about/gettingstarted/\">Start with our Beginner&rsquo;s Guide</a></p>\\n                    </div>\\n\\n                    <div class=\"small-widget download-widget\">\\n                        <h2 class=\"widget-title\"><span aria-hidden=\"true\" class=\"icon-download\"></span>Download</h2>\\n<p>Python source code and installers are available for download for all versions!</p>\\n<p>Latest: <a href=\"/downloads/release/python-3130/\">Python 3.13.0</a></p>\\n                    </div>\\n\\n                    <div class=\"small-widget documentation-widget\">\\n                        <h2 class=\"widget-title\"><span aria-hidden=\"true\" class=\"icon-documentation\"></span>Docs</h2>\\r\\n<p>Documentation for Python\\'s standard library, along with tutorials and guides, are available online.</p>\\r\\n<p><a href=\"https://docs.python.org\">docs.python.org</a></p>\\n                    </div>\\n\\n                    <div class=\"small-widget jobs-widget last\">\\n                        <h2 class=\"widget-title\"><span aria-hidden=\"true\" class=\"icon-jobs\"></span>Jobs</h2>\\r\\n<p>Looking for work or have a Python related position that you\\'re trying to hire for? Our <strong>relaunched community-run job board</strong> is the place to go.</p>\\r\\n<p><a href=\"//jobs.python.org\">jobs.python.org</a></p>\\n                    </div>\\n\\n                </div>\\n\\n                <div class=\"list-widgets row\">\\n\\n                    <div class=\"medium-widget blog-widget\">\\n                        \\n                        <div class=\"shrubbery\">\\n                        \\n                            <h2 class=\"widget-title\"><span aria-hidden=\"true\" class=\"icon-news\"></span>Latest News</h2>\\n                            <p class=\"give-me-more\"><a href=\"https://blog.python.org\" title=\"More News\">More</a></p>\\n                            \\n                            <ul class=\"menu\">\\n                                \\n                                \\n                                <li>\\n<time datetime=\"2024-11-19T21:03:00.000001+00:00\"><span class=\"say-no-more\">2024-</span>11-19</time>\\n <a href=\"https://pythoninsider.blogspot.com/2024/11/python-3140-alpha-2-released.html\">Python 3.14.0 alpha 2 released</a></li>\\n                                \\n                                <li>\\n<time datetime=\"2024-11-18T14:56:00+00:00\"><span class=\"say-no-more\">2024-</span>11-18</time>\\n <a href=\"https://pyfound.blogspot.com/2024/11/help-power-python-2024-fundraiser.html\">Help power Python and join in the PSF year-end fundraiser &amp; membership drive!</a></li>\\n                                \\n                                <li>\\n<time datetime=\"2024-11-07T15:58:00.000003+00:00\"><span class=\"say-no-more\">2024-</span>11-07</time>\\n <a href=\"https://pyfound.blogspot.com/2024/11/psf-grants-program-updates-part2.html\">PSF Grants Program Updates: Workgroup Charter, Future, &amp; Refresh (Part 2)</a></li>\\n                                \\n                                <li>\\n<time datetime=\"2024-11-07T15:56:00.000003+00:00\"><span class=\"say-no-more\">2024-</span>11-07</time>\\n <a href=\"https://pyfound.blogspot.com/2024/11/psf-grants-program-updates-part1.html\">PSF Grants Program Updates: Workgroup Charter, Future, &amp; Refresh (Part 1)</a></li>\\n                                \\n                                <li>\\n<time datetime=\"2024-11-01T19:03:00.000004+00:00\"><span class=\"say-no-more\">2024-</span>11-01</time>\\n <a href=\"https://pyfound.blogspot.com/2024/11/pycon-us-2025-kicks-off-website-cfp-and.html\">PyCon US 2025 Kicks Off: Website, CfP, and Sponsorship Now Open!</a></li>\\n                                \\n                            </ul>\\n                        </div><!-- end .shrubbery -->\\n\\n                    </div>\\n\\n                    <div class=\"medium-widget event-widget last\">\\n                        \\n                        <div class=\"shrubbery\">\\n                        \\n                            <h2 class=\"widget-title\"><span aria-hidden=\"true\" class=\"icon-calendar\"></span>Upcoming Events</h2>\\n                            <p class=\"give-me-more\"><a href=\"/events/calendars/\" title=\"More Events\">More</a></p>\\n                            \\n                            <ul class=\"menu\">\\n                                \\n                                \\n                                \\n                                <li>\\n<time datetime=\"2024-11-25T00:00:00+00:00\"><span class=\"say-no-more\">2024-</span>11-25</time>\\n <a href=\"/events/python-events/1731/\">Plone Conference 2024</a></li>\\n                                \\n                                \\n                                \\n                                <li>\\n<time datetime=\"2024-11-25T19:00:00+00:00\"><span class=\"say-no-more\">2024-</span>11-25</time>\\n <a href=\"/events/python-user-group/1872/\">London Algorithmic Trading: How to code, configure and deploy a Market Making bot</a></li>\\n                                \\n                                \\n                                \\n                                <li>\\n<time datetime=\"2024-11-30T00:00:00+00:00\"><span class=\"say-no-more\">2024-</span>11-30</time>\\n <a href=\"/events/python-events/1875/\">PyDay Togo 2024</a></li>\\n                                \\n                                \\n                                \\n                                <li>\\n<time datetime=\"2024-11-30T00:00:00+00:00\"><span class=\"say-no-more\">2024-</span>11-30</time>\\n <a href=\"/events/python-events/1829/\">PyCon Wroclaw 2024</a></li>\\n                                \\n                                \\n                                \\n                                <li>\\n<time datetime=\"2024-12-03T00:00:00+00:00\"><span class=\"say-no-more\">2024-</span>12-03</time>\\n <a href=\"/events/python-events/1860/\">PyData Global 2024</a></li>\\n                                \\n                                \\n                            </ul>\\n                        </div>\\n\\n                    </div>\\n\\n                </div>\\n\\n                <div class=\"row\">\\n\\n                    <div class=\"medium-widget success-stories-widget\">\\n                        \\n\\n\\n\\n                        <div class=\"shrubbery\">\\n                            \\n\\n                            <h2 class=\"widget-title\"><span aria-hidden=\"true\" class=\"icon-success-stories\"></span>Success Stories</h2>\\n                            <p class=\"give-me-more\"><a href=\"/success-stories/\" title=\"More Success Stories\">More</a></p>\\n\\n                            \\n                            <div class=\"success-story-item\" id=\"success-story-838\">\\n\\n                            <blockquote>\\n                                <a href=\"/success-stories/saving-the-world-with-open-data-and-python/\">When an Open Data standard is created and promoted, it’s important to think why - what change is this trying to drive? What will people do with this data that they couldn’t do before?</a>\\n                            </blockquote>\\n\\n                            <table cellpadding=\"0\" cellspacing=\"0\" border=\"0\" width=\"100%\" class=\"quote-from\">\\n                                <tbody>\\n                                    <tr>\\n                                        \\n                                        <td><p><a href=\"/success-stories/saving-the-world-with-open-data-and-python/\">Saving the world with Open Data and Python</a> <em>by James Baster</em></p></td>\\n                                    </tr>\\n                                </tbody>\\n                            </table>\\n                            </div>\\n                            \\n\\n                        </div><!-- end .shrubbery -->\\n\\n                    </div>\\n\\n                    <div class=\"medium-widget applications-widget last\">\\n                        <div class=\"shrubbery\">\\n                            <h2 class=\"widget-title\"><span aria-hidden=\"true\" class=\"icon-python\"></span>Use Python for&hellip;</h2>\\r\\n<p class=\"give-me-more\"><a href=\"/about/apps\" title=\"More Applications\">More</a></p>\\r\\n\\r\\n<ul class=\"menu\">\\r\\n    <li><b>Web Development</b>:\\r\\n        <span class=\"tag-wrapper\"><a class=\"tag\" href=\"http://www.djangoproject.com/\">Django</a>, <a class=\"tag\" href=\"http://www.pylonsproject.org/\">Pyramid</a>, <a class=\"tag\" href=\"http://bottlepy.org\">Bottle</a>, <a class=\"tag\" href=\"http://tornadoweb.org\">Tornado</a>, <a href=\"http://flask.pocoo.org/\" class=\"tag\">Flask</a>, <a class=\"tag\" href=\"http://www.web2py.com/\">web2py</a></span></li>\\r\\n    <li><b>GUI Development</b>:\\r\\n        <span class=\"tag-wrapper\"><a class=\"tag\" href=\"http://wiki.python.org/moin/TkInter\">tkInter</a>, <a class=\"tag\" href=\"https://wiki.gnome.org/Projects/PyGObject\">PyGObject</a>, <a class=\"tag\" href=\"http://www.riverbankcomputing.co.uk/software/pyqt/intro\">PyQt</a>, <a class=\"tag\" href=\"https://wiki.qt.io/PySide\">PySide</a>, <a class=\"tag\" href=\"https://kivy.org/\">Kivy</a>, <a class=\"tag\" href=\"http://www.wxpython.org/\">wxPython</a>, <a class=\"tag\" href=\"https://dearpygui.readthedocs.io/en/latest/\">DearPyGui</a></span></li>\\r\\n    <li><b>Scientific and Numeric</b>:\\r\\n        <span class=\"tag-wrapper\">\\r\\n<a class=\"tag\" href=\"http://www.scipy.org\">SciPy</a>, <a class=\"tag\" href=\"http://pandas.pydata.org/\">Pandas</a>, <a href=\"http://ipython.org\" class=\"tag\">IPython</a></span></li>\\r\\n    <li><b>Software Development</b>:\\r\\n        <span class=\"tag-wrapper\"><a class=\"tag\" href=\"http://buildbot.net/\">Buildbot</a>, <a class=\"tag\" href=\"http://trac.edgewall.org/\">Trac</a>, <a class=\"tag\" href=\"http://roundup.sourceforge.net/\">Roundup</a></span></li>\\r\\n    <li><b>System Administration</b>:\\r\\n        <span class=\"tag-wrapper\"><a class=\"tag\" href=\"http://www.ansible.com\">Ansible</a>, <a class=\"tag\" href=\"https://saltproject.io\">Salt</a>, <a class=\"tag\" href=\"https://www.openstack.org\">OpenStack</a>, <a class=\"tag\" href=\"https://xon.sh\">xonsh</a></span></li>\\r\\n</ul>\\n                        </div><!-- end .shrubbery -->\\n                    </div>\\n\\n                </div>\\n\\n                                <div class=\"psf-widget\">\\n\\n                    <div class=\"python-logo\"></div>\\n                    \\n                    <h2 class=\"widget-title\">\\r\\n    <span class=\"prompt\">&gt;&gt;&gt;</span> <a href=\"/psf/\">Python Software Foundation</a>\\r\\n</h2>\\r\\n<p>The mission of the Python Software Foundation is to promote, protect, and advance the Python programming language, and to support and facilitate the growth of a diverse and international community of Python programmers. <a class=\"readmore\" href=\"/psf/\">Learn more</a> </p>\\r\\n<p class=\"click-these\">\\r\\n    <a class=\"button\" href=\"/users/membership/\">Become a Member</a>\\r\\n    <a class=\"button\" href=\"/psf/donations/\">Donate to the PSF</a>\\r\\n</p>\\n                </div>\\n\\n\\n\\n\\n                </section>\\n\\n                \\n                \\n\\n                \\n                \\n\\n\\n            </div><!-- end .container -->\\n        </div><!-- end #content .content-wrapper -->\\n\\n        <!-- Footer and social media list -->\\n        \\n        <footer id=\"site-map\" class=\"main-footer\" role=\"contentinfo\">\\n            <div class=\"main-footer-links\">\\n                <div class=\"container\">\\n\\n                    \\n                    <a id=\"back-to-top-1\" class=\"jump-link\" href=\"#python-network\"><span aria-hidden=\"true\" class=\"icon-arrow-up\"><span>&#9650;</span></span> Back to Top</a>\\n\\n                    \\n\\n<ul class=\"sitemap navigation menu do-not-print\" role=\"tree\" id=\"container\">\\n    \\n    <li class=\"tier-1 element-1\">\\n        <a href=\"/about/\" >About</a>\\n        \\n            \\n\\n<ul class=\"subnav menu\">\\n    \\n        <li class=\"tier-2 element-1\" role=\"treeitem\"><a href=\"/about/apps/\" title=\"\">Applications</a></li>\\n    \\n        <li class=\"tier-2 element-2\" role=\"treeitem\"><a href=\"/about/quotes/\" title=\"\">Quotes</a></li>\\n    \\n        <li class=\"tier-2 element-3\" role=\"treeitem\"><a href=\"/about/gettingstarted/\" title=\"\">Getting Started</a></li>\\n    \\n        <li class=\"tier-2 element-4\" role=\"treeitem\"><a href=\"/about/help/\" title=\"\">Help</a></li>\\n    \\n        <li class=\"tier-2 element-5\" role=\"treeitem\"><a href=\"http://brochure.getpython.info/\" title=\"\">Python Brochure</a></li>\\n    \\n</ul>\\n\\n        \\n    </li>\\n    \\n    <li class=\"tier-1 element-2\">\\n        <a href=\"/downloads/\" >Downloads</a>\\n        \\n            \\n\\n<ul class=\"subnav menu\">\\n    \\n        <li class=\"tier-2 element-1\" role=\"treeitem\"><a href=\"/downloads/\" title=\"\">All releases</a></li>\\n    \\n        <li class=\"tier-2 element-2\" role=\"treeitem\"><a href=\"/downloads/source/\" title=\"\">Source code</a></li>\\n    \\n        <li class=\"tier-2 element-3\" role=\"treeitem\"><a href=\"/downloads/windows/\" title=\"\">Windows</a></li>\\n    \\n        <li class=\"tier-2 element-4\" role=\"treeitem\"><a href=\"/downloads/macos/\" title=\"\">macOS</a></li>\\n    \\n        <li class=\"tier-2 element-5\" role=\"treeitem\"><a href=\"/download/other/\" title=\"\">Other Platforms</a></li>\\n    \\n        <li class=\"tier-2 element-6\" role=\"treeitem\"><a href=\"https://docs.python.org/3/license.html\" title=\"\">License</a></li>\\n    \\n        <li class=\"tier-2 element-7\" role=\"treeitem\"><a href=\"/download/alternatives\" title=\"\">Alternative Implementations</a></li>\\n    \\n</ul>\\n\\n        \\n    </li>\\n    \\n    <li class=\"tier-1 element-3\">\\n        <a href=\"/doc/\" >Documentation</a>\\n        \\n            \\n\\n<ul class=\"subnav menu\">\\n    \\n        <li class=\"tier-2 element-1\" role=\"treeitem\"><a href=\"/doc/\" title=\"\">Docs</a></li>\\n    \\n        <li class=\"tier-2 element-2\" role=\"treeitem\"><a href=\"/doc/av\" title=\"\">Audio/Visual Talks</a></li>\\n    \\n        <li class=\"tier-2 element-3\" role=\"treeitem\"><a href=\"https://wiki.python.org/moin/BeginnersGuide\" title=\"\">Beginner&#x27;s Guide</a></li>\\n    \\n        <li class=\"tier-2 element-4\" role=\"treeitem\"><a href=\"https://devguide.python.org/\" title=\"\">Developer&#x27;s Guide</a></li>\\n    \\n        <li class=\"tier-2 element-5\" role=\"treeitem\"><a href=\"https://docs.python.org/faq/\" title=\"\">FAQ</a></li>\\n    \\n        <li class=\"tier-2 element-6\" role=\"treeitem\"><a href=\"http://wiki.python.org/moin/Languages\" title=\"\">Non-English Docs</a></li>\\n    \\n        <li class=\"tier-2 element-7\" role=\"treeitem\"><a href=\"https://peps.python.org\" title=\"\">PEP Index</a></li>\\n    \\n        <li class=\"tier-2 element-8\" role=\"treeitem\"><a href=\"https://wiki.python.org/moin/PythonBooks\" title=\"\">Python Books</a></li>\\n    \\n        <li class=\"tier-2 element-9\" role=\"treeitem\"><a href=\"/doc/essays/\" title=\"\">Python Essays</a></li>\\n    \\n</ul>\\n\\n        \\n    </li>\\n    \\n    <li class=\"tier-1 element-4\">\\n        <a href=\"/community/\" >Community</a>\\n        \\n            \\n\\n<ul class=\"subnav menu\">\\n    \\n        <li class=\"tier-2 element-1\" role=\"treeitem\"><a href=\"/community/diversity/\" title=\"\">Diversity</a></li>\\n    \\n        <li class=\"tier-2 element-2\" role=\"treeitem\"><a href=\"/community/lists/\" title=\"\">Mailing Lists</a></li>\\n    \\n        <li class=\"tier-2 element-3\" role=\"treeitem\"><a href=\"/community/irc/\" title=\"\">IRC</a></li>\\n    \\n        <li class=\"tier-2 element-4\" role=\"treeitem\"><a href=\"/community/forums/\" title=\"\">Forums</a></li>\\n    \\n        <li class=\"tier-2 element-5\" role=\"treeitem\"><a href=\"/psf/annual-report/2021/\" title=\"\">PSF Annual Impact Report</a></li>\\n    \\n        <li class=\"tier-2 element-6\" role=\"treeitem\"><a href=\"/community/workshops/\" title=\"\">Python Conferences</a></li>\\n    \\n        <li class=\"tier-2 element-7\" role=\"treeitem\"><a href=\"/community/sigs/\" title=\"\">Special Interest Groups</a></li>\\n    \\n        <li class=\"tier-2 element-8\" role=\"treeitem\"><a href=\"/community/logos/\" title=\"\">Python Logo</a></li>\\n    \\n        <li class=\"tier-2 element-9\" role=\"treeitem\"><a href=\"https://wiki.python.org/moin/\" title=\"\">Python Wiki</a></li>\\n    \\n        <li class=\"tier-2 element-10\" role=\"treeitem\"><a href=\"/psf/conduct/\" title=\"\">Code of Conduct</a></li>\\n    \\n        <li class=\"tier-2 element-11\" role=\"treeitem\"><a href=\"/community/awards\" title=\"\">Community Awards</a></li>\\n    \\n        <li class=\"tier-2 element-12\" role=\"treeitem\"><a href=\"/psf/get-involved/\" title=\"\">Get Involved</a></li>\\n    \\n        <li class=\"tier-2 element-13\" role=\"treeitem\"><a href=\"/psf/community-stories/\" title=\"\">Shared Stories</a></li>\\n    \\n</ul>\\n\\n        \\n    </li>\\n    \\n    <li class=\"tier-1 element-5\">\\n        <a href=\"/success-stories/\" title=\"success-stories\">Success Stories</a>\\n        \\n            \\n\\n<ul class=\"subnav menu\">\\n    \\n        <li class=\"tier-2 element-1\" role=\"treeitem\"><a href=\"/success-stories/category/arts/\" title=\"\">Arts</a></li>\\n    \\n        <li class=\"tier-2 element-2\" role=\"treeitem\"><a href=\"/success-stories/category/business/\" title=\"\">Business</a></li>\\n    \\n        <li class=\"tier-2 element-3\" role=\"treeitem\"><a href=\"/success-stories/category/education/\" title=\"\">Education</a></li>\\n    \\n        <li class=\"tier-2 element-4\" role=\"treeitem\"><a href=\"/success-stories/category/engineering/\" title=\"\">Engineering</a></li>\\n    \\n        <li class=\"tier-2 element-5\" role=\"treeitem\"><a href=\"/success-stories/category/government/\" title=\"\">Government</a></li>\\n    \\n        <li class=\"tier-2 element-6\" role=\"treeitem\"><a href=\"/success-stories/category/scientific/\" title=\"\">Scientific</a></li>\\n    \\n        <li class=\"tier-2 element-7\" role=\"treeitem\"><a href=\"/success-stories/category/software-development/\" title=\"\">Software Development</a></li>\\n    \\n</ul>\\n\\n        \\n    </li>\\n    \\n    <li class=\"tier-1 element-6\">\\n        <a href=\"/blogs/\" title=\"News from around the Python world\">News</a>\\n        \\n            \\n\\n<ul class=\"subnav menu\">\\n    \\n        <li class=\"tier-2 element-1\" role=\"treeitem\"><a href=\"/blogs/\" title=\"Python Insider Blog Posts\">Python News</a></li>\\n    \\n        <li class=\"tier-2 element-2\" role=\"treeitem\"><a href=\"/psf/newsletter/\" title=\"Python Software Foundation Newsletter\">PSF Newsletter</a></li>\\n    \\n        <li class=\"tier-2 element-3\" role=\"treeitem\"><a href=\"http://pyfound.blogspot.com/\" title=\"PSF Blog\">PSF News</a></li>\\n    \\n        <li class=\"tier-2 element-4\" role=\"treeitem\"><a href=\"http://pycon.blogspot.com/\" title=\"PyCon Blog\">PyCon US News</a></li>\\n    \\n        <li class=\"tier-2 element-5\" role=\"treeitem\"><a href=\"http://planetpython.org/\" title=\"Planet Python\">News from the Community</a></li>\\n    \\n</ul>\\n\\n        \\n    </li>\\n    \\n    <li class=\"tier-1 element-7\">\\n        <a href=\"/events/\" >Events</a>\\n        \\n            \\n\\n<ul class=\"subnav menu\">\\n    \\n        <li class=\"tier-2 element-1\" role=\"treeitem\"><a href=\"/events/python-events/\" title=\"\">Python Events</a></li>\\n    \\n        <li class=\"tier-2 element-2\" role=\"treeitem\"><a href=\"/events/python-user-group/\" title=\"\">User Group Events</a></li>\\n    \\n        <li class=\"tier-2 element-3\" role=\"treeitem\"><a href=\"/events/python-events/past/\" title=\"\">Python Events Archive</a></li>\\n    \\n        <li class=\"tier-2 element-4\" role=\"treeitem\"><a href=\"/events/python-user-group/past/\" title=\"\">User Group Events Archive</a></li>\\n    \\n        <li class=\"tier-2 element-5\" role=\"treeitem\"><a href=\"https://wiki.python.org/moin/PythonEventsCalendar#Submitting_an_Event\" title=\"\">Submit an Event</a></li>\\n    \\n</ul>\\n\\n        \\n    </li>\\n    \\n    <li class=\"tier-1 element-8\">\\n        <a href=\"/dev/\" >Contributing</a>\\n        \\n            \\n\\n<ul class=\"subnav menu\">\\n    \\n        <li class=\"tier-2 element-1\" role=\"treeitem\"><a href=\"https://devguide.python.org/\" title=\"\">Developer&#x27;s Guide</a></li>\\n    \\n        <li class=\"tier-2 element-2\" role=\"treeitem\"><a href=\"https://github.com/python/cpython/issues\" title=\"\">Issue Tracker</a></li>\\n    \\n        <li class=\"tier-2 element-3\" role=\"treeitem\"><a href=\"https://mail.python.org/mailman/listinfo/python-dev\" title=\"\">python-dev list</a></li>\\n    \\n        <li class=\"tier-2 element-4\" role=\"treeitem\"><a href=\"/dev/core-mentorship/\" title=\"\">Core Mentorship</a></li>\\n    \\n        <li class=\"tier-2 element-5\" role=\"treeitem\"><a href=\"/dev/security/\" title=\"\">Report a Security Issue</a></li>\\n    \\n</ul>\\n\\n        \\n    </li>\\n    \\n</ul>\\n\\n\\n                    <a id=\"back-to-top-2\" class=\"jump-link\" href=\"#python-network\"><span aria-hidden=\"true\" class=\"icon-arrow-up\"><span>&#9650;</span></span> Back to Top</a>\\n                    \\n\\n                </div><!-- end .container -->\\n            </div> <!-- end .main-footer-links -->\\n\\n            <div class=\"site-base\">\\n                <div class=\"container\">\\n                    \\n                    <ul class=\"footer-links navigation menu do-not-print\" role=\"tree\">\\n                        <li class=\"tier-1 element-1\"><a href=\"/about/help/\">Help &amp; <span class=\"say-no-more\">General</span> Contact</a></li>\\n                        <li class=\"tier-1 element-2\"><a href=\"/community/diversity/\">Diversity <span class=\"say-no-more\">Initiatives</span></a></li>\\n                        <li class=\"tier-1 element-3\"><a href=\"https://github.com/python/pythondotorg/issues\">Submit Website Bug</a></li>\\n                        <li class=\"tier-1 element-4\">\\n                            <a href=\"https://status.python.org/\">Status <span class=\"python-status-indicator-default\" id=\"python-status-indicator\"></span></a>\\n                        </li>\\n                    </ul>\\n\\n                    <div class=\"copyright\">\\n                        <p><small>\\n                            <span class=\"pre\">Copyright &copy;2001-2024.</span>\\n                            &nbsp;<span class=\"pre\"><a href=\"/psf-landing/\">Python Software Foundation</a></span>\\n                            &nbsp;<span class=\"pre\"><a href=\"/about/legal/\">Legal Statements</a></span>\\n                            &nbsp;<span class=\"pre\"><a href=\"https://policies.python.org/python.org/Privacy-Notice/\">Privacy Notice</a></span>\\n                            <!--&nbsp;<span class=\"pre\"><a href=\"/psf/community-infrastructure\">Powered by PSF Community Infrastructure</a></span>-->\\n                        </small></p>\\n                    </div>\\n\\n                </div><!-- end .container -->\\n            </div><!-- end .site-base -->\\n\\n        </footer>\\n        \\n\\n    </div><!-- end #touchnav-wrapper -->\\n\\n    \\n    <script src=\"//ajax.googleapis.com/ajax/libs/jquery/1.8.2/jquery.min.js\"></script>\\n    <script>window.jQuery || document.write(\\'<script src=\"/static/js/libs/jquery-1.8.2.min.js\"><\\\\/script>\\')</script>\\n    <script src=\"//ajax.googleapis.com/ajax/libs/jqueryui/1.12.1/jquery-ui.min.js\"></script>\\n    <script>window.jQuery || document.write(\\'<script src=\"/static/js/libs/jquery-ui-1.12.1.min.js\"><\\\\/script>\\')</script>\\n\\n    <script src=\"/static/js/libs/masonry.pkgd.min.js\"></script>\\n    <script src=\"/static/js/libs/html-includes.js\"></script>\\n\\n    <script type=\"text/javascript\" src=\"/static/js/main-min.f5487accf7ed.js\" charset=\"utf-8\"></script>\\n    \\n\\n    <!--[if lte IE 7]>\\n    <script type=\"text/javascript\" src=\"/static/js/plugins/IE8-min.8af6e26c7a3b.js\" charset=\"utf-8\"></script>\\n    \\n    \\n    <![endif]-->\\n\\n    <!--[if lte IE 8]>\\n    <script type=\"text/javascript\" src=\"/static/js/plugins/getComputedStyle-min.d41d8cd98f00.js\" charset=\"utf-8\"></script>\\n    \\n    \\n    <![endif]-->\\n\\n    \\n\\n    \\n    \\n\\n</body>\\n</html>\\n'"
      ]
     },
     "execution_count": 16,
     "metadata": {},
     "output_type": "execute_result"
    }
   ],
   "source": [
    "res.text"
   ]
  },
  {
   "cell_type": "code",
   "execution_count": 17,
   "metadata": {},
   "outputs": [
    {
     "data": {
      "text/plain": [
       "b'<!doctype html>\\n<!--[if lt IE 7]>   <html class=\"no-js ie6 lt-ie7 lt-ie8 lt-ie9\">   <![endif]-->\\n<!--[if IE 7]>      <html class=\"no-js ie7 lt-ie8 lt-ie9\">          <![endif]-->\\n<!--[if IE 8]>      <html class=\"no-js ie8 lt-ie9\">                 <![endif]-->\\n<!--[if gt IE 8]><!--><html class=\"no-js\" lang=\"en\" dir=\"ltr\">  <!--<![endif]-->\\n\\n<head>\\n    <!-- Google tag (gtag.js) -->\\n    <script async src=\"https://www.googletagmanager.com/gtag/js?id=G-TF35YF9CVH\"></script>\\n    <script>\\n      window.dataLayer = window.dataLayer || [];\\n      function gtag(){dataLayer.push(arguments);}\\n      gtag(\\'js\\', new Date());\\n      gtag(\\'config\\', \\'G-TF35YF9CVH\\');\\n    </script>\\n    <!-- Plausible.io analytics -->\\n    <script defer data-domain=\"python.org\" src=\"https://plausible.io/js/script.js\"></script>\\n\\n    <meta charset=\"utf-8\">\\n    <meta http-equiv=\"X-UA-Compatible\" content=\"IE=edge\">\\n\\n    <link rel=\"prefetch\" href=\"//ajax.googleapis.com/ajax/libs/jquery/1.8.2/jquery.min.js\">\\n    <link rel=\"prefetch\" href=\"//ajax.googleapis.com/ajax/libs/jqueryui/1.12.1/jquery-ui.min.js\">\\n\\n    <meta name=\"application-name\" content=\"Python.org\">\\n    <meta name=\"msapplication-tooltip\" content=\"The official home of the Python Programming Language\">\\n    <meta name=\"apple-mobile-web-app-title\" content=\"Python.org\">\\n    <meta name=\"apple-mobile-web-app-capable\" content=\"yes\">\\n    <meta name=\"apple-mobile-web-app-status-bar-style\" content=\"black\">\\n\\n    <meta name=\"viewport\" content=\"width=device-width, initial-scale=1.0\">\\n    <meta name=\"HandheldFriendly\" content=\"True\">\\n    <meta name=\"format-detection\" content=\"telephone=no\">\\n    <meta http-equiv=\"cleartype\" content=\"on\">\\n    <meta http-equiv=\"imagetoolbar\" content=\"false\">\\n\\n    <script async\\n            src=\"https://media.ethicalads.io/media/client/v1.4.0/ethicalads.min.js\"\\n            integrity=\"sha256-U3hKDidudIaxBDEzwGJApJgPEf2mWk6cfMWghrAa6i0= sha384-UcmsCqcNRSLW/dV3Lo1oCi2/VaurXbib6p4HyUEOeIa/4OpsrnucrugAefzVZJfI sha512-q4t1L4xEjGV2R4hzqCa41P8jrgFUS8xTb8rdNv4FGvw7FpydVj/kkxBJHOiaoxHa8olCcx1Slk9K+3sNbsM4ug==\"\\n            crossorigin=\"anonymous\"\\n    ></script>\\n    <script src=\"/static/js/libs/modernizr.js\"></script>\\n\\n    <link href=\"/static/stylesheets/style.08a078d0aa02.css\" rel=\"stylesheet\" type=\"text/css\" media=\"all\" title=\"default\" />\\n    <link href=\"/static/stylesheets/mq.31ede2afc427.css\" rel=\"stylesheet\" type=\"text/css\" media=\"not print, braille, embossed, speech, tty\" />\\n    <link href=\"/static/stylesheets/no-mq.bf0c425cdb73.css\" rel=\"stylesheet\" type=\"text/css\" media=\"screen\" />\\n    \\n\\n    <!--[if (lte IE 8)&(!IEMobile)]>\\n    <link href=\"/static/stylesheets/no-mq.bf0c425cdb73.css\" rel=\"stylesheet\" type=\"text/css\" media=\"screen\" />\\n    \\n    \\n    <![endif]-->\\n    <link rel=\"stylesheet\" href=\"//ajax.googleapis.com/ajax/libs/jqueryui/1.12.1/themes/smoothness/jquery-ui.css\">\\n\\n    \\n    <link rel=\"icon\" type=\"image/x-icon\" href=\"/static/favicon.ico\">\\n    <link rel=\"apple-touch-icon-precomposed\" sizes=\"144x144\" href=\"/static/apple-touch-icon-144x144-precomposed.png\">\\n    <link rel=\"apple-touch-icon-precomposed\" sizes=\"114x114\" href=\"/static/apple-touch-icon-114x114-precomposed.png\">\\n    <link rel=\"apple-touch-icon-precomposed\" sizes=\"72x72\" href=\"/static/apple-touch-icon-72x72-precomposed.png\">\\n    <link rel=\"apple-touch-icon-precomposed\" href=\"/static/apple-touch-icon-precomposed.png\">\\n    <link rel=\"apple-touch-icon\" href=\"/static/apple-touch-icon-precomposed.png\">\\n\\n    \\n    <meta name=\"msapplication-TileImage\" content=\"/static/metro-icon-144x144.png\"><!-- white shape -->\\n    <meta name=\"msapplication-TileColor\" content=\"#3673a5\"><!-- python blue -->\\n    <meta name=\"msapplication-navbutton-color\" content=\"#3673a5\">\\n\\n    <title>Welcome to Python.org</title>\\n\\n    <meta name=\"description\" content=\"The official home of the Python Programming Language\">\\n    <meta name=\"keywords\" content=\"Python programming language object oriented web free open source software license documentation download community\">\\n\\n    \\n    <meta property=\"og:type\" content=\"website\">\\n    <meta property=\"og:site_name\" content=\"Python.org\">\\n    <meta property=\"og:title\" content=\"Welcome to Python.org\">\\n    <meta property=\"og:description\" content=\"The official home of the Python Programming Language\">\\n    \\n    <meta property=\"og:image\" content=\"https://www.python.org/static/opengraph-icon-200x200.png\">\\n    <meta property=\"og:image:secure_url\" content=\"https://www.python.org/static/opengraph-icon-200x200.png\">\\n    \\n    <meta property=\"og:url\" content=\"https://www.python.org/\">\\n\\n    <link rel=\"author\" href=\"/humans.txt\">\\n\\n    <link rel=\"alternate\" type=\"application/rss+xml\" title=\"Python Enhancement Proposals\"\\n          href=\"https://peps.python.org/peps.rss\">\\n    <link rel=\"alternate\" type=\"application/rss+xml\" title=\"Python Job Opportunities\"\\n          href=\"https://www.python.org/jobs/feed/rss/\">\\n    <link rel=\"alternate\" type=\"application/rss+xml\" title=\"Python Software Foundation News\"\\n          href=\"https://feeds.feedburner.com/PythonSoftwareFoundationNews\">\\n    <link rel=\"alternate\" type=\"application/rss+xml\" title=\"Python Insider\"\\n          href=\"https://feeds.feedburner.com/PythonInsider\">\\n   <link rel=\"alternate\" type=\"application/rss+xml\" title=\"Python Releases\"\\n         href=\"https://www.python.org/downloads/feed.rss\">\\n\\n    \\n\\n    \\n    <script type=\"application/ld+json\">\\n     {\\n       \"@context\": \"https://schema.org\",\\n       \"@type\": \"WebSite\",\\n       \"url\": \"https://www.python.org/\",\\n       \"potentialAction\": {\\n         \"@type\": \"SearchAction\",\\n         \"target\": \"https://www.python.org/search/?q={search_term_string}\",\\n         \"query-input\": \"required name=search_term_string\"\\n       }\\n     }\\n    </script>\\n\\n    \\n    <script type=\"text/javascript\">\\n    var _gaq = _gaq || [];\\n    _gaq.push([\\'_setAccount\\', \\'UA-39055973-1\\']);\\n    _gaq.push([\\'_trackPageview\\']);\\n\\n    (function() {\\n        var ga = document.createElement(\\'script\\'); ga.type = \\'text/javascript\\'; ga.async = true;\\n        ga.src = (\\'https:\\' == document.location.protocol ? \\'https://ssl\\' : \\'http://www\\') + \\'.google-analytics.com/ga.js\\';\\n        var s = document.getElementsByTagName(\\'script\\')[0]; s.parentNode.insertBefore(ga, s);\\n    })();\\n    </script>\\n    \\n</head>\\n\\n<body class=\"python home\" id=\"homepage\">\\n\\n    <div id=\"touchnav-wrapper\">\\n\\n        <div id=\"nojs\" class=\"do-not-print\">\\n            <p><strong>Notice:</strong> While JavaScript is not essential for this website, your interaction with the content will be limited. Please turn JavaScript on for the full experience. </p>\\n        </div>\\n\\n        <!--[if lte IE 8]>\\n        <div id=\"oldie-warning\" class=\"do-not-print\">\\n            <p>\\n                <strong>Notice:</strong> Your browser is <em>ancient</em>. Please\\n                <a href=\"http://browsehappy.com/\">upgrade to a different browser</a> to experience a better web.\\n            </p>\\n        </div>\\n        <![endif]-->\\n\\n        <!-- Sister Site Links -->\\n        <div id=\"top\" class=\"top-bar do-not-print\">\\n\\n            <nav class=\"meta-navigation container\" role=\"navigation\">\\n\\n                \\n                <div class=\"skip-link screen-reader-text\">\\n                    <a href=\"#content\" title=\"Skip to content\">Skip to content</a>\\n                </div>\\n\\n                \\n                <a id=\"close-python-network\" class=\"jump-link\" href=\"#python-network\" aria-hidden=\"true\">\\n                    <span aria-hidden=\"true\" class=\"icon-arrow-down\"><span>&#9660;</span></span> Close\\n                </a>\\n\\n                \\n\\n<ul class=\"menu\" role=\"tree\">\\n    \\n    <li class=\"python-meta current_item selectedcurrent_branch selected\">\\n        <a href=\"/\" title=\"The Python Programming Language\" class=\"current_item selectedcurrent_branch selected\">Python</a>\\n    </li>\\n    \\n    <li class=\"psf-meta \">\\n        <a href=\"https://www.python.org/psf/\" title=\"The Python Software Foundation\" >PSF</a>\\n    </li>\\n    \\n    <li class=\"docs-meta \">\\n        <a href=\"https://docs.python.org\" title=\"Python Documentation\" >Docs</a>\\n    </li>\\n    \\n    <li class=\"pypi-meta \">\\n        <a href=\"https://pypi.org/\" title=\"Python Package Index\" >PyPI</a>\\n    </li>\\n    \\n    <li class=\"jobs-meta \">\\n        <a href=\"/jobs/\" title=\"Python Job Board\" >Jobs</a>\\n    </li>\\n    \\n    <li class=\"shop-meta \">\\n        <a href=\"/community/\"  >Community</a>\\n    </li>\\n    \\n</ul>\\n\\n\\n                <a id=\"python-network\" class=\"jump-link\" href=\"#top\" aria-hidden=\"true\">\\n                    <span aria-hidden=\"true\" class=\"icon-arrow-up\"><span>&#9650;</span></span> The Python Network\\n                </a>\\n\\n            </nav>\\n\\n        </div>\\n\\n        <!-- Header elements -->\\n        <header class=\"main-header\" role=\"banner\">\\n            <div class=\"container\">\\n\\n                <h1 class=\"site-headline\">\\n                    <a href=\"/\"><img class=\"python-logo\" src=\"/static/img/python-logo.png\" alt=\"python&trade;\"></a>\\n                </h1>\\n\\n                <div class=\"options-bar-container do-not-print\">\\n                    <a href=\"https://psfmember.org/civicrm/contribute/transact?reset=1&id=2\" class=\"donate-button\">Donate</a>\\n                    <div class=\"options-bar\">\\n                        \\n                        <a id=\"site-map-link\" class=\"jump-to-menu\" href=\"#site-map\"><span class=\"menu-icon\">&equiv;</span> Menu</a><form class=\"search-the-site\" action=\"/search/\" method=\"get\">\\n                            <fieldset title=\"Search Python.org\">\\n\\n                                <span aria-hidden=\"true\" class=\"icon-search\"></span>\\n\\n                                <label class=\"screen-reader-text\" for=\"id-search-field\">Search This Site</label>\\n                                <input id=\"id-search-field\" name=\"q\" type=\"search\" role=\"textbox\" class=\"search-field\" placeholder=\"Search\" value=\"\" tabindex=\"1\">\\n\\n                                <button type=\"submit\" name=\"submit\" id=\"submit\" class=\"search-button\" title=\"Submit this Search\" tabindex=\"3\">\\n                                    GO\\n                                </button>\\n\\n                                \\n                                <!--[if IE]><input type=\"text\" style=\"display: none;\" disabled=\"disabled\" size=\"1\" tabindex=\"4\"><![endif]-->\\n\\n                            </fieldset>\\n                        </form><span class=\"breaker\"></span><div class=\"adjust-font-size\" aria-hidden=\"true\">\\n                            <ul class=\"navigation menu\" aria-label=\"Adjust Text Size on Page\">\\n                                <li class=\"tier-1 last\" aria-haspopup=\"true\">\\n                                    <a href=\"#\" class=\"action-trigger\"><strong><small>A</small> A</strong></a>\\n                                    <ul class=\"subnav menu\">\\n                                        <li class=\"tier-2 element-1\" role=\"treeitem\"><a class=\"text-shrink\" title=\"Make Text Smaller\" href=\"javascript:;\">Smaller</a></li>\\n                                        <li class=\"tier-2 element-2\" role=\"treeitem\"><a class=\"text-grow\" title=\"Make Text Larger\" href=\"javascript:;\">Larger</a></li>\\n                                        <li class=\"tier-2 element-3\" role=\"treeitem\"><a class=\"text-reset\" title=\"Reset any font size changes I have made\" href=\"javascript:;\">Reset</a></li>\\n                                    </ul>\\n                                </li>\\n                            </ul>\\n                        </div><div class=\"winkwink-nudgenudge\">\\n                            <ul class=\"navigation menu\" aria-label=\"Social Media Navigation\">\\n                                <li class=\"tier-1 last\" aria-haspopup=\"true\">\\n                                    <a href=\"#\" class=\"action-trigger\">Socialize</a>\\n                                    <ul class=\"subnav menu\">\\n                                        <li class=\"tier-2 element-1\" role=\"treeitem\"><a href=\"https://www.linkedin.com/company/python-software-foundation/\"><i aria-hidden=\"true\" class=\"fa fa-linkedin-square\"></i>LinkedIn</a></li>\\n                                        <li class=\"tier-2 element-2\" role=\"treeitem\"><a href=\"https://fosstodon.org/@ThePSF\"><span aria-hidden=\"true\" class=\"icon-mastodon\"></span>Mastodon</a></li>\\n                                        <li class=\"tier-2 element-3\" role=\"treeitem\"><a href=\"/community/irc/\"><span aria-hidden=\"true\" class=\"icon-freenode\"></span>Chat on IRC</a></li>\\n                                        <li class=\"tier-2 element-4\" role=\"treeitem\"><a href=\"https://twitter.com/ThePSF\"><span aria-hidden=\"true\" class=\"icon-twitter\"></span>Twitter</a></li>\\n                                    </ul>\\n                                </li>\\n                            </ul>\\n                        </div>\\n                        <span data-html-include=\"/authenticated\"></span>\\n                    </div><!-- end options-bar -->\\n                </div>\\n\\n                <nav id=\"mainnav\" class=\"python-navigation main-navigation do-not-print\" role=\"navigation\">\\n                    \\n                        \\n<ul class=\"navigation menu\" role=\"menubar\" aria-label=\"Main Navigation\">\\n  \\n    \\n    \\n    <li id=\"about\" class=\"tier-1 element-1  \" aria-haspopup=\"true\">\\n        <a href=\"/about/\" title=\"\" class=\"\">About</a>\\n        \\n            \\n\\n<ul class=\"subnav menu\" role=\"menu\" aria-hidden=\"true\">\\n    \\n        <li class=\"tier-2 element-1\" role=\"treeitem\"><a href=\"/about/apps/\" title=\"\">Applications</a></li>\\n    \\n        <li class=\"tier-2 element-2\" role=\"treeitem\"><a href=\"/about/quotes/\" title=\"\">Quotes</a></li>\\n    \\n        <li class=\"tier-2 element-3\" role=\"treeitem\"><a href=\"/about/gettingstarted/\" title=\"\">Getting Started</a></li>\\n    \\n        <li class=\"tier-2 element-4\" role=\"treeitem\"><a href=\"/about/help/\" title=\"\">Help</a></li>\\n    \\n        <li class=\"tier-2 element-5\" role=\"treeitem\"><a href=\"http://brochure.getpython.info/\" title=\"\">Python Brochure</a></li>\\n    \\n</ul>\\n\\n        \\n    </li>\\n    \\n    \\n    \\n    <li id=\"downloads\" class=\"tier-1 element-2  \" aria-haspopup=\"true\">\\n        <a href=\"/downloads/\" title=\"\" class=\"\">Downloads</a>\\n        \\n            \\n\\n<ul class=\"subnav menu\" role=\"menu\" aria-hidden=\"true\">\\n    \\n        <li class=\"tier-2 element-1\" role=\"treeitem\"><a href=\"/downloads/\" title=\"\">All releases</a></li>\\n    \\n        <li class=\"tier-2 element-2\" role=\"treeitem\"><a href=\"/downloads/source/\" title=\"\">Source code</a></li>\\n    \\n        <li class=\"tier-2 element-3\" role=\"treeitem\"><a href=\"/downloads/windows/\" title=\"\">Windows</a></li>\\n    \\n        <li class=\"tier-2 element-4\" role=\"treeitem\"><a href=\"/downloads/macos/\" title=\"\">macOS</a></li>\\n    \\n        <li class=\"tier-2 element-5\" role=\"treeitem\"><a href=\"/download/other/\" title=\"\">Other Platforms</a></li>\\n    \\n        <li class=\"tier-2 element-6\" role=\"treeitem\"><a href=\"https://docs.python.org/3/license.html\" title=\"\">License</a></li>\\n    \\n        <li class=\"tier-2 element-7\" role=\"treeitem\"><a href=\"/download/alternatives\" title=\"\">Alternative Implementations</a></li>\\n    \\n</ul>\\n\\n        \\n    </li>\\n    \\n    \\n    \\n    <li id=\"documentation\" class=\"tier-1 element-3  \" aria-haspopup=\"true\">\\n        <a href=\"/doc/\" title=\"\" class=\"\">Documentation</a>\\n        \\n            \\n\\n<ul class=\"subnav menu\" role=\"menu\" aria-hidden=\"true\">\\n    \\n        <li class=\"tier-2 element-1\" role=\"treeitem\"><a href=\"/doc/\" title=\"\">Docs</a></li>\\n    \\n        <li class=\"tier-2 element-2\" role=\"treeitem\"><a href=\"/doc/av\" title=\"\">Audio/Visual Talks</a></li>\\n    \\n        <li class=\"tier-2 element-3\" role=\"treeitem\"><a href=\"https://wiki.python.org/moin/BeginnersGuide\" title=\"\">Beginner&#x27;s Guide</a></li>\\n    \\n        <li class=\"tier-2 element-4\" role=\"treeitem\"><a href=\"https://devguide.python.org/\" title=\"\">Developer&#x27;s Guide</a></li>\\n    \\n        <li class=\"tier-2 element-5\" role=\"treeitem\"><a href=\"https://docs.python.org/faq/\" title=\"\">FAQ</a></li>\\n    \\n        <li class=\"tier-2 element-6\" role=\"treeitem\"><a href=\"http://wiki.python.org/moin/Languages\" title=\"\">Non-English Docs</a></li>\\n    \\n        <li class=\"tier-2 element-7\" role=\"treeitem\"><a href=\"https://peps.python.org\" title=\"\">PEP Index</a></li>\\n    \\n        <li class=\"tier-2 element-8\" role=\"treeitem\"><a href=\"https://wiki.python.org/moin/PythonBooks\" title=\"\">Python Books</a></li>\\n    \\n        <li class=\"tier-2 element-9\" role=\"treeitem\"><a href=\"/doc/essays/\" title=\"\">Python Essays</a></li>\\n    \\n</ul>\\n\\n        \\n    </li>\\n    \\n    \\n    \\n    <li id=\"community\" class=\"tier-1 element-4  \" aria-haspopup=\"true\">\\n        <a href=\"/community/\" title=\"\" class=\"\">Community</a>\\n        \\n            \\n\\n<ul class=\"subnav menu\" role=\"menu\" aria-hidden=\"true\">\\n    \\n        <li class=\"tier-2 element-1\" role=\"treeitem\"><a href=\"/community/diversity/\" title=\"\">Diversity</a></li>\\n    \\n        <li class=\"tier-2 element-2\" role=\"treeitem\"><a href=\"/community/lists/\" title=\"\">Mailing Lists</a></li>\\n    \\n        <li class=\"tier-2 element-3\" role=\"treeitem\"><a href=\"/community/irc/\" title=\"\">IRC</a></li>\\n    \\n        <li class=\"tier-2 element-4\" role=\"treeitem\"><a href=\"/community/forums/\" title=\"\">Forums</a></li>\\n    \\n        <li class=\"tier-2 element-5\" role=\"treeitem\"><a href=\"/psf/annual-report/2021/\" title=\"\">PSF Annual Impact Report</a></li>\\n    \\n        <li class=\"tier-2 element-6\" role=\"treeitem\"><a href=\"/community/workshops/\" title=\"\">Python Conferences</a></li>\\n    \\n        <li class=\"tier-2 element-7\" role=\"treeitem\"><a href=\"/community/sigs/\" title=\"\">Special Interest Groups</a></li>\\n    \\n        <li class=\"tier-2 element-8\" role=\"treeitem\"><a href=\"/community/logos/\" title=\"\">Python Logo</a></li>\\n    \\n        <li class=\"tier-2 element-9\" role=\"treeitem\"><a href=\"https://wiki.python.org/moin/\" title=\"\">Python Wiki</a></li>\\n    \\n        <li class=\"tier-2 element-10\" role=\"treeitem\"><a href=\"/psf/conduct/\" title=\"\">Code of Conduct</a></li>\\n    \\n        <li class=\"tier-2 element-11\" role=\"treeitem\"><a href=\"/community/awards\" title=\"\">Community Awards</a></li>\\n    \\n        <li class=\"tier-2 element-12\" role=\"treeitem\"><a href=\"/psf/get-involved/\" title=\"\">Get Involved</a></li>\\n    \\n        <li class=\"tier-2 element-13\" role=\"treeitem\"><a href=\"/psf/community-stories/\" title=\"\">Shared Stories</a></li>\\n    \\n</ul>\\n\\n        \\n    </li>\\n    \\n    \\n    \\n    <li id=\"success-stories\" class=\"tier-1 element-5  \" aria-haspopup=\"true\">\\n        <a href=\"/success-stories/\" title=\"success-stories\" class=\"\">Success Stories</a>\\n        \\n            \\n\\n<ul class=\"subnav menu\" role=\"menu\" aria-hidden=\"true\">\\n    \\n        <li class=\"tier-2 element-1\" role=\"treeitem\"><a href=\"/success-stories/category/arts/\" title=\"\">Arts</a></li>\\n    \\n        <li class=\"tier-2 element-2\" role=\"treeitem\"><a href=\"/success-stories/category/business/\" title=\"\">Business</a></li>\\n    \\n        <li class=\"tier-2 element-3\" role=\"treeitem\"><a href=\"/success-stories/category/education/\" title=\"\">Education</a></li>\\n    \\n        <li class=\"tier-2 element-4\" role=\"treeitem\"><a href=\"/success-stories/category/engineering/\" title=\"\">Engineering</a></li>\\n    \\n        <li class=\"tier-2 element-5\" role=\"treeitem\"><a href=\"/success-stories/category/government/\" title=\"\">Government</a></li>\\n    \\n        <li class=\"tier-2 element-6\" role=\"treeitem\"><a href=\"/success-stories/category/scientific/\" title=\"\">Scientific</a></li>\\n    \\n        <li class=\"tier-2 element-7\" role=\"treeitem\"><a href=\"/success-stories/category/software-development/\" title=\"\">Software Development</a></li>\\n    \\n</ul>\\n\\n        \\n    </li>\\n    \\n    \\n    \\n    <li id=\"news\" class=\"tier-1 element-6  \" aria-haspopup=\"true\">\\n        <a href=\"/blogs/\" title=\"News from around the Python world\" class=\"\">News</a>\\n        \\n            \\n\\n<ul class=\"subnav menu\" role=\"menu\" aria-hidden=\"true\">\\n    \\n        <li class=\"tier-2 element-1\" role=\"treeitem\"><a href=\"/blogs/\" title=\"Python Insider Blog Posts\">Python News</a></li>\\n    \\n        <li class=\"tier-2 element-2\" role=\"treeitem\"><a href=\"/psf/newsletter/\" title=\"Python Software Foundation Newsletter\">PSF Newsletter</a></li>\\n    \\n        <li class=\"tier-2 element-3\" role=\"treeitem\"><a href=\"http://pyfound.blogspot.com/\" title=\"PSF Blog\">PSF News</a></li>\\n    \\n        <li class=\"tier-2 element-4\" role=\"treeitem\"><a href=\"http://pycon.blogspot.com/\" title=\"PyCon Blog\">PyCon US News</a></li>\\n    \\n        <li class=\"tier-2 element-5\" role=\"treeitem\"><a href=\"http://planetpython.org/\" title=\"Planet Python\">News from the Community</a></li>\\n    \\n</ul>\\n\\n        \\n    </li>\\n    \\n    \\n    \\n    <li id=\"events\" class=\"tier-1 element-7  \" aria-haspopup=\"true\">\\n        <a href=\"/events/\" title=\"\" class=\"\">Events</a>\\n        \\n            \\n\\n<ul class=\"subnav menu\" role=\"menu\" aria-hidden=\"true\">\\n    \\n        <li class=\"tier-2 element-1\" role=\"treeitem\"><a href=\"/events/python-events/\" title=\"\">Python Events</a></li>\\n    \\n        <li class=\"tier-2 element-2\" role=\"treeitem\"><a href=\"/events/python-user-group/\" title=\"\">User Group Events</a></li>\\n    \\n        <li class=\"tier-2 element-3\" role=\"treeitem\"><a href=\"/events/python-events/past/\" title=\"\">Python Events Archive</a></li>\\n    \\n        <li class=\"tier-2 element-4\" role=\"treeitem\"><a href=\"/events/python-user-group/past/\" title=\"\">User Group Events Archive</a></li>\\n    \\n        <li class=\"tier-2 element-5\" role=\"treeitem\"><a href=\"https://wiki.python.org/moin/PythonEventsCalendar#Submitting_an_Event\" title=\"\">Submit an Event</a></li>\\n    \\n</ul>\\n\\n        \\n    </li>\\n    \\n    \\n    \\n    \\n  \\n</ul>\\n\\n                    \\n                </nav>\\n\\n                <div class=\"header-banner \"> <!-- for optional \"do-not-print\" class -->\\n                    \\n        <div id=\"dive-into-python\" class=\"flex-slideshow slideshow\">\\n\\n            <ul class=\"launch-shell menu\" id=\"launch-shell\">\\n                <li>\\n                    <a class=\"button prompt\" id=\"start-shell\" data-shell-container=\"#dive-into-python\" href=\"/shell/\">&gt;_\\n                        <span class=\"message\">Launch Interactive Shell</span>\\n                    </a>\\n                </li>\\n            </ul>\\n\\n            <ul class=\"slides menu\">\\n                \\n                <li>\\n                    <div class=\"slide-code\"><pre><code><span class=\"comment\"># Python 3: Fibonacci series up to n</span>\\r\\n>>> def fib(n):\\r\\n>>>     a, b = 0, 1\\r\\n>>>     while a &lt; n:\\r\\n>>>         print(a, end=\\' \\')\\r\\n>>>         a, b = b, a+b\\r\\n>>>     print()\\r\\n>>> fib(1000)\\r\\n<span class=\"output\">0 1 1 2 3 5 8 13 21 34 55 89 144 233 377 610 987</span></code></pre></div>\\n                    <div class=\"slide-copy\"><h1>Functions Defined</h1>\\r\\n<p>The core of extensible programming is defining functions. Python allows mandatory and optional arguments, keyword arguments, and even arbitrary argument lists. <a href=\"//docs.python.org/3/tutorial/controlflow.html#defining-functions\">More about defining functions in Python&nbsp;3</a></p></div>\\n                </li>\\n                \\n                <li>\\n                    <div class=\"slide-code\"><pre><code><span class=\"comment\"># Python 3: List comprehensions</span>\\r\\n>>> fruits = [\\'Banana\\', \\'Apple\\', \\'Lime\\']\\r\\n>>> loud_fruits = [fruit.upper() for fruit in fruits]\\r\\n>>> print(loud_fruits)\\r\\n<span class=\"output\">[\\'BANANA\\', \\'APPLE\\', \\'LIME\\']</span>\\r\\n\\r\\n<span class=\"comment\"># List and the enumerate function</span>\\r\\n>>> list(enumerate(fruits))\\r\\n<span class=\"output\">[(0, \\'Banana\\'), (1, \\'Apple\\'), (2, \\'Lime\\')]</span></code></pre></div>\\n                    <div class=\"slide-copy\"><h1>Compound Data Types</h1>\\r\\n<p>Lists (known as arrays in other languages) are one of the compound data types that Python understands. Lists can be indexed, sliced and manipulated with other built-in functions. <a href=\"//docs.python.org/3/tutorial/introduction.html#lists\">More about lists in Python&nbsp;3</a></p></div>\\n                </li>\\n                \\n                <li>\\n                    <div class=\"slide-code\"><pre><code><span class=\"comment\"># Python 3: Simple arithmetic</span>\\r\\n>>> 1 / 2\\r\\n<span class=\"output\">0.5</span>\\r\\n>>> 2 ** 3\\r\\n<span class=\"output\">8</span>\\r\\n>>> 17 / 3  <span class=\"comment\"># classic division returns a float</span>\\r\\n<span class=\"output\">5.666666666666667</span>\\r\\n>>> 17 // 3  <span class=\"comment\"># floor division</span>\\r\\n<span class=\"output\">5</span></code></pre></div>\\n                    <div class=\"slide-copy\"><h1>Intuitive Interpretation</h1>\\r\\n<p>Calculations are simple with Python, and expression syntax is straightforward: the operators <code>+</code>, <code>-</code>, <code>*</code> and <code>/</code> work as expected; parentheses <code>()</code> can be used for grouping. <a href=\"http://docs.python.org/3/tutorial/introduction.html#using-python-as-a-calculator\">More about simple math functions in Python&nbsp;3</a>.</p></div>\\n                </li>\\n                \\n                <li>\\n                    <div class=\"slide-code\"><pre><code><span class=\"comment\"># For loop on a list</span>\\r\\n>>> numbers = [2, 4, 6, 8]\\r\\n>>> product = 1\\r\\n>>> for number in numbers:\\r\\n...    product = product * number\\r\\n... \\r\\n>>> print(\\'The product is:\\', product)\\r\\n<span class=\"output\">The product is: 384</span></code></pre></div>\\n                    <div class=\"slide-copy\"><h1>All the Flow You&rsquo;d Expect</h1>\\r\\n<p>Python knows the usual control flow statements that other languages speak &mdash; <code>if</code>, <code>for</code>, <code>while</code> and <code>range</code> &mdash; with some of its own twists, of course. <a href=\"//docs.python.org/3/tutorial/controlflow.html\">More control flow tools in Python&nbsp;3</a></p></div>\\n                </li>\\n                \\n                <li>\\n                    <div class=\"slide-code\"><pre><code><span class=\"comment\"># Simple output (with Unicode)</span>\\r\\n>>> print(\"Hello, I\\'m Python!\")\\r\\n<span class=\"output\">Hello, I\\'m Python!</span>\\r\\n<span class=\"comment\"># Input, assignment</span>\\r\\n>>> name = input(\\'What is your name?\\\\n\\')\\r\\n<span class=\"output\">What is your name?\\r\\nPython</span>\\r\\n>>> print(f\\'Hi, {name}.\\')\\r\\n<span class=\"output\">Hi, Python.</span></code>\\r\\n</pre></div>\\n                    <div class=\"slide-copy\"><h1>Quick &amp; Easy to Learn</h1>\\r\\n<p>Experienced programmers in any other language can pick up Python very quickly, and beginners find the clean syntax and indentation structure easy to learn. <a href=\"//docs.python.org/3/tutorial/\">Whet your appetite</a> with our Python&nbsp;3 overview.</p></div>\\n                </li>\\n                \\n            </ul>\\n        </div>\\n\\n\\n                </div>\\n\\n                \\n        <div class=\"introduction\">\\n            <p>Python is a programming language that lets you work quickly <span class=\"breaker\"></span>and integrate systems more effectively. <a class=\"readmore\" href=\"/doc/\">Learn More</a></p>\\n        </div>\\n\\n\\n             </div><!-- end .container -->\\n        </header>\\n\\n        <div id=\"content\" class=\"content-wrapper\">\\n            <!-- Main Content Column -->\\n            <div class=\"container\">\\n\\n                <section class=\"main-content \" role=\"main\">\\n\\n                    \\n                    \\n\\n                    \\n\\n                    \\n\\n                <div class=\"notification-bar notification-bar--survey\" style=\"background-color: #ffdf76; color: #664e04; border-color: #004d7a; text-align: center; background-color: #004d7a; color: #fff; padding: 10px; margin: .5em; position: relative; width: 95%; background-color: #ffdf76; color: #664e04; border-color: #004d7a; border-radius: 1em;\">\\n  <span class=\"notification-bar__icon\">\\n    <i class=\"fa fa-chart-line\" aria-hidden=\"true\"></i>\\n  </span>\\n  <span class=\"notification-bar__message\">\\xe2\\x9a\\xa1\\xf0\\x9f\\x90\\x8d\\xe2\\x9a\\xa1 Power Python with a 30% discount on PyCharm-  all proceeds go to the Python Software Foundation. Offer ends soon, so grab it today! &nbsp;&nbsp;<a class=\"button button--dark button--small button--primary\" style=\"color: #606060; border-color: #006dad; background-color: #006dad;\" href=\"https://lp.jetbrains.com/psf-q4-2024-fundraiser-3783/\"  target=\"_blank\" rel=\"noopener\">GET 30% OFF PYCHARM</a>\\n   </span>\\n</div>\\n\\n\\n                <div class=\"row\">\\n\\n                    <div class=\"small-widget get-started-widget\">\\n                        <h2 class=\"widget-title\"><span aria-hidden=\"true\" class=\"icon-get-started\"></span>Get Started</h2>\\r\\n<p>Whether you\\'re new to programming or an experienced developer, it\\'s easy to learn and use Python.</p>\\r\\n<p><a href=\"/about/gettingstarted/\">Start with our Beginner&rsquo;s Guide</a></p>\\n                    </div>\\n\\n                    <div class=\"small-widget download-widget\">\\n                        <h2 class=\"widget-title\"><span aria-hidden=\"true\" class=\"icon-download\"></span>Download</h2>\\n<p>Python source code and installers are available for download for all versions!</p>\\n<p>Latest: <a href=\"/downloads/release/python-3130/\">Python 3.13.0</a></p>\\n                    </div>\\n\\n                    <div class=\"small-widget documentation-widget\">\\n                        <h2 class=\"widget-title\"><span aria-hidden=\"true\" class=\"icon-documentation\"></span>Docs</h2>\\r\\n<p>Documentation for Python\\'s standard library, along with tutorials and guides, are available online.</p>\\r\\n<p><a href=\"https://docs.python.org\">docs.python.org</a></p>\\n                    </div>\\n\\n                    <div class=\"small-widget jobs-widget last\">\\n                        <h2 class=\"widget-title\"><span aria-hidden=\"true\" class=\"icon-jobs\"></span>Jobs</h2>\\r\\n<p>Looking for work or have a Python related position that you\\'re trying to hire for? Our <strong>relaunched community-run job board</strong> is the place to go.</p>\\r\\n<p><a href=\"//jobs.python.org\">jobs.python.org</a></p>\\n                    </div>\\n\\n                </div>\\n\\n                <div class=\"list-widgets row\">\\n\\n                    <div class=\"medium-widget blog-widget\">\\n                        \\n                        <div class=\"shrubbery\">\\n                        \\n                            <h2 class=\"widget-title\"><span aria-hidden=\"true\" class=\"icon-news\"></span>Latest News</h2>\\n                            <p class=\"give-me-more\"><a href=\"https://blog.python.org\" title=\"More News\">More</a></p>\\n                            \\n                            <ul class=\"menu\">\\n                                \\n                                \\n                                <li>\\n<time datetime=\"2024-11-19T21:03:00.000001+00:00\"><span class=\"say-no-more\">2024-</span>11-19</time>\\n <a href=\"https://pythoninsider.blogspot.com/2024/11/python-3140-alpha-2-released.html\">Python 3.14.0 alpha 2 released</a></li>\\n                                \\n                                <li>\\n<time datetime=\"2024-11-18T14:56:00+00:00\"><span class=\"say-no-more\">2024-</span>11-18</time>\\n <a href=\"https://pyfound.blogspot.com/2024/11/help-power-python-2024-fundraiser.html\">Help power Python and join in the PSF year-end fundraiser &amp; membership drive!</a></li>\\n                                \\n                                <li>\\n<time datetime=\"2024-11-07T15:58:00.000003+00:00\"><span class=\"say-no-more\">2024-</span>11-07</time>\\n <a href=\"https://pyfound.blogspot.com/2024/11/psf-grants-program-updates-part2.html\">PSF Grants Program Updates: Workgroup Charter, Future, &amp; Refresh (Part 2)</a></li>\\n                                \\n                                <li>\\n<time datetime=\"2024-11-07T15:56:00.000003+00:00\"><span class=\"say-no-more\">2024-</span>11-07</time>\\n <a href=\"https://pyfound.blogspot.com/2024/11/psf-grants-program-updates-part1.html\">PSF Grants Program Updates: Workgroup Charter, Future, &amp; Refresh (Part 1)</a></li>\\n                                \\n                                <li>\\n<time datetime=\"2024-11-01T19:03:00.000004+00:00\"><span class=\"say-no-more\">2024-</span>11-01</time>\\n <a href=\"https://pyfound.blogspot.com/2024/11/pycon-us-2025-kicks-off-website-cfp-and.html\">PyCon US 2025 Kicks Off: Website, CfP, and Sponsorship Now Open!</a></li>\\n                                \\n                            </ul>\\n                        </div><!-- end .shrubbery -->\\n\\n                    </div>\\n\\n                    <div class=\"medium-widget event-widget last\">\\n                        \\n                        <div class=\"shrubbery\">\\n                        \\n                            <h2 class=\"widget-title\"><span aria-hidden=\"true\" class=\"icon-calendar\"></span>Upcoming Events</h2>\\n                            <p class=\"give-me-more\"><a href=\"/events/calendars/\" title=\"More Events\">More</a></p>\\n                            \\n                            <ul class=\"menu\">\\n                                \\n                                \\n                                \\n                                <li>\\n<time datetime=\"2024-11-25T00:00:00+00:00\"><span class=\"say-no-more\">2024-</span>11-25</time>\\n <a href=\"/events/python-events/1731/\">Plone Conference 2024</a></li>\\n                                \\n                                \\n                                \\n                                <li>\\n<time datetime=\"2024-11-25T19:00:00+00:00\"><span class=\"say-no-more\">2024-</span>11-25</time>\\n <a href=\"/events/python-user-group/1872/\">London Algorithmic Trading: How to code, configure and deploy a Market Making bot</a></li>\\n                                \\n                                \\n                                \\n                                <li>\\n<time datetime=\"2024-11-30T00:00:00+00:00\"><span class=\"say-no-more\">2024-</span>11-30</time>\\n <a href=\"/events/python-events/1875/\">PyDay Togo 2024</a></li>\\n                                \\n                                \\n                                \\n                                <li>\\n<time datetime=\"2024-11-30T00:00:00+00:00\"><span class=\"say-no-more\">2024-</span>11-30</time>\\n <a href=\"/events/python-events/1829/\">PyCon Wroclaw 2024</a></li>\\n                                \\n                                \\n                                \\n                                <li>\\n<time datetime=\"2024-12-03T00:00:00+00:00\"><span class=\"say-no-more\">2024-</span>12-03</time>\\n <a href=\"/events/python-events/1860/\">PyData Global 2024</a></li>\\n                                \\n                                \\n                            </ul>\\n                        </div>\\n\\n                    </div>\\n\\n                </div>\\n\\n                <div class=\"row\">\\n\\n                    <div class=\"medium-widget success-stories-widget\">\\n                        \\n\\n\\n\\n                        <div class=\"shrubbery\">\\n                            \\n\\n                            <h2 class=\"widget-title\"><span aria-hidden=\"true\" class=\"icon-success-stories\"></span>Success Stories</h2>\\n                            <p class=\"give-me-more\"><a href=\"/success-stories/\" title=\"More Success Stories\">More</a></p>\\n\\n                            \\n                            <div class=\"success-story-item\" id=\"success-story-838\">\\n\\n                            <blockquote>\\n                                <a href=\"/success-stories/saving-the-world-with-open-data-and-python/\">When an Open Data standard is created and promoted, it\\xe2\\x80\\x99s important to think why - what change is this trying to drive? What will people do with this data that they couldn\\xe2\\x80\\x99t do before?</a>\\n                            </blockquote>\\n\\n                            <table cellpadding=\"0\" cellspacing=\"0\" border=\"0\" width=\"100%\" class=\"quote-from\">\\n                                <tbody>\\n                                    <tr>\\n                                        \\n                                        <td><p><a href=\"/success-stories/saving-the-world-with-open-data-and-python/\">Saving the world with Open Data and Python</a> <em>by James Baster</em></p></td>\\n                                    </tr>\\n                                </tbody>\\n                            </table>\\n                            </div>\\n                            \\n\\n                        </div><!-- end .shrubbery -->\\n\\n                    </div>\\n\\n                    <div class=\"medium-widget applications-widget last\">\\n                        <div class=\"shrubbery\">\\n                            <h2 class=\"widget-title\"><span aria-hidden=\"true\" class=\"icon-python\"></span>Use Python for&hellip;</h2>\\r\\n<p class=\"give-me-more\"><a href=\"/about/apps\" title=\"More Applications\">More</a></p>\\r\\n\\r\\n<ul class=\"menu\">\\r\\n    <li><b>Web Development</b>:\\r\\n        <span class=\"tag-wrapper\"><a class=\"tag\" href=\"http://www.djangoproject.com/\">Django</a>, <a class=\"tag\" href=\"http://www.pylonsproject.org/\">Pyramid</a>, <a class=\"tag\" href=\"http://bottlepy.org\">Bottle</a>, <a class=\"tag\" href=\"http://tornadoweb.org\">Tornado</a>, <a href=\"http://flask.pocoo.org/\" class=\"tag\">Flask</a>, <a class=\"tag\" href=\"http://www.web2py.com/\">web2py</a></span></li>\\r\\n    <li><b>GUI Development</b>:\\r\\n        <span class=\"tag-wrapper\"><a class=\"tag\" href=\"http://wiki.python.org/moin/TkInter\">tkInter</a>, <a class=\"tag\" href=\"https://wiki.gnome.org/Projects/PyGObject\">PyGObject</a>, <a class=\"tag\" href=\"http://www.riverbankcomputing.co.uk/software/pyqt/intro\">PyQt</a>, <a class=\"tag\" href=\"https://wiki.qt.io/PySide\">PySide</a>, <a class=\"tag\" href=\"https://kivy.org/\">Kivy</a>, <a class=\"tag\" href=\"http://www.wxpython.org/\">wxPython</a>, <a class=\"tag\" href=\"https://dearpygui.readthedocs.io/en/latest/\">DearPyGui</a></span></li>\\r\\n    <li><b>Scientific and Numeric</b>:\\r\\n        <span class=\"tag-wrapper\">\\r\\n<a class=\"tag\" href=\"http://www.scipy.org\">SciPy</a>, <a class=\"tag\" href=\"http://pandas.pydata.org/\">Pandas</a>, <a href=\"http://ipython.org\" class=\"tag\">IPython</a></span></li>\\r\\n    <li><b>Software Development</b>:\\r\\n        <span class=\"tag-wrapper\"><a class=\"tag\" href=\"http://buildbot.net/\">Buildbot</a>, <a class=\"tag\" href=\"http://trac.edgewall.org/\">Trac</a>, <a class=\"tag\" href=\"http://roundup.sourceforge.net/\">Roundup</a></span></li>\\r\\n    <li><b>System Administration</b>:\\r\\n        <span class=\"tag-wrapper\"><a class=\"tag\" href=\"http://www.ansible.com\">Ansible</a>, <a class=\"tag\" href=\"https://saltproject.io\">Salt</a>, <a class=\"tag\" href=\"https://www.openstack.org\">OpenStack</a>, <a class=\"tag\" href=\"https://xon.sh\">xonsh</a></span></li>\\r\\n</ul>\\n                        </div><!-- end .shrubbery -->\\n                    </div>\\n\\n                </div>\\n\\n                                <div class=\"psf-widget\">\\n\\n                    <div class=\"python-logo\"></div>\\n                    \\n                    <h2 class=\"widget-title\">\\r\\n    <span class=\"prompt\">&gt;&gt;&gt;</span> <a href=\"/psf/\">Python Software Foundation</a>\\r\\n</h2>\\r\\n<p>The mission of the Python Software Foundation is to promote, protect, and advance the Python programming language, and to support and facilitate the growth of a diverse and international community of Python programmers. <a class=\"readmore\" href=\"/psf/\">Learn more</a> </p>\\r\\n<p class=\"click-these\">\\r\\n    <a class=\"button\" href=\"/users/membership/\">Become a Member</a>\\r\\n    <a class=\"button\" href=\"/psf/donations/\">Donate to the PSF</a>\\r\\n</p>\\n                </div>\\n\\n\\n\\n\\n                </section>\\n\\n                \\n                \\n\\n                \\n                \\n\\n\\n            </div><!-- end .container -->\\n        </div><!-- end #content .content-wrapper -->\\n\\n        <!-- Footer and social media list -->\\n        \\n        <footer id=\"site-map\" class=\"main-footer\" role=\"contentinfo\">\\n            <div class=\"main-footer-links\">\\n                <div class=\"container\">\\n\\n                    \\n                    <a id=\"back-to-top-1\" class=\"jump-link\" href=\"#python-network\"><span aria-hidden=\"true\" class=\"icon-arrow-up\"><span>&#9650;</span></span> Back to Top</a>\\n\\n                    \\n\\n<ul class=\"sitemap navigation menu do-not-print\" role=\"tree\" id=\"container\">\\n    \\n    <li class=\"tier-1 element-1\">\\n        <a href=\"/about/\" >About</a>\\n        \\n            \\n\\n<ul class=\"subnav menu\">\\n    \\n        <li class=\"tier-2 element-1\" role=\"treeitem\"><a href=\"/about/apps/\" title=\"\">Applications</a></li>\\n    \\n        <li class=\"tier-2 element-2\" role=\"treeitem\"><a href=\"/about/quotes/\" title=\"\">Quotes</a></li>\\n    \\n        <li class=\"tier-2 element-3\" role=\"treeitem\"><a href=\"/about/gettingstarted/\" title=\"\">Getting Started</a></li>\\n    \\n        <li class=\"tier-2 element-4\" role=\"treeitem\"><a href=\"/about/help/\" title=\"\">Help</a></li>\\n    \\n        <li class=\"tier-2 element-5\" role=\"treeitem\"><a href=\"http://brochure.getpython.info/\" title=\"\">Python Brochure</a></li>\\n    \\n</ul>\\n\\n        \\n    </li>\\n    \\n    <li class=\"tier-1 element-2\">\\n        <a href=\"/downloads/\" >Downloads</a>\\n        \\n            \\n\\n<ul class=\"subnav menu\">\\n    \\n        <li class=\"tier-2 element-1\" role=\"treeitem\"><a href=\"/downloads/\" title=\"\">All releases</a></li>\\n    \\n        <li class=\"tier-2 element-2\" role=\"treeitem\"><a href=\"/downloads/source/\" title=\"\">Source code</a></li>\\n    \\n        <li class=\"tier-2 element-3\" role=\"treeitem\"><a href=\"/downloads/windows/\" title=\"\">Windows</a></li>\\n    \\n        <li class=\"tier-2 element-4\" role=\"treeitem\"><a href=\"/downloads/macos/\" title=\"\">macOS</a></li>\\n    \\n        <li class=\"tier-2 element-5\" role=\"treeitem\"><a href=\"/download/other/\" title=\"\">Other Platforms</a></li>\\n    \\n        <li class=\"tier-2 element-6\" role=\"treeitem\"><a href=\"https://docs.python.org/3/license.html\" title=\"\">License</a></li>\\n    \\n        <li class=\"tier-2 element-7\" role=\"treeitem\"><a href=\"/download/alternatives\" title=\"\">Alternative Implementations</a></li>\\n    \\n</ul>\\n\\n        \\n    </li>\\n    \\n    <li class=\"tier-1 element-3\">\\n        <a href=\"/doc/\" >Documentation</a>\\n        \\n            \\n\\n<ul class=\"subnav menu\">\\n    \\n        <li class=\"tier-2 element-1\" role=\"treeitem\"><a href=\"/doc/\" title=\"\">Docs</a></li>\\n    \\n        <li class=\"tier-2 element-2\" role=\"treeitem\"><a href=\"/doc/av\" title=\"\">Audio/Visual Talks</a></li>\\n    \\n        <li class=\"tier-2 element-3\" role=\"treeitem\"><a href=\"https://wiki.python.org/moin/BeginnersGuide\" title=\"\">Beginner&#x27;s Guide</a></li>\\n    \\n        <li class=\"tier-2 element-4\" role=\"treeitem\"><a href=\"https://devguide.python.org/\" title=\"\">Developer&#x27;s Guide</a></li>\\n    \\n        <li class=\"tier-2 element-5\" role=\"treeitem\"><a href=\"https://docs.python.org/faq/\" title=\"\">FAQ</a></li>\\n    \\n        <li class=\"tier-2 element-6\" role=\"treeitem\"><a href=\"http://wiki.python.org/moin/Languages\" title=\"\">Non-English Docs</a></li>\\n    \\n        <li class=\"tier-2 element-7\" role=\"treeitem\"><a href=\"https://peps.python.org\" title=\"\">PEP Index</a></li>\\n    \\n        <li class=\"tier-2 element-8\" role=\"treeitem\"><a href=\"https://wiki.python.org/moin/PythonBooks\" title=\"\">Python Books</a></li>\\n    \\n        <li class=\"tier-2 element-9\" role=\"treeitem\"><a href=\"/doc/essays/\" title=\"\">Python Essays</a></li>\\n    \\n</ul>\\n\\n        \\n    </li>\\n    \\n    <li class=\"tier-1 element-4\">\\n        <a href=\"/community/\" >Community</a>\\n        \\n            \\n\\n<ul class=\"subnav menu\">\\n    \\n        <li class=\"tier-2 element-1\" role=\"treeitem\"><a href=\"/community/diversity/\" title=\"\">Diversity</a></li>\\n    \\n        <li class=\"tier-2 element-2\" role=\"treeitem\"><a href=\"/community/lists/\" title=\"\">Mailing Lists</a></li>\\n    \\n        <li class=\"tier-2 element-3\" role=\"treeitem\"><a href=\"/community/irc/\" title=\"\">IRC</a></li>\\n    \\n        <li class=\"tier-2 element-4\" role=\"treeitem\"><a href=\"/community/forums/\" title=\"\">Forums</a></li>\\n    \\n        <li class=\"tier-2 element-5\" role=\"treeitem\"><a href=\"/psf/annual-report/2021/\" title=\"\">PSF Annual Impact Report</a></li>\\n    \\n        <li class=\"tier-2 element-6\" role=\"treeitem\"><a href=\"/community/workshops/\" title=\"\">Python Conferences</a></li>\\n    \\n        <li class=\"tier-2 element-7\" role=\"treeitem\"><a href=\"/community/sigs/\" title=\"\">Special Interest Groups</a></li>\\n    \\n        <li class=\"tier-2 element-8\" role=\"treeitem\"><a href=\"/community/logos/\" title=\"\">Python Logo</a></li>\\n    \\n        <li class=\"tier-2 element-9\" role=\"treeitem\"><a href=\"https://wiki.python.org/moin/\" title=\"\">Python Wiki</a></li>\\n    \\n        <li class=\"tier-2 element-10\" role=\"treeitem\"><a href=\"/psf/conduct/\" title=\"\">Code of Conduct</a></li>\\n    \\n        <li class=\"tier-2 element-11\" role=\"treeitem\"><a href=\"/community/awards\" title=\"\">Community Awards</a></li>\\n    \\n        <li class=\"tier-2 element-12\" role=\"treeitem\"><a href=\"/psf/get-involved/\" title=\"\">Get Involved</a></li>\\n    \\n        <li class=\"tier-2 element-13\" role=\"treeitem\"><a href=\"/psf/community-stories/\" title=\"\">Shared Stories</a></li>\\n    \\n</ul>\\n\\n        \\n    </li>\\n    \\n    <li class=\"tier-1 element-5\">\\n        <a href=\"/success-stories/\" title=\"success-stories\">Success Stories</a>\\n        \\n            \\n\\n<ul class=\"subnav menu\">\\n    \\n        <li class=\"tier-2 element-1\" role=\"treeitem\"><a href=\"/success-stories/category/arts/\" title=\"\">Arts</a></li>\\n    \\n        <li class=\"tier-2 element-2\" role=\"treeitem\"><a href=\"/success-stories/category/business/\" title=\"\">Business</a></li>\\n    \\n        <li class=\"tier-2 element-3\" role=\"treeitem\"><a href=\"/success-stories/category/education/\" title=\"\">Education</a></li>\\n    \\n        <li class=\"tier-2 element-4\" role=\"treeitem\"><a href=\"/success-stories/category/engineering/\" title=\"\">Engineering</a></li>\\n    \\n        <li class=\"tier-2 element-5\" role=\"treeitem\"><a href=\"/success-stories/category/government/\" title=\"\">Government</a></li>\\n    \\n        <li class=\"tier-2 element-6\" role=\"treeitem\"><a href=\"/success-stories/category/scientific/\" title=\"\">Scientific</a></li>\\n    \\n        <li class=\"tier-2 element-7\" role=\"treeitem\"><a href=\"/success-stories/category/software-development/\" title=\"\">Software Development</a></li>\\n    \\n</ul>\\n\\n        \\n    </li>\\n    \\n    <li class=\"tier-1 element-6\">\\n        <a href=\"/blogs/\" title=\"News from around the Python world\">News</a>\\n        \\n            \\n\\n<ul class=\"subnav menu\">\\n    \\n        <li class=\"tier-2 element-1\" role=\"treeitem\"><a href=\"/blogs/\" title=\"Python Insider Blog Posts\">Python News</a></li>\\n    \\n        <li class=\"tier-2 element-2\" role=\"treeitem\"><a href=\"/psf/newsletter/\" title=\"Python Software Foundation Newsletter\">PSF Newsletter</a></li>\\n    \\n        <li class=\"tier-2 element-3\" role=\"treeitem\"><a href=\"http://pyfound.blogspot.com/\" title=\"PSF Blog\">PSF News</a></li>\\n    \\n        <li class=\"tier-2 element-4\" role=\"treeitem\"><a href=\"http://pycon.blogspot.com/\" title=\"PyCon Blog\">PyCon US News</a></li>\\n    \\n        <li class=\"tier-2 element-5\" role=\"treeitem\"><a href=\"http://planetpython.org/\" title=\"Planet Python\">News from the Community</a></li>\\n    \\n</ul>\\n\\n        \\n    </li>\\n    \\n    <li class=\"tier-1 element-7\">\\n        <a href=\"/events/\" >Events</a>\\n        \\n            \\n\\n<ul class=\"subnav menu\">\\n    \\n        <li class=\"tier-2 element-1\" role=\"treeitem\"><a href=\"/events/python-events/\" title=\"\">Python Events</a></li>\\n    \\n        <li class=\"tier-2 element-2\" role=\"treeitem\"><a href=\"/events/python-user-group/\" title=\"\">User Group Events</a></li>\\n    \\n        <li class=\"tier-2 element-3\" role=\"treeitem\"><a href=\"/events/python-events/past/\" title=\"\">Python Events Archive</a></li>\\n    \\n        <li class=\"tier-2 element-4\" role=\"treeitem\"><a href=\"/events/python-user-group/past/\" title=\"\">User Group Events Archive</a></li>\\n    \\n        <li class=\"tier-2 element-5\" role=\"treeitem\"><a href=\"https://wiki.python.org/moin/PythonEventsCalendar#Submitting_an_Event\" title=\"\">Submit an Event</a></li>\\n    \\n</ul>\\n\\n        \\n    </li>\\n    \\n    <li class=\"tier-1 element-8\">\\n        <a href=\"/dev/\" >Contributing</a>\\n        \\n            \\n\\n<ul class=\"subnav menu\">\\n    \\n        <li class=\"tier-2 element-1\" role=\"treeitem\"><a href=\"https://devguide.python.org/\" title=\"\">Developer&#x27;s Guide</a></li>\\n    \\n        <li class=\"tier-2 element-2\" role=\"treeitem\"><a href=\"https://github.com/python/cpython/issues\" title=\"\">Issue Tracker</a></li>\\n    \\n        <li class=\"tier-2 element-3\" role=\"treeitem\"><a href=\"https://mail.python.org/mailman/listinfo/python-dev\" title=\"\">python-dev list</a></li>\\n    \\n        <li class=\"tier-2 element-4\" role=\"treeitem\"><a href=\"/dev/core-mentorship/\" title=\"\">Core Mentorship</a></li>\\n    \\n        <li class=\"tier-2 element-5\" role=\"treeitem\"><a href=\"/dev/security/\" title=\"\">Report a Security Issue</a></li>\\n    \\n</ul>\\n\\n        \\n    </li>\\n    \\n</ul>\\n\\n\\n                    <a id=\"back-to-top-2\" class=\"jump-link\" href=\"#python-network\"><span aria-hidden=\"true\" class=\"icon-arrow-up\"><span>&#9650;</span></span> Back to Top</a>\\n                    \\n\\n                </div><!-- end .container -->\\n            </div> <!-- end .main-footer-links -->\\n\\n            <div class=\"site-base\">\\n                <div class=\"container\">\\n                    \\n                    <ul class=\"footer-links navigation menu do-not-print\" role=\"tree\">\\n                        <li class=\"tier-1 element-1\"><a href=\"/about/help/\">Help &amp; <span class=\"say-no-more\">General</span> Contact</a></li>\\n                        <li class=\"tier-1 element-2\"><a href=\"/community/diversity/\">Diversity <span class=\"say-no-more\">Initiatives</span></a></li>\\n                        <li class=\"tier-1 element-3\"><a href=\"https://github.com/python/pythondotorg/issues\">Submit Website Bug</a></li>\\n                        <li class=\"tier-1 element-4\">\\n                            <a href=\"https://status.python.org/\">Status <span class=\"python-status-indicator-default\" id=\"python-status-indicator\"></span></a>\\n                        </li>\\n                    </ul>\\n\\n                    <div class=\"copyright\">\\n                        <p><small>\\n                            <span class=\"pre\">Copyright &copy;2001-2024.</span>\\n                            &nbsp;<span class=\"pre\"><a href=\"/psf-landing/\">Python Software Foundation</a></span>\\n                            &nbsp;<span class=\"pre\"><a href=\"/about/legal/\">Legal Statements</a></span>\\n                            &nbsp;<span class=\"pre\"><a href=\"https://policies.python.org/python.org/Privacy-Notice/\">Privacy Notice</a></span>\\n                            <!--&nbsp;<span class=\"pre\"><a href=\"/psf/community-infrastructure\">Powered by PSF Community Infrastructure</a></span>-->\\n                        </small></p>\\n                    </div>\\n\\n                </div><!-- end .container -->\\n            </div><!-- end .site-base -->\\n\\n        </footer>\\n        \\n\\n    </div><!-- end #touchnav-wrapper -->\\n\\n    \\n    <script src=\"//ajax.googleapis.com/ajax/libs/jquery/1.8.2/jquery.min.js\"></script>\\n    <script>window.jQuery || document.write(\\'<script src=\"/static/js/libs/jquery-1.8.2.min.js\"><\\\\/script>\\')</script>\\n    <script src=\"//ajax.googleapis.com/ajax/libs/jqueryui/1.12.1/jquery-ui.min.js\"></script>\\n    <script>window.jQuery || document.write(\\'<script src=\"/static/js/libs/jquery-ui-1.12.1.min.js\"><\\\\/script>\\')</script>\\n\\n    <script src=\"/static/js/libs/masonry.pkgd.min.js\"></script>\\n    <script src=\"/static/js/libs/html-includes.js\"></script>\\n\\n    <script type=\"text/javascript\" src=\"/static/js/main-min.f5487accf7ed.js\" charset=\"utf-8\"></script>\\n    \\n\\n    <!--[if lte IE 7]>\\n    <script type=\"text/javascript\" src=\"/static/js/plugins/IE8-min.8af6e26c7a3b.js\" charset=\"utf-8\"></script>\\n    \\n    \\n    <![endif]-->\\n\\n    <!--[if lte IE 8]>\\n    <script type=\"text/javascript\" src=\"/static/js/plugins/getComputedStyle-min.d41d8cd98f00.js\" charset=\"utf-8\"></script>\\n    \\n    \\n    <![endif]-->\\n\\n    \\n\\n    \\n    \\n\\n</body>\\n</html>\\n'"
      ]
     },
     "execution_count": 17,
     "metadata": {},
     "output_type": "execute_result"
    }
   ],
   "source": [
    "res.content"
   ]
  },
  {
   "cell_type": "code",
   "execution_count": 32,
   "metadata": {},
   "outputs": [
    {
     "name": "stdout",
     "output_type": "stream",
     "text": [
      "Delhi records 25.65 degrees celsius and humidity of 61 percent\n"
     ]
    }
   ],
   "source": [
    "GEO_LOCATION_URL = \"http://api.openweathermap.org/geo/1.0/direct\"\n",
    "WEATHER_URL = \"https://api.openweathermap.org/data/2.5/weather\"\n",
    "\n",
    "GEO_LOCATION_PARAMS = {\n",
    "    \"q\": None,\n",
    "    \"limit\": \"1\",\n",
    "    \"appid\": None\n",
    "}\n",
    "\n",
    "WEATHER_PARAMS = {\n",
    "    \"lat\": None,\n",
    "    \"lon\": None,\n",
    "    \"units\": \"metric\",\n",
    "    \"appid\": None\n",
    "}\n",
    "\n",
    "def get_api_key():\n",
    "    with open(r\"C:\\Users\\chandrashekar\\open_weathermap_api_key.txt\") as ins:\n",
    "        return ins.readline()\n",
    "\n",
    "\n",
    "def get_coords(location):\n",
    "    GEO_LOCATION_PARAMS[\"q\"] = location\n",
    "    GEO_LOCATION_PARAMS[\"appid\"] = get_api_key()\n",
    "    res = httpx.get(GEO_LOCATION_URL, params=GEO_LOCATION_PARAMS)\n",
    "    if res.is_success and \"/json\" in res.headers[\"content-type\"]:\n",
    "        return res.json()[0][\"lat\"], res.json()[0][\"lon\"]\n",
    "    else:\n",
    "        raise ValueError(f\"Request failed: {res}\")\n",
    "    \n",
    "def get_weather(city):\n",
    "    from time import sleep\n",
    "    api_key = get_api_key()\n",
    "    lat, lon = get_coords(city)\n",
    "    WEATHER_PARAMS[\"lat\"] = lat\n",
    "    WEATHER_PARAMS[\"lon\"] = lon\n",
    "    WEATHER_PARAMS[\"appid\"] = get_api_key()\n",
    "    sleep(1) # Might be needed for the free-tier to avoid bans!\n",
    "    res = httpx.get(WEATHER_URL, params=WEATHER_PARAMS)\n",
    "    if res.is_success and \"/json\" in res.headers[\"content-type\"]:\n",
    "        return res.json()[\"main\"][\"temp\"], res.json()[\"main\"][\"humidity\"]\n",
    "    else:\n",
    "        raise ValueError(f\"Request failed: {res}\")\n",
    "\n",
    "\n",
    "t, h = get_weather(\"Bengaluru\")\n",
    "print(f\"Delhi records {t} degrees celsius and humidity of {h} percent\")\n"
   ]
  },
  {
   "cell_type": "code",
   "execution_count": null,
   "metadata": {},
   "outputs": [
    {
     "data": {
      "text/plain": [
       "'65bda05da4f075dc2bd5ddc75240316e'"
      ]
     },
     "execution_count": 18,
     "metadata": {},
     "output_type": "execute_result"
    }
   ],
   "source": [
    "import httpx\n",
    "\n",
    "with open(r\"C:\\Users\\chandrashekar\\open_weathermap_api_key.txt\") as ins:\n",
    "    API_KEY = ins.readline()\n",
    "\n"
   ]
  },
  {
   "cell_type": "code",
   "execution_count": 19,
   "metadata": {},
   "outputs": [
    {
     "data": {
      "text/plain": [
       "<Response [200 OK]>"
      ]
     },
     "execution_count": 19,
     "metadata": {},
     "output_type": "execute_result"
    }
   ],
   "source": [
    "GEO_LOCATION_URL = \"http://api.openweathermap.org/geo/1.0/direct\"\n",
    "GEO_LOCATION_PARAMS = {\n",
    "    \"q\": None,\n",
    "    \"limit\": \"1\",\n",
    "    \"appid\": API_KEY\n",
    "}\n",
    "\n",
    "GEO_LOCATION_PARAMS[\"q\"] = \"Chennai\"\n",
    "\n",
    "res = httpx.get(GEO_LOCATION_URL, params=GEO_LOCATION_PARAMS)\n",
    "res"
   ]
  },
  {
   "cell_type": "code",
   "execution_count": 24,
   "metadata": {},
   "outputs": [
    {
     "data": {
      "text/plain": [
       "(13.0836939, 80.270186)"
      ]
     },
     "execution_count": 24,
     "metadata": {},
     "output_type": "execute_result"
    }
   ],
   "source": [
    "res.headers[\"content-type\"]\n",
    "lat, lon = res.json()[0][\"lat\"], res.json()[0][\"lon\"]\n",
    "lat, lon"
   ]
  },
  {
   "cell_type": "code",
   "execution_count": 42,
   "metadata": {},
   "outputs": [
    {
     "data": {
      "text/plain": [
       "<Response [200 OK]>"
      ]
     },
     "execution_count": 42,
     "metadata": {},
     "output_type": "execute_result"
    }
   ],
   "source": [
    "WEATHER_URL = \"https://api.openweathermap.org/data/2.5/weather\"\n",
    "WEATHER_PARAMS = {\n",
    "    \"lat\": lat,\n",
    "    \"lon\": lon,\n",
    "    \"units\": \"metric\",\n",
    "    \"mode\": \"html\",\n",
    "    \"appid\": API_KEY\n",
    "}\n",
    "\n",
    "res = httpx.get(WEATHER_URL, params=WEATHER_PARAMS)\n",
    "res"
   ]
  },
  {
   "cell_type": "code",
   "execution_count": 43,
   "metadata": {},
   "outputs": [
    {
     "data": {
      "text/plain": [
       "'text/html; charset=utf-8'"
      ]
     },
     "execution_count": 43,
     "metadata": {},
     "output_type": "execute_result"
    }
   ],
   "source": [
    "res.headers[\"content-type\"]"
   ]
  },
  {
   "cell_type": "code",
   "execution_count": 44,
   "metadata": {},
   "outputs": [
    {
     "data": {
      "text/plain": [
       "'<!DOCTYPE html>\\n<html lang=\"en\">\\n<head>\\n  <meta charset=\"utf-8\">\\n  <meta name=\"keywords\" content=\"weather, world, openweathermap, weather, layer\" />\\n  <meta name=\"description\" content=\"A layer with current weather conditions in cities for world wide\" />\\n  <meta name=\"domain\" content=\"openweathermap.org\" />\\n  <meta http-equiv=\"pragma\" content=\"no-cache\" />\\n  <meta http-equiv=\"Expires\" content=\"-1\" />\\n</head>\\n<body>\\n  <div style=\"font-size: medium; font-weight: bold; margin-bottom: 0px;\">Park Town</div>\\n  <div style=\"float: left; width: 130px;\">\\n    <div style=\"display: block; clear: left;\">\\n      <div style=\"float: left;\" title=\"Titel\">\\n        <img height=\"45\" width=\"45\" style=\"border: medium none; width: 45px; height: 45px; background: url(&quot;http://openweathermap.org/img/w/50d.png&quot;) repeat scroll 0% 0% transparent;\" alt=\"title\" src=\"http://openweathermap.org/images/transparent.png\"/>\\n      </div>\\n      <div style=\"float: left;\">\\n        <div style=\"display: block; clear: left; font-size: medium; font-weight: bold; padding: 0pt 3pt;\" title=\"Current Temperature\">29.55°C</div>\\n        <div style=\"display: block; width: 85px; overflow: visible;\"></div>\\n      </div>\\n    </div>\\n    <div style=\"display: block; clear: left; font-size: small;\">Clouds: 40%</div>\\n    <div style=\"display: block; clear: left; color: gray; font-size: x-small;\" >Humidity: 71%</div>\\n    <div style=\"display: block; clear: left; color: gray; font-size: x-small;\" >Wind: 5.14 m/s</div>\\n    <div style=\"display: block; clear: left; color: gray; font-size: x-small;\" >Pressure: 1011hPa</div>\\n  </div>\\n  <div style=\"display: block; clear: left; color: gray; font-size: x-small;\">\\n    <a href=\"http://openweathermap.org/city/1465730?utm_source=openweathermap&utm_medium=widget&utm_campaign=html_old\" target=\"_blank\">More..</a>\\n  </div>\\n  <script>(function(i,s,o,g,r,a,m){i[\\'GoogleAnalyticsObject\\']=r;i[r]=i[r]||function(){\\n(i[r].q=i[r].q||[]).push(arguments)},i[r].l=1*new Date();a=s.createElement(o),\\nm=s.getElementsByTagName(o)[0];a.async=1;a.src=g;m.parentNode.insertBefore(a,m)\\n})(window,document,\\'script\\',\\'//www.google-analytics.com/analytics.js\\',\\'ga\\');ga(\\'create\\', \\'UA-31601618-9\\', \\'auto\\');ga(\\'send\\', \\'pageview\\');</script>\\n</body>\\n</html>'"
      ]
     },
     "execution_count": 44,
     "metadata": {},
     "output_type": "execute_result"
    }
   ],
   "source": [
    "res.text"
   ]
  },
  {
   "cell_type": "code",
   "execution_count": null,
   "metadata": {},
   "outputs": [
    {
     "ename": "AttributeError",
     "evalue": "'function' object has no attribute 'HTML'",
     "output_type": "error",
     "traceback": [
      "\u001b[1;31m---------------------------------------------------------------------------\u001b[0m",
      "\u001b[1;31mAttributeError\u001b[0m                            Traceback (most recent call last)",
      "Input \u001b[1;32mIn [48]\u001b[0m, in \u001b[0;36m<module>\u001b[1;34m\u001b[0m\n\u001b[1;32m----> 1\u001b[0m \u001b[43mdisplay\u001b[49m\u001b[38;5;241;43m.\u001b[39;49m\u001b[43mHTML\u001b[49m(res\u001b[38;5;241m.\u001b[39mtext)\n",
      "\u001b[1;31mAttributeError\u001b[0m: 'function' object has no attribute 'HTML'"
     ]
    }
   ],
   "source": []
  },
  {
   "cell_type": "code",
   "execution_count": 29,
   "metadata": {},
   "outputs": [
    {
     "data": {
      "text/plain": [
       "29.16"
      ]
     },
     "execution_count": 29,
     "metadata": {},
     "output_type": "execute_result"
    }
   ],
   "source": [
    "res.json()[\"main\"][\"temp\"]"
   ]
  },
  {
   "cell_type": "markdown",
   "metadata": {},
   "source": [
    "### Common HTTP verbs (methods) in use for API:\n",
    "  1. GET /resource    - Fetch a resource (SELECT in SQL)\n",
    "  2. POST /resource   - Create a resource (INSERT in SQL) \n",
    "  3. PUT /resource    - Replace a resource (REPLACE in SQL)\n",
    "  4. PATCH /resource  - Update a resource (UPDATE in SQL)\n",
    "  5. DELETE /resource - Delete a resource (DELETE in SQL)\n",
    "\n",
    "### In pure RESTful idioms: resources are of two types:\n",
    "    - Collection resource\n",
    "      - GET /employees -> should return a \"list\" of employees\n",
    "      - POST /employees -> add a new record into the collection\n",
    "  \n",
    "    - Singular resource\n",
    "      - GET /employees/employee_id -> Should return a single record representing the resource\n",
    "      - PUT /employees/employee_id -> Replace the employee for the given employee_id\n",
    "      - PATCH /employees/employee_id\n",
    "      - DELETE /employees/employee_id\n",
    "  \n",
    "  \n",
    "   "
   ]
  },
  {
   "cell_type": "code",
   "execution_count": 37,
   "metadata": {},
   "outputs": [
    {
     "name": "stdout",
     "output_type": "stream",
     "text": [
      "\u001b[1;31mSignature:\u001b[0m\n",
      "\u001b[0mhttpx\u001b[0m\u001b[1;33m.\u001b[0m\u001b[0mget\u001b[0m\u001b[1;33m(\u001b[0m\u001b[1;33m\n",
      "\u001b[0m    \u001b[0murl\u001b[0m\u001b[1;33m:\u001b[0m \u001b[1;34m'URL | str'\u001b[0m\u001b[1;33m,\u001b[0m\u001b[1;33m\n",
      "\u001b[0m    \u001b[1;33m*\u001b[0m\u001b[1;33m,\u001b[0m\u001b[1;33m\n",
      "\u001b[0m    \u001b[0mparams\u001b[0m\u001b[1;33m:\u001b[0m \u001b[1;34m'QueryParamTypes | None'\u001b[0m \u001b[1;33m=\u001b[0m \u001b[1;32mNone\u001b[0m\u001b[1;33m,\u001b[0m\u001b[1;33m\n",
      "\u001b[0m    \u001b[0mheaders\u001b[0m\u001b[1;33m:\u001b[0m \u001b[1;34m'HeaderTypes | None'\u001b[0m \u001b[1;33m=\u001b[0m \u001b[1;32mNone\u001b[0m\u001b[1;33m,\u001b[0m\u001b[1;33m\n",
      "\u001b[0m    \u001b[0mcookies\u001b[0m\u001b[1;33m:\u001b[0m \u001b[1;34m'CookieTypes | None'\u001b[0m \u001b[1;33m=\u001b[0m \u001b[1;32mNone\u001b[0m\u001b[1;33m,\u001b[0m\u001b[1;33m\n",
      "\u001b[0m    \u001b[0mauth\u001b[0m\u001b[1;33m:\u001b[0m \u001b[1;34m'AuthTypes | None'\u001b[0m \u001b[1;33m=\u001b[0m \u001b[1;32mNone\u001b[0m\u001b[1;33m,\u001b[0m\u001b[1;33m\n",
      "\u001b[0m    \u001b[0mproxy\u001b[0m\u001b[1;33m:\u001b[0m \u001b[1;34m'ProxyTypes | None'\u001b[0m \u001b[1;33m=\u001b[0m \u001b[1;32mNone\u001b[0m\u001b[1;33m,\u001b[0m\u001b[1;33m\n",
      "\u001b[0m    \u001b[0mproxies\u001b[0m\u001b[1;33m:\u001b[0m \u001b[1;34m'ProxiesTypes | None'\u001b[0m \u001b[1;33m=\u001b[0m \u001b[1;32mNone\u001b[0m\u001b[1;33m,\u001b[0m\u001b[1;33m\n",
      "\u001b[0m    \u001b[0mfollow_redirects\u001b[0m\u001b[1;33m:\u001b[0m \u001b[1;34m'bool'\u001b[0m \u001b[1;33m=\u001b[0m \u001b[1;32mFalse\u001b[0m\u001b[1;33m,\u001b[0m\u001b[1;33m\n",
      "\u001b[0m    \u001b[0mcert\u001b[0m\u001b[1;33m:\u001b[0m \u001b[1;34m'CertTypes | None'\u001b[0m \u001b[1;33m=\u001b[0m \u001b[1;32mNone\u001b[0m\u001b[1;33m,\u001b[0m\u001b[1;33m\n",
      "\u001b[0m    \u001b[0mverify\u001b[0m\u001b[1;33m:\u001b[0m \u001b[1;34m'VerifyTypes'\u001b[0m \u001b[1;33m=\u001b[0m \u001b[1;32mTrue\u001b[0m\u001b[1;33m,\u001b[0m\u001b[1;33m\n",
      "\u001b[0m    \u001b[0mtimeout\u001b[0m\u001b[1;33m:\u001b[0m \u001b[1;34m'TimeoutTypes'\u001b[0m \u001b[1;33m=\u001b[0m \u001b[0mTimeout\u001b[0m\u001b[1;33m(\u001b[0m\u001b[0mtimeout\u001b[0m\u001b[1;33m=\u001b[0m\u001b[1;36m5.0\u001b[0m\u001b[1;33m)\u001b[0m\u001b[1;33m,\u001b[0m\u001b[1;33m\n",
      "\u001b[0m    \u001b[0mtrust_env\u001b[0m\u001b[1;33m:\u001b[0m \u001b[1;34m'bool'\u001b[0m \u001b[1;33m=\u001b[0m \u001b[1;32mTrue\u001b[0m\u001b[1;33m,\u001b[0m\u001b[1;33m\n",
      "\u001b[0m\u001b[1;33m)\u001b[0m \u001b[1;33m->\u001b[0m \u001b[1;34m'Response'\u001b[0m\u001b[1;33m\u001b[0m\u001b[1;33m\u001b[0m\u001b[0m\n",
      "\u001b[1;31mDocstring:\u001b[0m\n",
      "Sends a `GET` request.\n",
      "\n",
      "**Parameters**: See `httpx.request`.\n",
      "\n",
      "Note that the `data`, `files`, `json` and `content` parameters are not available\n",
      "on this function, as `GET` requests should not include a request body.\n",
      "\u001b[1;31mFile:\u001b[0m      c:\\python310\\lib\\site-packages\\httpx\\_api.py\n",
      "\u001b[1;31mType:\u001b[0m      function\n"
     ]
    }
   ],
   "source": [
    "httpx.get?"
   ]
  },
  {
   "cell_type": "code",
   "execution_count": 50,
   "metadata": {},
   "outputs": [
    {
     "data": {
      "text/plain": [
       "<Response [200 OK]>"
      ]
     },
     "execution_count": 50,
     "metadata": {},
     "output_type": "execute_result"
    }
   ],
   "source": [
    "httpx.get(\"http://python.org/\", follow_redirects=True)"
   ]
  },
  {
   "cell_type": "code",
   "execution_count": 51,
   "metadata": {},
   "outputs": [
    {
     "ename": "ConnectError",
     "evalue": "[SSL: CERTIFICATE_VERIFY_FAILED] certificate verify failed: certificate has expired (_ssl.c:997)",
     "output_type": "error",
     "traceback": [
      "\u001b[1;31m---------------------------------------------------------------------------\u001b[0m",
      "\u001b[1;31mConnectError\u001b[0m                              Traceback (most recent call last)",
      "File \u001b[1;32mc:\\Python310\\lib\\site-packages\\httpx\\_transports\\default.py:72\u001b[0m, in \u001b[0;36mmap_httpcore_exceptions\u001b[1;34m()\u001b[0m\n\u001b[0;32m     71\u001b[0m \u001b[38;5;28;01mtry\u001b[39;00m:\n\u001b[1;32m---> 72\u001b[0m     \u001b[38;5;28;01myield\u001b[39;00m\n\u001b[0;32m     73\u001b[0m \u001b[38;5;28;01mexcept\u001b[39;00m \u001b[38;5;167;01mException\u001b[39;00m \u001b[38;5;28;01mas\u001b[39;00m exc:\n",
      "File \u001b[1;32mc:\\Python310\\lib\\site-packages\\httpx\\_transports\\default.py:236\u001b[0m, in \u001b[0;36mHTTPTransport.handle_request\u001b[1;34m(self, request)\u001b[0m\n\u001b[0;32m    235\u001b[0m \u001b[38;5;28;01mwith\u001b[39;00m map_httpcore_exceptions():\n\u001b[1;32m--> 236\u001b[0m     resp \u001b[38;5;241m=\u001b[39m \u001b[38;5;28;43mself\u001b[39;49m\u001b[38;5;241;43m.\u001b[39;49m\u001b[43m_pool\u001b[49m\u001b[38;5;241;43m.\u001b[39;49m\u001b[43mhandle_request\u001b[49m\u001b[43m(\u001b[49m\u001b[43mreq\u001b[49m\u001b[43m)\u001b[49m\n\u001b[0;32m    238\u001b[0m \u001b[38;5;28;01massert\u001b[39;00m \u001b[38;5;28misinstance\u001b[39m(resp\u001b[38;5;241m.\u001b[39mstream, typing\u001b[38;5;241m.\u001b[39mIterable)\n",
      "File \u001b[1;32mc:\\Python310\\lib\\site-packages\\httpcore\\_sync\\connection_pool.py:216\u001b[0m, in \u001b[0;36mConnectionPool.handle_request\u001b[1;34m(self, request)\u001b[0m\n\u001b[0;32m    215\u001b[0m     \u001b[38;5;28mself\u001b[39m\u001b[38;5;241m.\u001b[39m_close_connections(closing)\n\u001b[1;32m--> 216\u001b[0m     \u001b[38;5;28;01mraise\u001b[39;00m exc \u001b[38;5;28;01mfrom\u001b[39;00m \u001b[38;5;28mNone\u001b[39m\n\u001b[0;32m    218\u001b[0m \u001b[38;5;66;03m# Return the response. Note that in this case we still have to manage\u001b[39;00m\n\u001b[0;32m    219\u001b[0m \u001b[38;5;66;03m# the point at which the response is closed.\u001b[39;00m\n",
      "File \u001b[1;32mc:\\Python310\\lib\\site-packages\\httpcore\\_sync\\connection_pool.py:196\u001b[0m, in \u001b[0;36mConnectionPool.handle_request\u001b[1;34m(self, request)\u001b[0m\n\u001b[0;32m    194\u001b[0m \u001b[38;5;28;01mtry\u001b[39;00m:\n\u001b[0;32m    195\u001b[0m     \u001b[38;5;66;03m# Send the request on the assigned connection.\u001b[39;00m\n\u001b[1;32m--> 196\u001b[0m     response \u001b[38;5;241m=\u001b[39m \u001b[43mconnection\u001b[49m\u001b[38;5;241;43m.\u001b[39;49m\u001b[43mhandle_request\u001b[49m\u001b[43m(\u001b[49m\n\u001b[0;32m    197\u001b[0m \u001b[43m        \u001b[49m\u001b[43mpool_request\u001b[49m\u001b[38;5;241;43m.\u001b[39;49m\u001b[43mrequest\u001b[49m\n\u001b[0;32m    198\u001b[0m \u001b[43m    \u001b[49m\u001b[43m)\u001b[49m\n\u001b[0;32m    199\u001b[0m \u001b[38;5;28;01mexcept\u001b[39;00m ConnectionNotAvailable:\n\u001b[0;32m    200\u001b[0m     \u001b[38;5;66;03m# In some cases a connection may initially be available to\u001b[39;00m\n\u001b[0;32m    201\u001b[0m     \u001b[38;5;66;03m# handle a request, but then become unavailable.\u001b[39;00m\n\u001b[0;32m    202\u001b[0m     \u001b[38;5;66;03m#\u001b[39;00m\n\u001b[0;32m    203\u001b[0m     \u001b[38;5;66;03m# In this case we clear the connection and try again.\u001b[39;00m\n",
      "File \u001b[1;32mc:\\Python310\\lib\\site-packages\\httpcore\\_sync\\connection.py:99\u001b[0m, in \u001b[0;36mHTTPConnection.handle_request\u001b[1;34m(self, request)\u001b[0m\n\u001b[0;32m     98\u001b[0m     \u001b[38;5;28mself\u001b[39m\u001b[38;5;241m.\u001b[39m_connect_failed \u001b[38;5;241m=\u001b[39m \u001b[38;5;28;01mTrue\u001b[39;00m\n\u001b[1;32m---> 99\u001b[0m     \u001b[38;5;28;01mraise\u001b[39;00m exc\n\u001b[0;32m    101\u001b[0m \u001b[38;5;28;01mreturn\u001b[39;00m \u001b[38;5;28mself\u001b[39m\u001b[38;5;241m.\u001b[39m_connection\u001b[38;5;241m.\u001b[39mhandle_request(request)\n",
      "File \u001b[1;32mc:\\Python310\\lib\\site-packages\\httpcore\\_sync\\connection.py:76\u001b[0m, in \u001b[0;36mHTTPConnection.handle_request\u001b[1;34m(self, request)\u001b[0m\n\u001b[0;32m     75\u001b[0m \u001b[38;5;28;01mif\u001b[39;00m \u001b[38;5;28mself\u001b[39m\u001b[38;5;241m.\u001b[39m_connection \u001b[38;5;129;01mis\u001b[39;00m \u001b[38;5;28;01mNone\u001b[39;00m:\n\u001b[1;32m---> 76\u001b[0m     stream \u001b[38;5;241m=\u001b[39m \u001b[38;5;28;43mself\u001b[39;49m\u001b[38;5;241;43m.\u001b[39;49m\u001b[43m_connect\u001b[49m\u001b[43m(\u001b[49m\u001b[43mrequest\u001b[49m\u001b[43m)\u001b[49m\n\u001b[0;32m     78\u001b[0m     ssl_object \u001b[38;5;241m=\u001b[39m stream\u001b[38;5;241m.\u001b[39mget_extra_info(\u001b[38;5;124m\"\u001b[39m\u001b[38;5;124mssl_object\u001b[39m\u001b[38;5;124m\"\u001b[39m)\n",
      "File \u001b[1;32mc:\\Python310\\lib\\site-packages\\httpcore\\_sync\\connection.py:154\u001b[0m, in \u001b[0;36mHTTPConnection._connect\u001b[1;34m(self, request)\u001b[0m\n\u001b[0;32m    153\u001b[0m \u001b[38;5;28;01mwith\u001b[39;00m Trace(\u001b[38;5;124m\"\u001b[39m\u001b[38;5;124mstart_tls\u001b[39m\u001b[38;5;124m\"\u001b[39m, logger, request, kwargs) \u001b[38;5;28;01mas\u001b[39;00m trace:\n\u001b[1;32m--> 154\u001b[0m     stream \u001b[38;5;241m=\u001b[39m stream\u001b[38;5;241m.\u001b[39mstart_tls(\u001b[38;5;241m*\u001b[39m\u001b[38;5;241m*\u001b[39mkwargs)\n\u001b[0;32m    155\u001b[0m     trace\u001b[38;5;241m.\u001b[39mreturn_value \u001b[38;5;241m=\u001b[39m stream\n",
      "File \u001b[1;32mc:\\Python310\\lib\\site-packages\\httpcore\\_backends\\sync.py:152\u001b[0m, in \u001b[0;36mSyncStream.start_tls\u001b[1;34m(self, ssl_context, server_hostname, timeout)\u001b[0m\n\u001b[0;32m    148\u001b[0m exc_map: ExceptionMapping \u001b[38;5;241m=\u001b[39m {\n\u001b[0;32m    149\u001b[0m     socket\u001b[38;5;241m.\u001b[39mtimeout: ConnectTimeout,\n\u001b[0;32m    150\u001b[0m     \u001b[38;5;167;01mOSError\u001b[39;00m: ConnectError,\n\u001b[0;32m    151\u001b[0m }\n\u001b[1;32m--> 152\u001b[0m \u001b[38;5;28;01mwith\u001b[39;00m map_exceptions(exc_map):\n\u001b[0;32m    153\u001b[0m     \u001b[38;5;28;01mtry\u001b[39;00m:\n",
      "File \u001b[1;32mc:\\Python310\\lib\\contextlib.py:153\u001b[0m, in \u001b[0;36m_GeneratorContextManager.__exit__\u001b[1;34m(self, typ, value, traceback)\u001b[0m\n\u001b[0;32m    152\u001b[0m \u001b[38;5;28;01mtry\u001b[39;00m:\n\u001b[1;32m--> 153\u001b[0m     \u001b[38;5;28;43mself\u001b[39;49m\u001b[38;5;241;43m.\u001b[39;49m\u001b[43mgen\u001b[49m\u001b[38;5;241;43m.\u001b[39;49m\u001b[43mthrow\u001b[49m\u001b[43m(\u001b[49m\u001b[43mtyp\u001b[49m\u001b[43m,\u001b[49m\u001b[43m \u001b[49m\u001b[43mvalue\u001b[49m\u001b[43m,\u001b[49m\u001b[43m \u001b[49m\u001b[43mtraceback\u001b[49m\u001b[43m)\u001b[49m\n\u001b[0;32m    154\u001b[0m \u001b[38;5;28;01mexcept\u001b[39;00m \u001b[38;5;167;01mStopIteration\u001b[39;00m \u001b[38;5;28;01mas\u001b[39;00m exc:\n\u001b[0;32m    155\u001b[0m     \u001b[38;5;66;03m# Suppress StopIteration *unless* it's the same exception that\u001b[39;00m\n\u001b[0;32m    156\u001b[0m     \u001b[38;5;66;03m# was passed to throw().  This prevents a StopIteration\u001b[39;00m\n\u001b[0;32m    157\u001b[0m     \u001b[38;5;66;03m# raised inside the \"with\" statement from being suppressed.\u001b[39;00m\n",
      "File \u001b[1;32mc:\\Python310\\lib\\site-packages\\httpcore\\_exceptions.py:14\u001b[0m, in \u001b[0;36mmap_exceptions\u001b[1;34m(map)\u001b[0m\n\u001b[0;32m     13\u001b[0m     \u001b[38;5;28;01mif\u001b[39;00m \u001b[38;5;28misinstance\u001b[39m(exc, from_exc):\n\u001b[1;32m---> 14\u001b[0m         \u001b[38;5;28;01mraise\u001b[39;00m to_exc(exc) \u001b[38;5;28;01mfrom\u001b[39;00m \u001b[38;5;21;01mexc\u001b[39;00m\n\u001b[0;32m     15\u001b[0m \u001b[38;5;28;01mraise\u001b[39;00m\n",
      "\u001b[1;31mConnectError\u001b[0m: [SSL: CERTIFICATE_VERIFY_FAILED] certificate verify failed: certificate has expired (_ssl.c:997)",
      "\nThe above exception was the direct cause of the following exception:\n",
      "\u001b[1;31mConnectError\u001b[0m                              Traceback (most recent call last)",
      "Input \u001b[1;32mIn [51]\u001b[0m, in \u001b[0;36m<module>\u001b[1;34m\u001b[0m\n\u001b[1;32m----> 1\u001b[0m \u001b[43mhttpx\u001b[49m\u001b[38;5;241;43m.\u001b[39;49m\u001b[43mget\u001b[49m\u001b[43m(\u001b[49m\u001b[38;5;124;43m\"\u001b[39;49m\u001b[38;5;124;43mhttps://expired.badssl.com/\u001b[39;49m\u001b[38;5;124;43m\"\u001b[39;49m\u001b[43m)\u001b[49m\n",
      "File \u001b[1;32mc:\\Python310\\lib\\site-packages\\httpx\\_api.py:210\u001b[0m, in \u001b[0;36mget\u001b[1;34m(url, params, headers, cookies, auth, proxy, proxies, follow_redirects, cert, verify, timeout, trust_env)\u001b[0m\n\u001b[0;32m    187\u001b[0m \u001b[38;5;28;01mdef\u001b[39;00m \u001b[38;5;21mget\u001b[39m(\n\u001b[0;32m    188\u001b[0m     url: URL \u001b[38;5;241m|\u001b[39m \u001b[38;5;28mstr\u001b[39m,\n\u001b[0;32m    189\u001b[0m     \u001b[38;5;241m*\u001b[39m,\n\u001b[1;32m   (...)\u001b[0m\n\u001b[0;32m    200\u001b[0m     trust_env: \u001b[38;5;28mbool\u001b[39m \u001b[38;5;241m=\u001b[39m \u001b[38;5;28;01mTrue\u001b[39;00m,\n\u001b[0;32m    201\u001b[0m ) \u001b[38;5;241m-\u001b[39m\u001b[38;5;241m>\u001b[39m Response:\n\u001b[0;32m    202\u001b[0m     \u001b[38;5;124;03m\"\"\"\u001b[39;00m\n\u001b[0;32m    203\u001b[0m \u001b[38;5;124;03m    Sends a `GET` request.\u001b[39;00m\n\u001b[0;32m    204\u001b[0m \n\u001b[1;32m   (...)\u001b[0m\n\u001b[0;32m    208\u001b[0m \u001b[38;5;124;03m    on this function, as `GET` requests should not include a request body.\u001b[39;00m\n\u001b[0;32m    209\u001b[0m \u001b[38;5;124;03m    \"\"\"\u001b[39;00m\n\u001b[1;32m--> 210\u001b[0m     \u001b[38;5;28;01mreturn\u001b[39;00m \u001b[43mrequest\u001b[49m\u001b[43m(\u001b[49m\n\u001b[0;32m    211\u001b[0m \u001b[43m        \u001b[49m\u001b[38;5;124;43m\"\u001b[39;49m\u001b[38;5;124;43mGET\u001b[39;49m\u001b[38;5;124;43m\"\u001b[39;49m\u001b[43m,\u001b[49m\n\u001b[0;32m    212\u001b[0m \u001b[43m        \u001b[49m\u001b[43murl\u001b[49m\u001b[43m,\u001b[49m\n\u001b[0;32m    213\u001b[0m \u001b[43m        \u001b[49m\u001b[43mparams\u001b[49m\u001b[38;5;241;43m=\u001b[39;49m\u001b[43mparams\u001b[49m\u001b[43m,\u001b[49m\n\u001b[0;32m    214\u001b[0m \u001b[43m        \u001b[49m\u001b[43mheaders\u001b[49m\u001b[38;5;241;43m=\u001b[39;49m\u001b[43mheaders\u001b[49m\u001b[43m,\u001b[49m\n\u001b[0;32m    215\u001b[0m \u001b[43m        \u001b[49m\u001b[43mcookies\u001b[49m\u001b[38;5;241;43m=\u001b[39;49m\u001b[43mcookies\u001b[49m\u001b[43m,\u001b[49m\n\u001b[0;32m    216\u001b[0m \u001b[43m        \u001b[49m\u001b[43mauth\u001b[49m\u001b[38;5;241;43m=\u001b[39;49m\u001b[43mauth\u001b[49m\u001b[43m,\u001b[49m\n\u001b[0;32m    217\u001b[0m \u001b[43m        \u001b[49m\u001b[43mproxy\u001b[49m\u001b[38;5;241;43m=\u001b[39;49m\u001b[43mproxy\u001b[49m\u001b[43m,\u001b[49m\n\u001b[0;32m    218\u001b[0m \u001b[43m        \u001b[49m\u001b[43mproxies\u001b[49m\u001b[38;5;241;43m=\u001b[39;49m\u001b[43mproxies\u001b[49m\u001b[43m,\u001b[49m\n\u001b[0;32m    219\u001b[0m \u001b[43m        \u001b[49m\u001b[43mfollow_redirects\u001b[49m\u001b[38;5;241;43m=\u001b[39;49m\u001b[43mfollow_redirects\u001b[49m\u001b[43m,\u001b[49m\n\u001b[0;32m    220\u001b[0m \u001b[43m        \u001b[49m\u001b[43mcert\u001b[49m\u001b[38;5;241;43m=\u001b[39;49m\u001b[43mcert\u001b[49m\u001b[43m,\u001b[49m\n\u001b[0;32m    221\u001b[0m \u001b[43m        \u001b[49m\u001b[43mverify\u001b[49m\u001b[38;5;241;43m=\u001b[39;49m\u001b[43mverify\u001b[49m\u001b[43m,\u001b[49m\n\u001b[0;32m    222\u001b[0m \u001b[43m        \u001b[49m\u001b[43mtimeout\u001b[49m\u001b[38;5;241;43m=\u001b[39;49m\u001b[43mtimeout\u001b[49m\u001b[43m,\u001b[49m\n\u001b[0;32m    223\u001b[0m \u001b[43m        \u001b[49m\u001b[43mtrust_env\u001b[49m\u001b[38;5;241;43m=\u001b[39;49m\u001b[43mtrust_env\u001b[49m\u001b[43m,\u001b[49m\n\u001b[0;32m    224\u001b[0m \u001b[43m    \u001b[49m\u001b[43m)\u001b[49m\n",
      "File \u001b[1;32mc:\\Python310\\lib\\site-packages\\httpx\\_api.py:118\u001b[0m, in \u001b[0;36mrequest\u001b[1;34m(method, url, params, content, data, files, json, headers, cookies, auth, proxy, proxies, timeout, follow_redirects, verify, cert, trust_env)\u001b[0m\n\u001b[0;32m     58\u001b[0m \u001b[38;5;124;03m\"\"\"\u001b[39;00m\n\u001b[0;32m     59\u001b[0m \u001b[38;5;124;03mSends an HTTP request.\u001b[39;00m\n\u001b[0;32m     60\u001b[0m \n\u001b[1;32m   (...)\u001b[0m\n\u001b[0;32m    107\u001b[0m \u001b[38;5;124;03m```\u001b[39;00m\n\u001b[0;32m    108\u001b[0m \u001b[38;5;124;03m\"\"\"\u001b[39;00m\n\u001b[0;32m    109\u001b[0m \u001b[38;5;28;01mwith\u001b[39;00m Client(\n\u001b[0;32m    110\u001b[0m     cookies\u001b[38;5;241m=\u001b[39mcookies,\n\u001b[0;32m    111\u001b[0m     proxy\u001b[38;5;241m=\u001b[39mproxy,\n\u001b[1;32m   (...)\u001b[0m\n\u001b[0;32m    116\u001b[0m     trust_env\u001b[38;5;241m=\u001b[39mtrust_env,\n\u001b[0;32m    117\u001b[0m ) \u001b[38;5;28;01mas\u001b[39;00m client:\n\u001b[1;32m--> 118\u001b[0m     \u001b[38;5;28;01mreturn\u001b[39;00m \u001b[43mclient\u001b[49m\u001b[38;5;241;43m.\u001b[39;49m\u001b[43mrequest\u001b[49m\u001b[43m(\u001b[49m\n\u001b[0;32m    119\u001b[0m \u001b[43m        \u001b[49m\u001b[43mmethod\u001b[49m\u001b[38;5;241;43m=\u001b[39;49m\u001b[43mmethod\u001b[49m\u001b[43m,\u001b[49m\n\u001b[0;32m    120\u001b[0m \u001b[43m        \u001b[49m\u001b[43murl\u001b[49m\u001b[38;5;241;43m=\u001b[39;49m\u001b[43murl\u001b[49m\u001b[43m,\u001b[49m\n\u001b[0;32m    121\u001b[0m \u001b[43m        \u001b[49m\u001b[43mcontent\u001b[49m\u001b[38;5;241;43m=\u001b[39;49m\u001b[43mcontent\u001b[49m\u001b[43m,\u001b[49m\n\u001b[0;32m    122\u001b[0m \u001b[43m        \u001b[49m\u001b[43mdata\u001b[49m\u001b[38;5;241;43m=\u001b[39;49m\u001b[43mdata\u001b[49m\u001b[43m,\u001b[49m\n\u001b[0;32m    123\u001b[0m \u001b[43m        \u001b[49m\u001b[43mfiles\u001b[49m\u001b[38;5;241;43m=\u001b[39;49m\u001b[43mfiles\u001b[49m\u001b[43m,\u001b[49m\n\u001b[0;32m    124\u001b[0m \u001b[43m        \u001b[49m\u001b[43mjson\u001b[49m\u001b[38;5;241;43m=\u001b[39;49m\u001b[43mjson\u001b[49m\u001b[43m,\u001b[49m\n\u001b[0;32m    125\u001b[0m \u001b[43m        \u001b[49m\u001b[43mparams\u001b[49m\u001b[38;5;241;43m=\u001b[39;49m\u001b[43mparams\u001b[49m\u001b[43m,\u001b[49m\n\u001b[0;32m    126\u001b[0m \u001b[43m        \u001b[49m\u001b[43mheaders\u001b[49m\u001b[38;5;241;43m=\u001b[39;49m\u001b[43mheaders\u001b[49m\u001b[43m,\u001b[49m\n\u001b[0;32m    127\u001b[0m \u001b[43m        \u001b[49m\u001b[43mauth\u001b[49m\u001b[38;5;241;43m=\u001b[39;49m\u001b[43mauth\u001b[49m\u001b[43m,\u001b[49m\n\u001b[0;32m    128\u001b[0m \u001b[43m        \u001b[49m\u001b[43mfollow_redirects\u001b[49m\u001b[38;5;241;43m=\u001b[39;49m\u001b[43mfollow_redirects\u001b[49m\u001b[43m,\u001b[49m\n\u001b[0;32m    129\u001b[0m \u001b[43m    \u001b[49m\u001b[43m)\u001b[49m\n",
      "File \u001b[1;32mc:\\Python310\\lib\\site-packages\\httpx\\_client.py:837\u001b[0m, in \u001b[0;36mClient.request\u001b[1;34m(self, method, url, content, data, files, json, params, headers, cookies, auth, follow_redirects, timeout, extensions)\u001b[0m\n\u001b[0;32m    822\u001b[0m     warnings\u001b[38;5;241m.\u001b[39mwarn(message, \u001b[38;5;167;01mDeprecationWarning\u001b[39;00m)\n\u001b[0;32m    824\u001b[0m request \u001b[38;5;241m=\u001b[39m \u001b[38;5;28mself\u001b[39m\u001b[38;5;241m.\u001b[39mbuild_request(\n\u001b[0;32m    825\u001b[0m     method\u001b[38;5;241m=\u001b[39mmethod,\n\u001b[0;32m    826\u001b[0m     url\u001b[38;5;241m=\u001b[39murl,\n\u001b[1;32m   (...)\u001b[0m\n\u001b[0;32m    835\u001b[0m     extensions\u001b[38;5;241m=\u001b[39mextensions,\n\u001b[0;32m    836\u001b[0m )\n\u001b[1;32m--> 837\u001b[0m \u001b[38;5;28;01mreturn\u001b[39;00m \u001b[38;5;28;43mself\u001b[39;49m\u001b[38;5;241;43m.\u001b[39;49m\u001b[43msend\u001b[49m\u001b[43m(\u001b[49m\u001b[43mrequest\u001b[49m\u001b[43m,\u001b[49m\u001b[43m \u001b[49m\u001b[43mauth\u001b[49m\u001b[38;5;241;43m=\u001b[39;49m\u001b[43mauth\u001b[49m\u001b[43m,\u001b[49m\u001b[43m \u001b[49m\u001b[43mfollow_redirects\u001b[49m\u001b[38;5;241;43m=\u001b[39;49m\u001b[43mfollow_redirects\u001b[49m\u001b[43m)\u001b[49m\n",
      "File \u001b[1;32mc:\\Python310\\lib\\site-packages\\httpx\\_client.py:926\u001b[0m, in \u001b[0;36mClient.send\u001b[1;34m(self, request, stream, auth, follow_redirects)\u001b[0m\n\u001b[0;32m    922\u001b[0m \u001b[38;5;28mself\u001b[39m\u001b[38;5;241m.\u001b[39m_set_timeout(request)\n\u001b[0;32m    924\u001b[0m auth \u001b[38;5;241m=\u001b[39m \u001b[38;5;28mself\u001b[39m\u001b[38;5;241m.\u001b[39m_build_request_auth(request, auth)\n\u001b[1;32m--> 926\u001b[0m response \u001b[38;5;241m=\u001b[39m \u001b[38;5;28;43mself\u001b[39;49m\u001b[38;5;241;43m.\u001b[39;49m\u001b[43m_send_handling_auth\u001b[49m\u001b[43m(\u001b[49m\n\u001b[0;32m    927\u001b[0m \u001b[43m    \u001b[49m\u001b[43mrequest\u001b[49m\u001b[43m,\u001b[49m\n\u001b[0;32m    928\u001b[0m \u001b[43m    \u001b[49m\u001b[43mauth\u001b[49m\u001b[38;5;241;43m=\u001b[39;49m\u001b[43mauth\u001b[49m\u001b[43m,\u001b[49m\n\u001b[0;32m    929\u001b[0m \u001b[43m    \u001b[49m\u001b[43mfollow_redirects\u001b[49m\u001b[38;5;241;43m=\u001b[39;49m\u001b[43mfollow_redirects\u001b[49m\u001b[43m,\u001b[49m\n\u001b[0;32m    930\u001b[0m \u001b[43m    \u001b[49m\u001b[43mhistory\u001b[49m\u001b[38;5;241;43m=\u001b[39;49m\u001b[43m[\u001b[49m\u001b[43m]\u001b[49m\u001b[43m,\u001b[49m\n\u001b[0;32m    931\u001b[0m \u001b[43m\u001b[49m\u001b[43m)\u001b[49m\n\u001b[0;32m    932\u001b[0m \u001b[38;5;28;01mtry\u001b[39;00m:\n\u001b[0;32m    933\u001b[0m     \u001b[38;5;28;01mif\u001b[39;00m \u001b[38;5;129;01mnot\u001b[39;00m stream:\n",
      "File \u001b[1;32mc:\\Python310\\lib\\site-packages\\httpx\\_client.py:954\u001b[0m, in \u001b[0;36mClient._send_handling_auth\u001b[1;34m(self, request, auth, follow_redirects, history)\u001b[0m\n\u001b[0;32m    951\u001b[0m request \u001b[38;5;241m=\u001b[39m \u001b[38;5;28mnext\u001b[39m(auth_flow)\n\u001b[0;32m    953\u001b[0m \u001b[38;5;28;01mwhile\u001b[39;00m \u001b[38;5;28;01mTrue\u001b[39;00m:\n\u001b[1;32m--> 954\u001b[0m     response \u001b[38;5;241m=\u001b[39m \u001b[38;5;28;43mself\u001b[39;49m\u001b[38;5;241;43m.\u001b[39;49m\u001b[43m_send_handling_redirects\u001b[49m\u001b[43m(\u001b[49m\n\u001b[0;32m    955\u001b[0m \u001b[43m        \u001b[49m\u001b[43mrequest\u001b[49m\u001b[43m,\u001b[49m\n\u001b[0;32m    956\u001b[0m \u001b[43m        \u001b[49m\u001b[43mfollow_redirects\u001b[49m\u001b[38;5;241;43m=\u001b[39;49m\u001b[43mfollow_redirects\u001b[49m\u001b[43m,\u001b[49m\n\u001b[0;32m    957\u001b[0m \u001b[43m        \u001b[49m\u001b[43mhistory\u001b[49m\u001b[38;5;241;43m=\u001b[39;49m\u001b[43mhistory\u001b[49m\u001b[43m,\u001b[49m\n\u001b[0;32m    958\u001b[0m \u001b[43m    \u001b[49m\u001b[43m)\u001b[49m\n\u001b[0;32m    959\u001b[0m     \u001b[38;5;28;01mtry\u001b[39;00m:\n\u001b[0;32m    960\u001b[0m         \u001b[38;5;28;01mtry\u001b[39;00m:\n",
      "File \u001b[1;32mc:\\Python310\\lib\\site-packages\\httpx\\_client.py:991\u001b[0m, in \u001b[0;36mClient._send_handling_redirects\u001b[1;34m(self, request, follow_redirects, history)\u001b[0m\n\u001b[0;32m    988\u001b[0m \u001b[38;5;28;01mfor\u001b[39;00m hook \u001b[38;5;129;01min\u001b[39;00m \u001b[38;5;28mself\u001b[39m\u001b[38;5;241m.\u001b[39m_event_hooks[\u001b[38;5;124m\"\u001b[39m\u001b[38;5;124mrequest\u001b[39m\u001b[38;5;124m\"\u001b[39m]:\n\u001b[0;32m    989\u001b[0m     hook(request)\n\u001b[1;32m--> 991\u001b[0m response \u001b[38;5;241m=\u001b[39m \u001b[38;5;28;43mself\u001b[39;49m\u001b[38;5;241;43m.\u001b[39;49m\u001b[43m_send_single_request\u001b[49m\u001b[43m(\u001b[49m\u001b[43mrequest\u001b[49m\u001b[43m)\u001b[49m\n\u001b[0;32m    992\u001b[0m \u001b[38;5;28;01mtry\u001b[39;00m:\n\u001b[0;32m    993\u001b[0m     \u001b[38;5;28;01mfor\u001b[39;00m hook \u001b[38;5;129;01min\u001b[39;00m \u001b[38;5;28mself\u001b[39m\u001b[38;5;241m.\u001b[39m_event_hooks[\u001b[38;5;124m\"\u001b[39m\u001b[38;5;124mresponse\u001b[39m\u001b[38;5;124m\"\u001b[39m]:\n",
      "File \u001b[1;32mc:\\Python310\\lib\\site-packages\\httpx\\_client.py:1027\u001b[0m, in \u001b[0;36mClient._send_single_request\u001b[1;34m(self, request)\u001b[0m\n\u001b[0;32m   1022\u001b[0m     \u001b[38;5;28;01mraise\u001b[39;00m \u001b[38;5;167;01mRuntimeError\u001b[39;00m(\n\u001b[0;32m   1023\u001b[0m         \u001b[38;5;124m\"\u001b[39m\u001b[38;5;124mAttempted to send an async request with a sync Client instance.\u001b[39m\u001b[38;5;124m\"\u001b[39m\n\u001b[0;32m   1024\u001b[0m     )\n\u001b[0;32m   1026\u001b[0m \u001b[38;5;28;01mwith\u001b[39;00m request_context(request\u001b[38;5;241m=\u001b[39mrequest):\n\u001b[1;32m-> 1027\u001b[0m     response \u001b[38;5;241m=\u001b[39m \u001b[43mtransport\u001b[49m\u001b[38;5;241;43m.\u001b[39;49m\u001b[43mhandle_request\u001b[49m\u001b[43m(\u001b[49m\u001b[43mrequest\u001b[49m\u001b[43m)\u001b[49m\n\u001b[0;32m   1029\u001b[0m \u001b[38;5;28;01massert\u001b[39;00m \u001b[38;5;28misinstance\u001b[39m(response\u001b[38;5;241m.\u001b[39mstream, SyncByteStream)\n\u001b[0;32m   1031\u001b[0m response\u001b[38;5;241m.\u001b[39mrequest \u001b[38;5;241m=\u001b[39m request\n",
      "File \u001b[1;32mc:\\Python310\\lib\\site-packages\\httpx\\_transports\\default.py:235\u001b[0m, in \u001b[0;36mHTTPTransport.handle_request\u001b[1;34m(self, request)\u001b[0m\n\u001b[0;32m    221\u001b[0m \u001b[38;5;28;01massert\u001b[39;00m \u001b[38;5;28misinstance\u001b[39m(request\u001b[38;5;241m.\u001b[39mstream, SyncByteStream)\n\u001b[0;32m    223\u001b[0m req \u001b[38;5;241m=\u001b[39m httpcore\u001b[38;5;241m.\u001b[39mRequest(\n\u001b[0;32m    224\u001b[0m     method\u001b[38;5;241m=\u001b[39mrequest\u001b[38;5;241m.\u001b[39mmethod,\n\u001b[0;32m    225\u001b[0m     url\u001b[38;5;241m=\u001b[39mhttpcore\u001b[38;5;241m.\u001b[39mURL(\n\u001b[1;32m   (...)\u001b[0m\n\u001b[0;32m    233\u001b[0m     extensions\u001b[38;5;241m=\u001b[39mrequest\u001b[38;5;241m.\u001b[39mextensions,\n\u001b[0;32m    234\u001b[0m )\n\u001b[1;32m--> 235\u001b[0m \u001b[38;5;28;01mwith\u001b[39;00m map_httpcore_exceptions():\n\u001b[0;32m    236\u001b[0m     resp \u001b[38;5;241m=\u001b[39m \u001b[38;5;28mself\u001b[39m\u001b[38;5;241m.\u001b[39m_pool\u001b[38;5;241m.\u001b[39mhandle_request(req)\n\u001b[0;32m    238\u001b[0m \u001b[38;5;28;01massert\u001b[39;00m \u001b[38;5;28misinstance\u001b[39m(resp\u001b[38;5;241m.\u001b[39mstream, typing\u001b[38;5;241m.\u001b[39mIterable)\n",
      "File \u001b[1;32mc:\\Python310\\lib\\contextlib.py:153\u001b[0m, in \u001b[0;36m_GeneratorContextManager.__exit__\u001b[1;34m(self, typ, value, traceback)\u001b[0m\n\u001b[0;32m    151\u001b[0m     value \u001b[38;5;241m=\u001b[39m typ()\n\u001b[0;32m    152\u001b[0m \u001b[38;5;28;01mtry\u001b[39;00m:\n\u001b[1;32m--> 153\u001b[0m     \u001b[38;5;28;43mself\u001b[39;49m\u001b[38;5;241;43m.\u001b[39;49m\u001b[43mgen\u001b[49m\u001b[38;5;241;43m.\u001b[39;49m\u001b[43mthrow\u001b[49m\u001b[43m(\u001b[49m\u001b[43mtyp\u001b[49m\u001b[43m,\u001b[49m\u001b[43m \u001b[49m\u001b[43mvalue\u001b[49m\u001b[43m,\u001b[49m\u001b[43m \u001b[49m\u001b[43mtraceback\u001b[49m\u001b[43m)\u001b[49m\n\u001b[0;32m    154\u001b[0m \u001b[38;5;28;01mexcept\u001b[39;00m \u001b[38;5;167;01mStopIteration\u001b[39;00m \u001b[38;5;28;01mas\u001b[39;00m exc:\n\u001b[0;32m    155\u001b[0m     \u001b[38;5;66;03m# Suppress StopIteration *unless* it's the same exception that\u001b[39;00m\n\u001b[0;32m    156\u001b[0m     \u001b[38;5;66;03m# was passed to throw().  This prevents a StopIteration\u001b[39;00m\n\u001b[0;32m    157\u001b[0m     \u001b[38;5;66;03m# raised inside the \"with\" statement from being suppressed.\u001b[39;00m\n\u001b[0;32m    158\u001b[0m     \u001b[38;5;28;01mreturn\u001b[39;00m exc \u001b[38;5;129;01mis\u001b[39;00m \u001b[38;5;129;01mnot\u001b[39;00m value\n",
      "File \u001b[1;32mc:\\Python310\\lib\\site-packages\\httpx\\_transports\\default.py:89\u001b[0m, in \u001b[0;36mmap_httpcore_exceptions\u001b[1;34m()\u001b[0m\n\u001b[0;32m     86\u001b[0m     \u001b[38;5;28;01mraise\u001b[39;00m\n\u001b[0;32m     88\u001b[0m message \u001b[38;5;241m=\u001b[39m \u001b[38;5;28mstr\u001b[39m(exc)\n\u001b[1;32m---> 89\u001b[0m \u001b[38;5;28;01mraise\u001b[39;00m mapped_exc(message) \u001b[38;5;28;01mfrom\u001b[39;00m \u001b[38;5;21;01mexc\u001b[39;00m\n",
      "\u001b[1;31mConnectError\u001b[0m: [SSL: CERTIFICATE_VERIFY_FAILED] certificate verify failed: certificate has expired (_ssl.c:997)"
     ]
    }
   ],
   "source": [
    "httpx.get(\"https://expired.badssl.com/\")"
   ]
  },
  {
   "cell_type": "code",
   "execution_count": 52,
   "metadata": {},
   "outputs": [
    {
     "data": {
      "text/plain": [
       "<Response [200 OK]>"
      ]
     },
     "execution_count": 52,
     "metadata": {},
     "output_type": "execute_result"
    }
   ],
   "source": [
    "httpx.get(\"https://expired.badssl.com/\", verify=False)"
   ]
  },
  {
   "cell_type": "code",
   "execution_count": 53,
   "metadata": {},
   "outputs": [
    {
     "name": "stdout",
     "output_type": "stream",
     "text": [
      "\u001b[1;31mSignature:\u001b[0m\n",
      "\u001b[0mhttpx\u001b[0m\u001b[1;33m.\u001b[0m\u001b[0mpost\u001b[0m\u001b[1;33m(\u001b[0m\u001b[1;33m\n",
      "\u001b[0m    \u001b[0murl\u001b[0m\u001b[1;33m:\u001b[0m \u001b[1;34m'URL | str'\u001b[0m\u001b[1;33m,\u001b[0m\u001b[1;33m\n",
      "\u001b[0m    \u001b[1;33m*\u001b[0m\u001b[1;33m,\u001b[0m\u001b[1;33m\n",
      "\u001b[0m    \u001b[0mcontent\u001b[0m\u001b[1;33m:\u001b[0m \u001b[1;34m'RequestContent | None'\u001b[0m \u001b[1;33m=\u001b[0m \u001b[1;32mNone\u001b[0m\u001b[1;33m,\u001b[0m\u001b[1;33m\n",
      "\u001b[0m    \u001b[0mdata\u001b[0m\u001b[1;33m:\u001b[0m \u001b[1;34m'RequestData | None'\u001b[0m \u001b[1;33m=\u001b[0m \u001b[1;32mNone\u001b[0m\u001b[1;33m,\u001b[0m\u001b[1;33m\n",
      "\u001b[0m    \u001b[0mfiles\u001b[0m\u001b[1;33m:\u001b[0m \u001b[1;34m'RequestFiles | None'\u001b[0m \u001b[1;33m=\u001b[0m \u001b[1;32mNone\u001b[0m\u001b[1;33m,\u001b[0m\u001b[1;33m\n",
      "\u001b[0m    \u001b[0mjson\u001b[0m\u001b[1;33m:\u001b[0m \u001b[1;34m'typing.Any | None'\u001b[0m \u001b[1;33m=\u001b[0m \u001b[1;32mNone\u001b[0m\u001b[1;33m,\u001b[0m\u001b[1;33m\n",
      "\u001b[0m    \u001b[0mparams\u001b[0m\u001b[1;33m:\u001b[0m \u001b[1;34m'QueryParamTypes | None'\u001b[0m \u001b[1;33m=\u001b[0m \u001b[1;32mNone\u001b[0m\u001b[1;33m,\u001b[0m\u001b[1;33m\n",
      "\u001b[0m    \u001b[0mheaders\u001b[0m\u001b[1;33m:\u001b[0m \u001b[1;34m'HeaderTypes | None'\u001b[0m \u001b[1;33m=\u001b[0m \u001b[1;32mNone\u001b[0m\u001b[1;33m,\u001b[0m\u001b[1;33m\n",
      "\u001b[0m    \u001b[0mcookies\u001b[0m\u001b[1;33m:\u001b[0m \u001b[1;34m'CookieTypes | None'\u001b[0m \u001b[1;33m=\u001b[0m \u001b[1;32mNone\u001b[0m\u001b[1;33m,\u001b[0m\u001b[1;33m\n",
      "\u001b[0m    \u001b[0mauth\u001b[0m\u001b[1;33m:\u001b[0m \u001b[1;34m'AuthTypes | None'\u001b[0m \u001b[1;33m=\u001b[0m \u001b[1;32mNone\u001b[0m\u001b[1;33m,\u001b[0m\u001b[1;33m\n",
      "\u001b[0m    \u001b[0mproxy\u001b[0m\u001b[1;33m:\u001b[0m \u001b[1;34m'ProxyTypes | None'\u001b[0m \u001b[1;33m=\u001b[0m \u001b[1;32mNone\u001b[0m\u001b[1;33m,\u001b[0m\u001b[1;33m\n",
      "\u001b[0m    \u001b[0mproxies\u001b[0m\u001b[1;33m:\u001b[0m \u001b[1;34m'ProxiesTypes | None'\u001b[0m \u001b[1;33m=\u001b[0m \u001b[1;32mNone\u001b[0m\u001b[1;33m,\u001b[0m\u001b[1;33m\n",
      "\u001b[0m    \u001b[0mfollow_redirects\u001b[0m\u001b[1;33m:\u001b[0m \u001b[1;34m'bool'\u001b[0m \u001b[1;33m=\u001b[0m \u001b[1;32mFalse\u001b[0m\u001b[1;33m,\u001b[0m\u001b[1;33m\n",
      "\u001b[0m    \u001b[0mcert\u001b[0m\u001b[1;33m:\u001b[0m \u001b[1;34m'CertTypes | None'\u001b[0m \u001b[1;33m=\u001b[0m \u001b[1;32mNone\u001b[0m\u001b[1;33m,\u001b[0m\u001b[1;33m\n",
      "\u001b[0m    \u001b[0mverify\u001b[0m\u001b[1;33m:\u001b[0m \u001b[1;34m'VerifyTypes'\u001b[0m \u001b[1;33m=\u001b[0m \u001b[1;32mTrue\u001b[0m\u001b[1;33m,\u001b[0m\u001b[1;33m\n",
      "\u001b[0m    \u001b[0mtimeout\u001b[0m\u001b[1;33m:\u001b[0m \u001b[1;34m'TimeoutTypes'\u001b[0m \u001b[1;33m=\u001b[0m \u001b[0mTimeout\u001b[0m\u001b[1;33m(\u001b[0m\u001b[0mtimeout\u001b[0m\u001b[1;33m=\u001b[0m\u001b[1;36m5.0\u001b[0m\u001b[1;33m)\u001b[0m\u001b[1;33m,\u001b[0m\u001b[1;33m\n",
      "\u001b[0m    \u001b[0mtrust_env\u001b[0m\u001b[1;33m:\u001b[0m \u001b[1;34m'bool'\u001b[0m \u001b[1;33m=\u001b[0m \u001b[1;32mTrue\u001b[0m\u001b[1;33m,\u001b[0m\u001b[1;33m\n",
      "\u001b[0m\u001b[1;33m)\u001b[0m \u001b[1;33m->\u001b[0m \u001b[1;34m'Response'\u001b[0m\u001b[1;33m\u001b[0m\u001b[1;33m\u001b[0m\u001b[0m\n",
      "\u001b[1;31mDocstring:\u001b[0m\n",
      "Sends a `POST` request.\n",
      "\n",
      "**Parameters**: See `httpx.request`.\n",
      "\u001b[1;31mFile:\u001b[0m      c:\\python310\\lib\\site-packages\\httpx\\_api.py\n",
      "\u001b[1;31mType:\u001b[0m      function\n"
     ]
    }
   ],
   "source": [
    "httpx.post?"
   ]
  },
  {
   "cell_type": "code",
   "execution_count": 54,
   "metadata": {},
   "outputs": [
    {
     "data": {
      "text/plain": [
       "<Response [200 OK]>"
      ]
     },
     "execution_count": 54,
     "metadata": {},
     "output_type": "execute_result"
    }
   ],
   "source": [
    "WEATHER_URL = \"https://api.openweathermap.org/data/2.5/weather\"\n",
    "WEATHER_PARAMS = {\n",
    "    \"lat\": lat,\n",
    "    \"lon\": lon,\n",
    "    \"units\": \"metric\",\n",
    "    #\"mode\": \"html\",\n",
    "    \"appid\": API_KEY\n",
    "}\n",
    "\n",
    "res = httpx.get(WEATHER_URL, params=WEATHER_PARAMS)\n",
    "res"
   ]
  },
  {
   "cell_type": "code",
   "execution_count": 55,
   "metadata": {},
   "outputs": [
    {
     "data": {
      "text/plain": [
       "{'coord': {'lon': 80.2702, 'lat': 13.0837},\n",
       " 'weather': [{'id': 721,\n",
       "   'main': 'Haze',\n",
       "   'description': 'haze',\n",
       "   'icon': '50d'}],\n",
       " 'base': 'stations',\n",
       " 'main': {'temp': 29.91,\n",
       "  'feels_like': 34.59,\n",
       "  'temp_min': 29.46,\n",
       "  'temp_max': 30.5,\n",
       "  'pressure': 1011,\n",
       "  'humidity': 69,\n",
       "  'sea_level': 1011,\n",
       "  'grnd_level': 1010},\n",
       " 'visibility': 4000,\n",
       " 'wind': {'speed': 4.63, 'deg': 30},\n",
       " 'clouds': {'all': 40},\n",
       " 'dt': 1732259441,\n",
       " 'sys': {'type': 2,\n",
       "  'id': 2093220,\n",
       "  'country': 'IN',\n",
       "  'sunrise': 1732236072,\n",
       "  'sunset': 1732277358},\n",
       " 'timezone': 19800,\n",
       " 'id': 1465730,\n",
       " 'name': 'Park Town',\n",
       " 'cod': 200}"
      ]
     },
     "execution_count": 55,
     "metadata": {},
     "output_type": "execute_result"
    }
   ],
   "source": [
    "res.json()"
   ]
  },
  {
   "cell_type": "code",
   "execution_count": 59,
   "metadata": {},
   "outputs": [
    {
     "name": "stdout",
     "output_type": "stream",
     "text": [
      "{\"name\": \"John\", \"visited\": [\"Chennai\", \"Bengaluru\", \"Noida\"], \"active\": false, \"logged_in\": null}\n",
      "{'name': 'John', 'visited': ['Chennai', 'Bengaluru', 'Noida'], 'active': False, 'logged_in': None}\n"
     ]
    }
   ],
   "source": [
    "import json\n",
    "\n",
    "a = {\"name\": \"John\", \"visited\": (\"Chennai\", \"Bengaluru\", \"Noida\"), \"active\": False, \"logged_in\": None}\n",
    "\n",
    "s = json.dumps(a)\n",
    "print(s)\n",
    "d = json.loads(s)\n",
    "print(d)"
   ]
  },
  {
   "cell_type": "code",
   "execution_count": null,
   "metadata": {},
   "outputs": [],
   "source": [
    "import json\n",
    "a = {\"name\": \"John\", \"visited\": (\"Chennai\", \"Bengaluru\", \"Noida\"), \"active\": False, \"logged_in\": None}\n",
    "\n",
    "with open(\"testfile.json\", \"w\") as outs:\n",
    "    json.dump(a, outs)\n",
    "\n",
    "# Duck typing"
   ]
  },
  {
   "cell_type": "code",
   "execution_count": 61,
   "metadata": {},
   "outputs": [
    {
     "name": "stdout",
     "output_type": "stream",
     "text": [
      "{'name': 'John', 'visited': ['Chennai', 'Bengaluru', 'Noida'], 'active': False, 'logged_in': None}\n"
     ]
    }
   ],
   "source": [
    "import json\n",
    "a = {\"name\": \"John\", \"visited\": (\"Chennai\", \"Bengaluru\", \"Noida\"), \"active\": False, \"logged_in\": None}\n",
    "\n",
    "with open(\"testfile.json\", \"r\") as ins:\n",
    "    d = json.load(ins)\n",
    "\n",
    "print(d)\n",
    "# Duck typing"
   ]
  },
  {
   "cell_type": "code",
   "execution_count": 63,
   "metadata": {},
   "outputs": [
    {
     "ename": "ModuleNotFoundError",
     "evalue": "No module named 'toml'",
     "output_type": "error",
     "traceback": [
      "\u001b[1;31m---------------------------------------------------------------------------\u001b[0m",
      "\u001b[1;31mModuleNotFoundError\u001b[0m                       Traceback (most recent call last)",
      "Input \u001b[1;32mIn [63]\u001b[0m, in \u001b[0;36m<module>\u001b[1;34m\u001b[0m\n\u001b[1;32m----> 1\u001b[0m \u001b[38;5;28;01mimport\u001b[39;00m \u001b[38;5;21;01mtoml\u001b[39;00m\n\u001b[0;32m      3\u001b[0m \u001b[38;5;28;01mwith\u001b[39;00m \u001b[38;5;28mopen\u001b[39m(\u001b[38;5;124m\"\u001b[39m\u001b[38;5;124ma.toml\u001b[39m\u001b[38;5;124m\"\u001b[39m, \u001b[38;5;124m\"\u001b[39m\u001b[38;5;124mw\u001b[39m\u001b[38;5;124m\"\u001b[39m) \u001b[38;5;28;01mas\u001b[39;00m outs:\n\u001b[0;32m      4\u001b[0m     tomllib\u001b[38;5;241m.\u001b[39mdump(a, outs)\n",
      "\u001b[1;31mModuleNotFoundError\u001b[0m: No module named 'toml'"
     ]
    }
   ],
   "source": [
    "import toml\n",
    "\n",
    "with open(\"a.toml\", \"w\") as outs:\n",
    "    tomllib.dump(a, outs)"
   ]
  },
  {
   "cell_type": "code",
   "execution_count": 66,
   "metadata": {},
   "outputs": [
    {
     "name": "stdout",
     "output_type": "stream",
     "text": [
      "63 98\n"
     ]
    }
   ],
   "source": [
    "# pip install msgpack\n",
    "import msgpack\n",
    "\n",
    "m = msgpack.dumps(a)\n",
    "j = json.dumps(a)\n",
    "print(len(m), len(j))"
   ]
  },
  {
   "cell_type": "code",
   "execution_count": 71,
   "metadata": {},
   "outputs": [
    {
     "name": "stdout",
     "output_type": "stream",
     "text": [
      "{'name': 'John', 'visited': ('Chennai', 'Bengaluru', 'Noida'), 'active': False, 'logged_in': None}\n",
      "b'\\x80\\x04\\x95T\\x00\\x00\\x00\\x00\\x00\\x00\\x00}\\x94(\\x8c\\x04name\\x94\\x8c\\x04John\\x94\\x8c\\x07visited\\x94\\x8c\\x07Chennai\\x94\\x8c\\tBengaluru\\x94\\x8c\\x05Noida\\x94\\x87\\x94\\x8c\\x06active\\x94\\x89\\x8c\\tlogged_in\\x94Nu.'\n"
     ]
    }
   ],
   "source": [
    "import pickle\n",
    "\n",
    "print(a)\n",
    "d = pickle.dumps(a)\n",
    "print(d)\n",
    "\n",
    "with open(\"data.dat\", \"wb\") as outs:\n",
    "    pickle.dump(a, outs)"
   ]
  },
  {
   "cell_type": "code",
   "execution_count": 72,
   "metadata": {},
   "outputs": [
    {
     "name": "stdout",
     "output_type": "stream",
     "text": [
      "{'name': 'John', 'visited': ('Chennai', 'Bengaluru', 'Noida'), 'active': False, 'logged_in': None}\n"
     ]
    }
   ],
   "source": [
    "with open(\"data.dat\", \"rb\") as ins:\n",
    "    d = pickle.load(ins)\n",
    "print(d)"
   ]
  },
  {
   "cell_type": "code",
   "execution_count": 74,
   "metadata": {},
   "outputs": [
    {
     "name": "stdout",
     "output_type": "stream",
     "text": [
      "Collecting toml\n",
      "  Downloading toml-0.10.2-py2.py3-none-any.whl.metadata (7.1 kB)\n",
      "Downloading toml-0.10.2-py2.py3-none-any.whl (16 kB)\n",
      "Installing collected packages: toml\n",
      "Successfully installed toml-0.10.2\n",
      "Note: you may need to restart the kernel to use updated packages.\n"
     ]
    },
    {
     "name": "stderr",
     "output_type": "stream",
     "text": [
      "\n",
      "[notice] A new release of pip is available: 24.2 -> 24.3.1\n",
      "[notice] To update, run: python.exe -m pip install --upgrade pip\n"
     ]
    }
   ],
   "source": [
    "pip install toml"
   ]
  },
  {
   "cell_type": "code",
   "execution_count": 75,
   "metadata": {},
   "outputs": [],
   "source": [
    "import toml"
   ]
  },
  {
   "cell_type": "code",
   "execution_count": 76,
   "metadata": {},
   "outputs": [],
   "source": [
    "with open(\"a.toml\", \"w\") as outs:\n",
    "    toml.dump(a, outs)"
   ]
  },
  {
   "cell_type": "code",
   "execution_count": 77,
   "metadata": {},
   "outputs": [
    {
     "name": "stdout",
     "output_type": "stream",
     "text": [
      "{'name': 'John', 'visited': ['Chennai', 'Bengaluru', 'Noida'], 'active': False}\n"
     ]
    }
   ],
   "source": [
    "with open(\"a.toml\") as ins:\n",
    "    d = toml.load(ins)\n",
    "print(d)"
   ]
  },
  {
   "cell_type": "code",
   "execution_count": 97,
   "metadata": {},
   "outputs": [
    {
     "data": {
      "text/plain": [
       "<Response [200 OK]>"
      ]
     },
     "execution_count": 97,
     "metadata": {},
     "output_type": "execute_result"
    }
   ],
   "source": [
    "WEATHER_URL = \"https://api.openweathermap.org/data/2.5/weather\"\n",
    "WEATHER_PARAMS = {\n",
    "    \"lat\": lat,\n",
    "    \"lon\": lon,\n",
    "    \"units\": \"metric\",\n",
    "    \"mode\": \"xml\",\n",
    "    \"appid\": API_KEY\n",
    "}\n",
    "\n",
    "res = httpx.get(WEATHER_URL, params=WEATHER_PARAMS)\n",
    "res"
   ]
  },
  {
   "cell_type": "code",
   "execution_count": 98,
   "metadata": {},
   "outputs": [
    {
     "data": {
      "text/plain": [
       "'application/xml; charset=utf-8'"
      ]
     },
     "execution_count": 98,
     "metadata": {},
     "output_type": "execute_result"
    }
   ],
   "source": [
    "res.headers[\"content-type\"]"
   ]
  },
  {
   "cell_type": "code",
   "execution_count": 80,
   "metadata": {},
   "outputs": [
    {
     "name": "stdout",
     "output_type": "stream",
     "text": [
      "Requirement already satisfied: lxml in c:\\python310\\lib\\site-packages (4.8.0)\n",
      "Note: you may need to restart the kernel to use updated packages.\n"
     ]
    },
    {
     "name": "stderr",
     "output_type": "stream",
     "text": [
      "\n",
      "[notice] A new release of pip is available: 24.2 -> 24.3.1\n",
      "[notice] To update, run: python.exe -m pip install --upgrade pip\n"
     ]
    }
   ],
   "source": [
    "pip install lxml"
   ]
  },
  {
   "cell_type": "code",
   "execution_count": 81,
   "metadata": {},
   "outputs": [],
   "source": [
    "# lxml -> Implements ElementTree specifications\n",
    "\n",
    "# For parsing / processing XML documents\n",
    "#import xml.etree.ElementTree as et\n",
    "import lxml.etree as et\n",
    "\n",
    "# For parsing / processing HTML documents\n",
    "import lxml.html as et\n",
    "\n"
   ]
  },
  {
   "cell_type": "code",
   "execution_count": 82,
   "metadata": {},
   "outputs": [
    {
     "name": "stdout",
     "output_type": "stream",
     "text": [
      "\u001b[1;31mSignature:\u001b[0m \u001b[0met\u001b[0m\u001b[1;33m.\u001b[0m\u001b[0mparse\u001b[0m\u001b[1;33m(\u001b[0m\u001b[0mfilename_or_url\u001b[0m\u001b[1;33m,\u001b[0m \u001b[0mparser\u001b[0m\u001b[1;33m=\u001b[0m\u001b[1;32mNone\u001b[0m\u001b[1;33m,\u001b[0m \u001b[0mbase_url\u001b[0m\u001b[1;33m=\u001b[0m\u001b[1;32mNone\u001b[0m\u001b[1;33m,\u001b[0m \u001b[1;33m**\u001b[0m\u001b[0mkw\u001b[0m\u001b[1;33m)\u001b[0m\u001b[1;33m\u001b[0m\u001b[1;33m\u001b[0m\u001b[0m\n",
      "\u001b[1;31mDocstring:\u001b[0m\n",
      "Parse a filename, URL, or file-like object into an HTML document\n",
      "tree.  Note: this returns a tree, not an element.  Use\n",
      "``parse(...).getroot()`` to get the document root.\n",
      "\n",
      "You can override the base URL with the ``base_url`` keyword.  This\n",
      "is most useful when parsing from a file-like object.\n",
      "\u001b[1;31mFile:\u001b[0m      c:\\python310\\lib\\site-packages\\lxml\\html\\__init__.py\n",
      "\u001b[1;31mType:\u001b[0m      function\n"
     ]
    }
   ],
   "source": [
    "et.parse?"
   ]
  },
  {
   "cell_type": "code",
   "execution_count": 90,
   "metadata": {},
   "outputs": [
    {
     "name": "stdout",
     "output_type": "stream",
     "text": [
      "<!DOCTYPE html>\n",
      "<html lang=\"en\">\n",
      "<head>\n",
      "  <meta charset=\"utf-8\">\n",
      "  <meta name=\"keywords\" content=\"weather, world, openweathermap, weather, layer\" />\n",
      "  <meta name=\"description\" content=\"A layer with current weather conditions in cities for world wide\" />\n",
      "  <meta name=\"domain\" content=\"openweathermap.org\" />\n",
      "  <meta http-equiv=\"pragma\" content=\"no-cache\" />\n",
      "  <meta http-equiv=\"Expires\" content=\"-1\" />\n",
      "</head>\n",
      "<body>\n",
      "  <div style=\"font-size: medium; font-weight: bold; margin-bottom: 0px;\">Park Town</div>\n",
      "  <div style=\"float: left; width: 130px;\">\n",
      "    <div style=\"display: block; clear: left;\">\n",
      "      <div style=\"float: left;\" title=\"Titel\">\n",
      "        <img height=\"45\" width=\"45\" style=\"border: medium none; width: 45px; height: 45px; background: url(&quot;http://openweathermap.org/img/w/50d.png&quot;) repeat scroll 0% 0% transparent;\" alt=\"title\" src=\"http://openweathermap.org/images/transparent.png\"/>\n",
      "      </div>\n",
      "      <div style=\"float: left;\">\n",
      "        <div style=\"display: block; clear: left; font-size: medium; font-weight: bold; padding: 0pt 3pt;\" title=\"Current Temperature\">30°C</div>\n",
      "        <div style=\"display: block; width: 85px; overflow: visible;\"></div>\n",
      "      </div>\n",
      "    </div>\n",
      "    <div style=\"display: block; clear: left; font-size: small;\">Clouds: 40%</div>\n",
      "    <div style=\"display: block; clear: left; color: gray; font-size: x-small;\" >Humidity: 70%</div>\n",
      "    <div style=\"display: block; clear: left; color: gray; font-size: x-small;\" >Wind: 5.14 m/s</div>\n",
      "    <div style=\"display: block; clear: left; color: gray; font-size: x-small;\" >Pressure: 1010hPa</div>\n",
      "  </div>\n",
      "  <div style=\"display: block; clear: left; color: gray; font-size: x-small;\">\n",
      "    <a href=\"http://openweathermap.org/city/1465730?utm_source=openweathermap&utm_medium=widget&utm_campaign=html_old\" target=\"_blank\">More..</a>\n",
      "  </div>\n",
      "  <script>(function(i,s,o,g,r,a,m){i['GoogleAnalyticsObject']=r;i[r]=i[r]||function(){\n",
      "(i[r].q=i[r].q||[]).push(arguments)},i[r].l=1*new Date();a=s.createElement(o),\n",
      "m=s.getElementsByTagName(o)[0];a.async=1;a.src=g;m.parentNode.insertBefore(a,m)\n",
      "})(window,document,'script','//www.google-analytics.com/analytics.js','ga');ga('create', 'UA-31601618-9', 'auto');ga('send', 'pageview');</script>\n",
      "</body>\n",
      "</html>\n"
     ]
    }
   ],
   "source": [
    "print(res.text)"
   ]
  },
  {
   "cell_type": "code",
   "execution_count": 92,
   "metadata": {},
   "outputs": [
    {
     "data": {
      "text/plain": [
       "<Response [200 OK]>"
      ]
     },
     "execution_count": 92,
     "metadata": {},
     "output_type": "execute_result"
    }
   ],
   "source": [
    "res = httpx.get(\"https://python.org\", follow_redirects=True)\n",
    "res"
   ]
  },
  {
   "cell_type": "code",
   "execution_count": 93,
   "metadata": {},
   "outputs": [
    {
     "data": {
      "text/plain": [
       "<!-- Google tag (gtag.js) -->"
      ]
     },
     "execution_count": 93,
     "metadata": {},
     "output_type": "execute_result"
    }
   ],
   "source": [
    "tree = et.fromstring(res.text)\n",
    "\n",
    "tree[1][0]"
   ]
  },
  {
   "cell_type": "code",
   "execution_count": 95,
   "metadata": {},
   "outputs": [
    {
     "data": {
      "text/plain": [
       "['#content',\n",
       " '#python-network',\n",
       " '/',\n",
       " 'https://www.python.org/psf/',\n",
       " 'https://docs.python.org',\n",
       " 'https://pypi.org/',\n",
       " '/jobs/',\n",
       " '/community/',\n",
       " '#top',\n",
       " '/',\n",
       " 'https://psfmember.org/civicrm/contribute/transact?reset=1&id=2',\n",
       " '#site-map',\n",
       " '#',\n",
       " 'javascript:;',\n",
       " 'javascript:;',\n",
       " 'javascript:;',\n",
       " '#',\n",
       " 'https://www.linkedin.com/company/python-software-foundation/',\n",
       " 'https://fosstodon.org/@ThePSF',\n",
       " '/community/irc/',\n",
       " 'https://twitter.com/ThePSF',\n",
       " '/about/',\n",
       " '/about/apps/',\n",
       " '/about/quotes/',\n",
       " '/about/gettingstarted/',\n",
       " '/about/help/',\n",
       " 'http://brochure.getpython.info/',\n",
       " '/downloads/',\n",
       " '/downloads/',\n",
       " '/downloads/source/',\n",
       " '/downloads/windows/',\n",
       " '/downloads/macos/',\n",
       " '/download/other/',\n",
       " 'https://docs.python.org/3/license.html',\n",
       " '/download/alternatives',\n",
       " '/doc/',\n",
       " '/doc/',\n",
       " '/doc/av',\n",
       " 'https://wiki.python.org/moin/BeginnersGuide',\n",
       " 'https://devguide.python.org/',\n",
       " 'https://docs.python.org/faq/',\n",
       " 'http://wiki.python.org/moin/Languages',\n",
       " 'https://peps.python.org',\n",
       " 'https://wiki.python.org/moin/PythonBooks',\n",
       " '/doc/essays/',\n",
       " '/community/',\n",
       " '/community/diversity/',\n",
       " '/community/lists/',\n",
       " '/community/irc/',\n",
       " '/community/forums/',\n",
       " '/psf/annual-report/2021/',\n",
       " '/community/workshops/',\n",
       " '/community/sigs/',\n",
       " '/community/logos/',\n",
       " 'https://wiki.python.org/moin/',\n",
       " '/psf/conduct/',\n",
       " '/community/awards',\n",
       " '/psf/get-involved/',\n",
       " '/psf/community-stories/',\n",
       " '/success-stories/',\n",
       " '/success-stories/category/arts/',\n",
       " '/success-stories/category/business/',\n",
       " '/success-stories/category/education/',\n",
       " '/success-stories/category/engineering/',\n",
       " '/success-stories/category/government/',\n",
       " '/success-stories/category/scientific/',\n",
       " '/success-stories/category/software-development/',\n",
       " '/blogs/',\n",
       " '/blogs/',\n",
       " '/psf/newsletter/',\n",
       " 'http://pyfound.blogspot.com/',\n",
       " 'http://pycon.blogspot.com/',\n",
       " 'http://planetpython.org/',\n",
       " '/events/',\n",
       " '/events/python-events/',\n",
       " '/events/python-user-group/',\n",
       " '/events/python-events/past/',\n",
       " '/events/python-user-group/past/',\n",
       " 'https://wiki.python.org/moin/PythonEventsCalendar#Submitting_an_Event',\n",
       " '/shell/',\n",
       " '//docs.python.org/3/tutorial/controlflow.html#defining-functions',\n",
       " '//docs.python.org/3/tutorial/introduction.html#lists',\n",
       " 'http://docs.python.org/3/tutorial/introduction.html#using-python-as-a-calculator',\n",
       " '//docs.python.org/3/tutorial/controlflow.html',\n",
       " '//docs.python.org/3/tutorial/',\n",
       " '/doc/',\n",
       " 'https://lp.jetbrains.com/psf-q4-2024-fundraiser-3783/',\n",
       " '/about/gettingstarted/',\n",
       " '/downloads/release/python-3130/',\n",
       " 'https://docs.python.org',\n",
       " '//jobs.python.org',\n",
       " 'https://blog.python.org',\n",
       " 'https://pythoninsider.blogspot.com/2024/11/python-3140-alpha-2-released.html',\n",
       " 'https://pyfound.blogspot.com/2024/11/help-power-python-2024-fundraiser.html',\n",
       " 'https://pyfound.blogspot.com/2024/11/psf-grants-program-updates-part2.html',\n",
       " 'https://pyfound.blogspot.com/2024/11/psf-grants-program-updates-part1.html',\n",
       " 'https://pyfound.blogspot.com/2024/11/pycon-us-2025-kicks-off-website-cfp-and.html',\n",
       " '/events/calendars/',\n",
       " '/events/python-events/1731/',\n",
       " '/events/python-user-group/1872/',\n",
       " '/events/python-events/1875/',\n",
       " '/events/python-events/1829/',\n",
       " '/events/python-events/1860/',\n",
       " '/success-stories/',\n",
       " '/success-stories/using-python-with-gretelai-to-generate-synthetic-location-data/',\n",
       " '/success-stories/using-python-with-gretelai-to-generate-synthetic-location-data/',\n",
       " '/about/apps',\n",
       " 'http://www.djangoproject.com/',\n",
       " 'http://www.pylonsproject.org/',\n",
       " 'http://bottlepy.org',\n",
       " 'http://tornadoweb.org',\n",
       " 'http://flask.pocoo.org/',\n",
       " 'http://www.web2py.com/',\n",
       " 'http://wiki.python.org/moin/TkInter',\n",
       " 'https://wiki.gnome.org/Projects/PyGObject',\n",
       " 'http://www.riverbankcomputing.co.uk/software/pyqt/intro',\n",
       " 'https://wiki.qt.io/PySide',\n",
       " 'https://kivy.org/',\n",
       " 'http://www.wxpython.org/',\n",
       " 'https://dearpygui.readthedocs.io/en/latest/',\n",
       " 'http://www.scipy.org',\n",
       " 'http://pandas.pydata.org/',\n",
       " 'http://ipython.org',\n",
       " 'http://buildbot.net/',\n",
       " 'http://trac.edgewall.org/',\n",
       " 'http://roundup.sourceforge.net/',\n",
       " 'http://www.ansible.com',\n",
       " 'https://saltproject.io',\n",
       " 'https://www.openstack.org',\n",
       " 'https://xon.sh',\n",
       " '/psf/',\n",
       " '/psf/',\n",
       " '/users/membership/',\n",
       " '/psf/donations/',\n",
       " '#python-network',\n",
       " '/about/',\n",
       " '/about/apps/',\n",
       " '/about/quotes/',\n",
       " '/about/gettingstarted/',\n",
       " '/about/help/',\n",
       " 'http://brochure.getpython.info/',\n",
       " '/downloads/',\n",
       " '/downloads/',\n",
       " '/downloads/source/',\n",
       " '/downloads/windows/',\n",
       " '/downloads/macos/',\n",
       " '/download/other/',\n",
       " 'https://docs.python.org/3/license.html',\n",
       " '/download/alternatives',\n",
       " '/doc/',\n",
       " '/doc/',\n",
       " '/doc/av',\n",
       " 'https://wiki.python.org/moin/BeginnersGuide',\n",
       " 'https://devguide.python.org/',\n",
       " 'https://docs.python.org/faq/',\n",
       " 'http://wiki.python.org/moin/Languages',\n",
       " 'https://peps.python.org',\n",
       " 'https://wiki.python.org/moin/PythonBooks',\n",
       " '/doc/essays/',\n",
       " '/community/',\n",
       " '/community/diversity/',\n",
       " '/community/lists/',\n",
       " '/community/irc/',\n",
       " '/community/forums/',\n",
       " '/psf/annual-report/2021/',\n",
       " '/community/workshops/',\n",
       " '/community/sigs/',\n",
       " '/community/logos/',\n",
       " 'https://wiki.python.org/moin/',\n",
       " '/psf/conduct/',\n",
       " '/community/awards',\n",
       " '/psf/get-involved/',\n",
       " '/psf/community-stories/',\n",
       " '/success-stories/',\n",
       " '/success-stories/category/arts/',\n",
       " '/success-stories/category/business/',\n",
       " '/success-stories/category/education/',\n",
       " '/success-stories/category/engineering/',\n",
       " '/success-stories/category/government/',\n",
       " '/success-stories/category/scientific/',\n",
       " '/success-stories/category/software-development/',\n",
       " '/blogs/',\n",
       " '/blogs/',\n",
       " '/psf/newsletter/',\n",
       " 'http://pyfound.blogspot.com/',\n",
       " 'http://pycon.blogspot.com/',\n",
       " 'http://planetpython.org/',\n",
       " '/events/',\n",
       " '/events/python-events/',\n",
       " '/events/python-user-group/',\n",
       " '/events/python-events/past/',\n",
       " '/events/python-user-group/past/',\n",
       " 'https://wiki.python.org/moin/PythonEventsCalendar#Submitting_an_Event',\n",
       " '/dev/',\n",
       " 'https://devguide.python.org/',\n",
       " 'https://github.com/python/cpython/issues',\n",
       " 'https://mail.python.org/mailman/listinfo/python-dev',\n",
       " '/dev/core-mentorship/',\n",
       " '/dev/security/',\n",
       " '#python-network',\n",
       " '/about/help/',\n",
       " '/community/diversity/',\n",
       " 'https://github.com/python/pythondotorg/issues',\n",
       " 'https://status.python.org/',\n",
       " '/psf-landing/',\n",
       " '/about/legal/',\n",
       " 'https://policies.python.org/python.org/Privacy-Notice/']"
      ]
     },
     "execution_count": 95,
     "metadata": {},
     "output_type": "execute_result"
    }
   ],
   "source": [
    "tree.xpath(\".//a[@href]/@href\")"
   ]
  },
  {
   "cell_type": "code",
   "execution_count": 96,
   "metadata": {},
   "outputs": [
    {
     "data": {
      "text/plain": [
       "['/static/img/python-logo.png']"
      ]
     },
     "execution_count": 96,
     "metadata": {},
     "output_type": "execute_result"
    }
   ],
   "source": [
    "tree.xpath(\".//img[@src]/@src\")"
   ]
  },
  {
   "cell_type": "code",
   "execution_count": 106,
   "metadata": {},
   "outputs": [
    {
     "data": {
      "text/plain": [
       "(['30.07'], ['70'])"
      ]
     },
     "execution_count": 106,
     "metadata": {},
     "output_type": "execute_result"
    }
   ],
   "source": [
    "import lxml.etree as et\n",
    "tree = et.fromstring(res.content)\n",
    "tree.xpath(\".//temperature/@value\"), tree.xpath(\".//humidity/@value\")"
   ]
  },
  {
   "cell_type": "code",
   "execution_count": 102,
   "metadata": {},
   "outputs": [
    {
     "name": "stdout",
     "output_type": "stream",
     "text": [
      "<?xml version=\"1.0\" encoding=\"UTF-8\"?>\n",
      "<current><city id=\"1465730\" name=\"Park Town\"><coord lon=\"80.2702\" lat=\"13.0837\"></coord><country>IN</country><timezone>19800</timezone><sun rise=\"2024-11-22T00:41:12\" set=\"2024-11-22T12:09:18\"></sun></city><temperature value=\"30.07\" min=\"29.47\" max=\"30.61\" unit=\"celsius\"></temperature><feels_like value=\"35.21\" unit=\"celsius\"></feels_like><humidity value=\"70\" unit=\"%\"></humidity><pressure value=\"1010\" unit=\"hPa\"></pressure><wind><speed value=\"4.63\" unit=\"m/s\" name=\"Gentle Breeze\"></speed><gusts></gusts><direction value=\"40\" code=\"NE\" name=\"NorthEast\"></direction></wind><clouds value=\"40\" name=\"scattered clouds\"></clouds><visibility value=\"4000\"></visibility><precipitation mode=\"no\"></precipitation><weather number=\"721\" value=\"haze\" icon=\"50d\"></weather><lastupdate value=\"2024-11-22T08:05:28\"></lastupdate></current>\n"
     ]
    }
   ],
   "source": [
    "print(res.text)"
   ]
  }
 ],
 "metadata": {
  "kernelspec": {
   "display_name": "Python 3",
   "language": "python",
   "name": "python3"
  },
  "language_info": {
   "codemirror_mode": {
    "name": "ipython",
    "version": 3
   },
   "file_extension": ".py",
   "mimetype": "text/x-python",
   "name": "python",
   "nbconvert_exporter": "python",
   "pygments_lexer": "ipython3",
   "version": "3.10.2"
  }
 },
 "nbformat": 4,
 "nbformat_minor": 2
}
