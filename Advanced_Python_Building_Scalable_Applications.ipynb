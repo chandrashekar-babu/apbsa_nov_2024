{
 "cells": [
  {
   "cell_type": "markdown",
   "metadata": {},
   "source": [
    "# Advanced Python: Building Scalable Applications"
   ]
  },
  {
   "cell_type": "markdown",
   "metadata": {},
   "source": [
    "### Module 1: Threads, Processes and Coroutines\n",
    "- Concurrency Vs Parallelism: Choosing generator/coroutines Vs Threads/Processes\n",
    "- Introduction to threads and processes.\n",
    "- Python threading module API\n",
    "   - Creating and managing threads.\n",
    "   - An overview on threading module.\n",
    "   - Using the Thread class and the Timer class.\n",
    "   - Active threads Vs. Daemon threads.\n",
    "   - Helper functions in the threading module.\n",
    "- Python multiprocessing module API\n",
    "   - Multitasking using multiprocessing.Process\n",
    "   - Process Vs Thread: performance and design implications.\n",
    "   - Similarities and differences between Process and Thread class API\n",
    "   - Helper functions in the multiprocessing module.\n",
    "- Creating thread-pools and process-pools using concurrent.futures package\n",
    "- Using gevent framework for massive I/O concurrency work-loads\n",
    "- Implementing co-routines using Python built-in async support\n",
    "- An overview on uvloop and trio\n",
    "- Best architectural design practices while choosing between different concurrency models."
   ]
  },
  {
   "cell_type": "markdown",
   "metadata": {},
   "source": [
    "#### Generators: how they work"
   ]
  },
  {
   "cell_type": "code",
   "execution_count": 1,
   "metadata": {},
   "outputs": [
    {
     "name": "stdout",
     "output_type": "stream",
     "text": [
      "Start of testfn...\n"
     ]
    },
    {
     "data": {
      "text/plain": [
       "10"
      ]
     },
     "execution_count": 1,
     "metadata": {},
     "output_type": "execute_result"
    }
   ],
   "source": [
    "def testfn():\n",
    "    print(\"Start of testfn...\")\n",
    "    return 10\n",
    "    print(\"Back inside testfn...\")\n",
    "\n",
    "testfn()"
   ]
  },
  {
   "cell_type": "code",
   "execution_count": null,
   "metadata": {},
   "outputs": [
    {
     "name": "stdout",
     "output_type": "stream",
     "text": [
      "<generator object testfn at 0x000001F267609150> <class 'generator'>\n"
     ]
    }
   ],
   "source": [
    "def testfn():\n",
    "    print(\"Start of testfn...\")\n",
    "    yield 10\n",
    "    print(\"Back inside testfn...\")\n",
    "\n",
    "g = testfn()  # Returns a generator object. Generators are iterable objects\n",
    "print(g, type(g))"
   ]
  },
  {
   "cell_type": "code",
   "execution_count": 15,
   "metadata": {},
   "outputs": [
    {
     "ename": "TypeError",
     "evalue": "'int' object is not iterable",
     "output_type": "error",
     "traceback": [
      "\u001b[1;31m---------------------------------------------------------------------------\u001b[0m",
      "\u001b[1;31mTypeError\u001b[0m                                 Traceback (most recent call last)",
      "Input \u001b[1;32mIn [15]\u001b[0m, in \u001b[0;36m<module>\u001b[1;34m\u001b[0m\n\u001b[0;32m      1\u001b[0m a \u001b[38;5;241m=\u001b[39m [\u001b[38;5;241m11\u001b[39m, \u001b[38;5;241m22\u001b[39m, \u001b[38;5;241m33\u001b[39m, \u001b[38;5;241m44\u001b[39m, \u001b[38;5;241m5\u001b[39m]\n\u001b[0;32m      2\u001b[0m b \u001b[38;5;241m=\u001b[39m \u001b[38;5;241m100\u001b[39m\n\u001b[1;32m----> 3\u001b[0m \u001b[38;5;28;01mfor\u001b[39;00m v \u001b[38;5;129;01min\u001b[39;00m b:\n\u001b[0;32m      4\u001b[0m     \u001b[38;5;28mprint\u001b[39m(v)\n",
      "\u001b[1;31mTypeError\u001b[0m: 'int' object is not iterable"
     ]
    }
   ],
   "source": [
    "a = [11, 22, 33, 44, 5]\n",
    "b = 100\n",
    "for v in b:\n",
    "    print(v)"
   ]
  },
  {
   "cell_type": "code",
   "execution_count": 16,
   "metadata": {},
   "outputs": [
    {
     "ename": "TypeError",
     "evalue": "'int' object is not iterable",
     "output_type": "error",
     "traceback": [
      "\u001b[1;31m---------------------------------------------------------------------------\u001b[0m",
      "\u001b[1;31mTypeError\u001b[0m                                 Traceback (most recent call last)",
      "Input \u001b[1;32mIn [16]\u001b[0m, in \u001b[0;36m<module>\u001b[1;34m\u001b[0m\n\u001b[0;32m      3\u001b[0m a \u001b[38;5;241m=\u001b[39m [\u001b[38;5;241m11\u001b[39m, \u001b[38;5;241m22\u001b[39m, \u001b[38;5;241m33\u001b[39m, \u001b[38;5;241m44\u001b[39m]\n\u001b[0;32m      4\u001b[0m b \u001b[38;5;241m=\u001b[39m \u001b[38;5;241m100\u001b[39m\n\u001b[1;32m----> 5\u001b[0m it \u001b[38;5;241m=\u001b[39m \u001b[38;5;28;43miter\u001b[39;49m\u001b[43m(\u001b[49m\u001b[43mb\u001b[49m\u001b[43m)\u001b[49m\n\u001b[0;32m      6\u001b[0m \u001b[38;5;28;01mtry\u001b[39;00m:\n\u001b[0;32m      7\u001b[0m     \u001b[38;5;28;01mwhile\u001b[39;00m \u001b[38;5;28;01mTrue\u001b[39;00m:\n",
      "\u001b[1;31mTypeError\u001b[0m: 'int' object is not iterable"
     ]
    }
   ],
   "source": [
    "# This is how python implements the \"iterator-protocol\" \n",
    "\n",
    "a = [11, 22, 33, 44]\n",
    "b = 100\n",
    "it = iter(b)\n",
    "try:\n",
    "    while True:\n",
    "        v = next(it)\n",
    "        # Body of the for loop:\n",
    "        print(v)\n",
    "except StopIteration:\n",
    "    pass\n"
   ]
  },
  {
   "cell_type": "code",
   "execution_count": null,
   "metadata": {},
   "outputs": [],
   "source": [
    "range(10)\n"
   ]
  },
  {
   "cell_type": "code",
   "execution_count": 6,
   "metadata": {},
   "outputs": [
    {
     "data": {
      "text/plain": [
       "<list_iterator at 0x1f267638820>"
      ]
     },
     "execution_count": 6,
     "metadata": {},
     "output_type": "execute_result"
    }
   ],
   "source": [
    "it = iter(a)\n",
    "it"
   ]
  },
  {
   "cell_type": "code",
   "execution_count": 12,
   "metadata": {},
   "outputs": [
    {
     "ename": "StopIteration",
     "evalue": "",
     "output_type": "error",
     "traceback": [
      "\u001b[1;31m---------------------------------------------------------------------------\u001b[0m",
      "\u001b[1;31mStopIteration\u001b[0m                             Traceback (most recent call last)",
      "Input \u001b[1;32mIn [12]\u001b[0m, in \u001b[0;36m<module>\u001b[1;34m\u001b[0m\n\u001b[1;32m----> 1\u001b[0m \u001b[38;5;28;43mnext\u001b[39;49m\u001b[43m(\u001b[49m\u001b[43mit\u001b[49m\u001b[43m)\u001b[49m\n",
      "\u001b[1;31mStopIteration\u001b[0m: "
     ]
    }
   ],
   "source": [
    "next(it)"
   ]
  },
  {
   "cell_type": "code",
   "execution_count": null,
   "metadata": {},
   "outputs": [
    {
     "name": "stdout",
     "output_type": "stream",
     "text": [
      "<generator object testfn at 0x000001F2690BCF90> <class 'generator'>\n",
      "Start of testfn...\n",
      "In for loop: v = 10\n",
      "Back inside testfn...\n",
      "In for loop: v = hello\n",
      "Back again inside testfn...\n",
      "In for loop: v = None\n",
      "End of testfn...\n"
     ]
    }
   ],
   "source": [
    "def testfn():\n",
    "    print(\"Start of testfn...\")\n",
    "    v = 100\n",
    "    yield 10\n",
    "    print(\"Back inside testfn...\")\n",
    "    yield \"hello\"\n",
    "    print(\"Back again inside testfn...\")\n",
    "    yield v\n",
    "    print(\"End of testfn...\")\n",
    "\n",
    "g = testfn()  # Returns a generator object. Generators are iterable objects\n",
    "print(g, type(g))\n",
    "\n",
    "for v in g:\n",
    "    print(\"In for loop: v =\", v)"
   ]
  },
  {
   "cell_type": "code",
   "execution_count": 23,
   "metadata": {},
   "outputs": [
    {
     "data": {
      "text/plain": [
       "b'\\x81\\x00t\\x00d\\x01\\x83\\x01\\x01\\x00d\\x02V\\x00\\x01\\x00t\\x00d\\x03\\x83\\x01\\x01\\x00d\\x04V\\x00\\x01\\x00t\\x00d\\x05\\x83\\x01\\x01\\x00d\\x00V\\x00\\x01\\x00t\\x00d\\x06\\x83\\x01\\x01\\x00d\\x00S\\x00'"
      ]
     },
     "execution_count": 23,
     "metadata": {},
     "output_type": "execute_result"
    }
   ],
   "source": [
    "testfn.__code__.co_code"
   ]
  },
  {
   "cell_type": "code",
   "execution_count": 24,
   "metadata": {},
   "outputs": [
    {
     "data": {
      "text/plain": [
       "30"
      ]
     },
     "execution_count": 24,
     "metadata": {},
     "output_type": "execute_result"
    }
   ],
   "source": [
    "a = 10\n",
    "b = 20\n",
    "c = a + b\n",
    "c = a.__add__(b)\n",
    "c = int.__add__(a, b)\n",
    "c"
   ]
  },
  {
   "cell_type": "code",
   "execution_count": null,
   "metadata": {},
   "outputs": [
    {
     "data": {
      "text/plain": [
       "<function __main__.testfn()>"
      ]
     },
     "execution_count": 26,
     "metadata": {},
     "output_type": "execute_result"
    }
   ],
   "source": [
    "testfn()\n",
    "testfn.__call__()"
   ]
  },
  {
   "cell_type": "code",
   "execution_count": null,
   "metadata": {},
   "outputs": [
    {
     "data": {
      "text/plain": [
       "2140656321168"
      ]
     },
     "execution_count": 28,
     "metadata": {},
     "output_type": "execute_result"
    }
   ],
   "source": [
    "a = 12345\n",
    "a = int(12345)\n",
    "id(a)\n",
    "\n"
   ]
  },
  {
   "cell_type": "code",
   "execution_count": 32,
   "metadata": {},
   "outputs": [
    {
     "name": "stdout",
     "output_type": "stream",
     "text": [
      "1234 1234\n",
      "2140656323216 2140656323248\n"
     ]
    }
   ],
   "source": [
    "a = 1234\n",
    "b = 1234\n",
    "print(a, b)\n",
    "print(id(a), id(b))"
   ]
  },
  {
   "cell_type": "code",
   "execution_count": null,
   "metadata": {},
   "outputs": [
    {
     "name": "stdout",
     "output_type": "stream",
     "text": [
      "10 10\n",
      "2140545679888 2140545679888\n",
      "11 10\n",
      "2140545679920 2140545679888\n"
     ]
    }
   ],
   "source": [
    "a = 10\n",
    "b = 10\n",
    "print(a, b)\n",
    "print(id(a), id(b))\n",
    "a += 1 # a = a + 1\n",
    "print(a, b)\n",
    "print(id(a), id(b))\n"
   ]
  },
  {
   "cell_type": "code",
   "execution_count": 38,
   "metadata": {},
   "outputs": [
    {
     "name": "stdout",
     "output_type": "stream",
     "text": [
      "0 1 1 2 3 5 8 13 21 34 "
     ]
    }
   ],
   "source": [
    "def fib(x):\n",
    "    a, b = 0, 1\n",
    "    for _ in range(x):\n",
    "        print(a, end=\" \")\n",
    "        a, b = b, a + b\n",
    "\n",
    "fib(10)"
   ]
  },
  {
   "cell_type": "code",
   "execution_count": 43,
   "metadata": {},
   "outputs": [
    {
     "name": "stdout",
     "output_type": "stream",
     "text": [
      "0 0\n",
      "1 1\n",
      "1 1\n",
      "2 4\n",
      "3 9\n",
      "5 25\n",
      "8 64\n",
      "13 169\n",
      "21 441\n",
      "34 1156\n",
      "55 3025\n",
      "89 7921\n",
      "144 20736\n",
      "233 54289\n",
      "377 142129\n",
      "610 372100\n",
      "987 974169\n",
      "1597 2550409\n",
      "2584 6677056\n",
      "4181 17480761\n"
     ]
    }
   ],
   "source": [
    "from time import sleep\n",
    "\n",
    "def fib_list(x):\n",
    "    series = [0, 1]\n",
    "    for _ in range(x-2):\n",
    "        series.append(series[-1] + series[-2])\n",
    "        sleep(1)\n",
    "    return series\n",
    "\n",
    "for v in fib_list(20):\n",
    "    print(v, v*v)"
   ]
  },
  {
   "cell_type": "code",
   "execution_count": 44,
   "metadata": {},
   "outputs": [
    {
     "name": "stdout",
     "output_type": "stream",
     "text": [
      "0 0\n",
      "1 1\n",
      "1 1\n",
      "2 4\n",
      "3 9\n",
      "5 25\n",
      "8 64\n",
      "13 169\n",
      "21 441\n",
      "34 1156\n",
      "55 3025\n",
      "89 7921\n",
      "144 20736\n",
      "233 54289\n",
      "377 142129\n",
      "610 372100\n",
      "987 974169\n",
      "1597 2550409\n",
      "2584 6677056\n",
      "4181 17480761\n"
     ]
    }
   ],
   "source": [
    "from time import sleep\n",
    "\n",
    "def fib_gen(x):\n",
    "    a, b = 0, 1\n",
    "    for _ in range(x):\n",
    "        yield a\n",
    "        sleep(1)\n",
    "        a, b = b, a + b\n",
    "\n",
    "for v in fib_gen(20):\n",
    "    print(v, v*v)"
   ]
  },
  {
   "cell_type": "code",
   "execution_count": 48,
   "metadata": {},
   "outputs": [
    {
     "name": "stdout",
     "output_type": "stream",
     "text": [
      "foo: counting 0\n",
      "foo: counting 1\n",
      "foo: counting 2\n",
      "foo: counting 3\n",
      "foo: counting 4\n",
      "foo: counting 5\n",
      "foo: counting 6\n",
      "foo: counting 7\n",
      "foo: counting 8\n",
      "foo: counting 9\n",
      "bar: counting 0\n",
      "bar: counting 1\n",
      "bar: counting 2\n",
      "bar: counting 3\n",
      "bar: counting 4\n",
      "bar: counting 5\n",
      "bar: counting 6\n",
      "bar: counting 7\n",
      "bar: counting 8\n",
      "bar: counting 9\n"
     ]
    }
   ],
   "source": [
    "# %load sequential_execution.py\n",
    "from time import sleep\n",
    "\n",
    "def foo():\n",
    "    for i in range(10):\n",
    "        print(f\"foo: counting {i}\")\n",
    "        sleep(1)\n",
    "\n",
    "def bar():\n",
    "    for i in range(10):\n",
    "        print(f\"bar: counting {i}\")\n",
    "        sleep(1)\n",
    "\n",
    "if __name__ == '__main__':\n",
    "    foo()\n",
    "    bar()\n",
    "    \n",
    "        "
   ]
  },
  {
   "cell_type": "code",
   "execution_count": 54,
   "metadata": {},
   "outputs": [
    {
     "name": "stdout",
     "output_type": "stream",
     "text": [
      "<generator object foo at 0x000001F26935C9E0> <generator object bar at 0x000001F26935C900>\n",
      "foo: counting 0\n",
      "bar: counting 0\n",
      "foo: counting 1\n",
      "bar: counting 1\n",
      "foo: counting 2\n",
      "bar: counting 2\n",
      "foo: counting 3\n",
      "bar: counting 3\n",
      "foo: counting 4\n",
      "bar: counting 4\n",
      "foo: counting 5\n",
      "foo: counting 6\n",
      "foo: counting 7\n",
      "foo: counting 8\n",
      "foo: counting 9\n",
      "foo: counting 10\n",
      "foo: counting 11\n",
      "foo: counting 12\n",
      "foo: counting 13\n",
      "foo: counting 14\n"
     ]
    }
   ],
   "source": [
    "# %load concurrent_execution_using_generators.py\n",
    "from time import sleep\n",
    "\n",
    "def foo():\n",
    "    for i in range(15):\n",
    "        print(f\"foo: counting {i}\")\n",
    "        yield\n",
    "        sleep(1)\n",
    "        \n",
    "\n",
    "def bar():\n",
    "    for i in range(5):\n",
    "        print(f\"bar: counting {i}\")\n",
    "        yield\n",
    "        sleep(1)\n",
    "\n",
    "if __name__ == '__main__':\n",
    "    g1 = foo()\n",
    "    g2 = bar()\n",
    "    print(g1, g2)\n",
    "    from itertools import zip_longest\n",
    "    for _ in zip_longest(g1, g2):\n",
    "        pass\n",
    "\n",
    "    \n",
    "        "
   ]
  },
  {
   "cell_type": "code",
   "execution_count": 56,
   "metadata": {},
   "outputs": [
    {
     "ename": "RuntimeError",
     "evalue": "asyncio.run() cannot be called from a running event loop",
     "output_type": "error",
     "traceback": [
      "\u001b[1;31m---------------------------------------------------------------------------\u001b[0m",
      "\u001b[1;31mRuntimeError\u001b[0m                              Traceback (most recent call last)",
      "Input \u001b[1;32mIn [56]\u001b[0m, in \u001b[0;36m<module>\u001b[1;34m\u001b[0m\n\u001b[0;32m     15\u001b[0m     \u001b[38;5;28;01mawait\u001b[39;00m asyncio\u001b[38;5;241m.\u001b[39mgather(foo(), bar())\n\u001b[0;32m     17\u001b[0m \u001b[38;5;28;01mif\u001b[39;00m \u001b[38;5;18m__name__\u001b[39m \u001b[38;5;241m==\u001b[39m \u001b[38;5;124m'\u001b[39m\u001b[38;5;124m__main__\u001b[39m\u001b[38;5;124m'\u001b[39m:\n\u001b[1;32m---> 18\u001b[0m     \u001b[43masyncio\u001b[49m\u001b[38;5;241;43m.\u001b[39;49m\u001b[43mrun\u001b[49m\u001b[43m(\u001b[49m\u001b[43mmain\u001b[49m\u001b[43m(\u001b[49m\u001b[43m)\u001b[49m\u001b[43m)\u001b[49m\n",
      "File \u001b[1;32mc:\\Python310\\lib\\asyncio\\runners.py:33\u001b[0m, in \u001b[0;36mrun\u001b[1;34m(main, debug)\u001b[0m\n\u001b[0;32m      9\u001b[0m \u001b[38;5;124;03m\"\"\"Execute the coroutine and return the result.\u001b[39;00m\n\u001b[0;32m     10\u001b[0m \n\u001b[0;32m     11\u001b[0m \u001b[38;5;124;03mThis function runs the passed coroutine, taking care of\u001b[39;00m\n\u001b[1;32m   (...)\u001b[0m\n\u001b[0;32m     30\u001b[0m \u001b[38;5;124;03m    asyncio.run(main())\u001b[39;00m\n\u001b[0;32m     31\u001b[0m \u001b[38;5;124;03m\"\"\"\u001b[39;00m\n\u001b[0;32m     32\u001b[0m \u001b[38;5;28;01mif\u001b[39;00m events\u001b[38;5;241m.\u001b[39m_get_running_loop() \u001b[38;5;129;01mis\u001b[39;00m \u001b[38;5;129;01mnot\u001b[39;00m \u001b[38;5;28;01mNone\u001b[39;00m:\n\u001b[1;32m---> 33\u001b[0m     \u001b[38;5;28;01mraise\u001b[39;00m \u001b[38;5;167;01mRuntimeError\u001b[39;00m(\n\u001b[0;32m     34\u001b[0m         \u001b[38;5;124m\"\u001b[39m\u001b[38;5;124masyncio.run() cannot be called from a running event loop\u001b[39m\u001b[38;5;124m\"\u001b[39m)\n\u001b[0;32m     36\u001b[0m \u001b[38;5;28;01mif\u001b[39;00m \u001b[38;5;129;01mnot\u001b[39;00m coroutines\u001b[38;5;241m.\u001b[39miscoroutine(main):\n\u001b[0;32m     37\u001b[0m     \u001b[38;5;28;01mraise\u001b[39;00m \u001b[38;5;167;01mValueError\u001b[39;00m(\u001b[38;5;124m\"\u001b[39m\u001b[38;5;124ma coroutine was expected, got \u001b[39m\u001b[38;5;132;01m{!r}\u001b[39;00m\u001b[38;5;124m\"\u001b[39m\u001b[38;5;241m.\u001b[39mformat(main))\n",
      "\u001b[1;31mRuntimeError\u001b[0m: asyncio.run() cannot be called from a running event loop"
     ]
    }
   ],
   "source": [
    "# %load concurrent_execution_using_asyncio.py\n",
    "import asyncio\n",
    "\n",
    "async def foo():\n",
    "    for i in range(10):\n",
    "        print(f\"foo: counting {i}\")\n",
    "        await asyncio.sleep(1)\n",
    "\n",
    "async def bar():\n",
    "    for i in range(10):\n",
    "        print(f\"bar: counting {i}\")\n",
    "        await asyncio.sleep(1)\n",
    "\n",
    "async def main():\n",
    "    await asyncio.gather(foo(), bar())\n",
    "\n",
    "if __name__ == '__main__':\n",
    "    asyncio.run(main())\n",
    "\n",
    "    \n",
    "        "
   ]
  },
  {
   "cell_type": "markdown",
   "metadata": {},
   "source": [
    "#### Introduction to Threads in Python\n",
    "\n",
    "Threads are streams of execution pipelines within a running process\n",
    "\n",
    "Threads can be broadly classified into the following categories:\n",
    "  1. 1:1 Threading (Native Threads / OS-level Threads / Kernel Supported Threading / Light-Weight-Process). OS takes care of context-switching and scheduling of threads. Threads can be preempted by the OS to switch context other threads waiting for CPU.\n",
    "  \n",
    "  2. N:1 Threading (Green Threads / User-level Threads / User Threads / Greenlets / Eventlets / Tasklets / Coroutines). These are threads of execution managed within a process/application without OS intervention for scheduling. There is NO support for preemptive multitasking. All threads in this model are cooperative by nature.\n",
    "   \n",
    "  3. M:N Threading (Thread pool architecture)\n",
    "    "
   ]
  },
  {
   "cell_type": "code",
   "execution_count": 57,
   "metadata": {},
   "outputs": [],
   "source": [
    "import threading # Provides Native threading support"
   ]
  },
  {
   "cell_type": "code",
   "execution_count": 58,
   "metadata": {},
   "outputs": [
    {
     "name": "stdout",
     "output_type": "stream",
     "text": [
      "\u001b[1;31mInit signature:\u001b[0m\n",
      "\u001b[0mthreading\u001b[0m\u001b[1;33m.\u001b[0m\u001b[0mThread\u001b[0m\u001b[1;33m(\u001b[0m\u001b[1;33m\n",
      "\u001b[0m    \u001b[0mgroup\u001b[0m\u001b[1;33m=\u001b[0m\u001b[1;32mNone\u001b[0m\u001b[1;33m,\u001b[0m\u001b[1;33m\n",
      "\u001b[0m    \u001b[0mtarget\u001b[0m\u001b[1;33m=\u001b[0m\u001b[1;32mNone\u001b[0m\u001b[1;33m,\u001b[0m\u001b[1;33m\n",
      "\u001b[0m    \u001b[0mname\u001b[0m\u001b[1;33m=\u001b[0m\u001b[1;32mNone\u001b[0m\u001b[1;33m,\u001b[0m\u001b[1;33m\n",
      "\u001b[0m    \u001b[0margs\u001b[0m\u001b[1;33m=\u001b[0m\u001b[1;33m(\u001b[0m\u001b[1;33m)\u001b[0m\u001b[1;33m,\u001b[0m\u001b[1;33m\n",
      "\u001b[0m    \u001b[0mkwargs\u001b[0m\u001b[1;33m=\u001b[0m\u001b[1;32mNone\u001b[0m\u001b[1;33m,\u001b[0m\u001b[1;33m\n",
      "\u001b[0m    \u001b[1;33m*\u001b[0m\u001b[1;33m,\u001b[0m\u001b[1;33m\n",
      "\u001b[0m    \u001b[0mdaemon\u001b[0m\u001b[1;33m=\u001b[0m\u001b[1;32mNone\u001b[0m\u001b[1;33m,\u001b[0m\u001b[1;33m\n",
      "\u001b[0m\u001b[1;33m)\u001b[0m\u001b[1;33m\u001b[0m\u001b[1;33m\u001b[0m\u001b[0m\n",
      "\u001b[1;31mDocstring:\u001b[0m     \n",
      "A class that represents a thread of control.\n",
      "\n",
      "This class can be safely subclassed in a limited fashion. There are two ways\n",
      "to specify the activity: by passing a callable object to the constructor, or\n",
      "by overriding the run() method in a subclass.\n",
      "\u001b[1;31mInit docstring:\u001b[0m\n",
      "This constructor should always be called with keyword arguments. Arguments are:\n",
      "\n",
      "*group* should be None; reserved for future extension when a ThreadGroup\n",
      "class is implemented.\n",
      "\n",
      "*target* is the callable object to be invoked by the run()\n",
      "method. Defaults to None, meaning nothing is called.\n",
      "\n",
      "*name* is the thread name. By default, a unique name is constructed of\n",
      "the form \"Thread-N\" where N is a small decimal number.\n",
      "\n",
      "*args* is the argument tuple for the target invocation. Defaults to ().\n",
      "\n",
      "*kwargs* is a dictionary of keyword arguments for the target\n",
      "invocation. Defaults to {}.\n",
      "\n",
      "If a subclass overrides the constructor, it must make sure to invoke\n",
      "the base class constructor (Thread.__init__()) before doing anything\n",
      "else to the thread.\n",
      "\u001b[1;31mFile:\u001b[0m           c:\\python310\\lib\\threading.py\n",
      "\u001b[1;31mType:\u001b[0m           type\n",
      "\u001b[1;31mSubclasses:\u001b[0m     Timer, _MainThread, _DummyThread, HBChannel, HistorySavingThread, ControlThread, Heartbeat, PyDBDaemonThread, ParentPollerUnix, ParentPollerWindows, ...\n"
     ]
    }
   ],
   "source": [
    "threading.Thread?"
   ]
  }
 ],
 "metadata": {
  "kernelspec": {
   "display_name": "Python 3",
   "language": "python",
   "name": "python3"
  },
  "language_info": {
   "codemirror_mode": {
    "name": "ipython",
    "version": 3
   },
   "file_extension": ".py",
   "mimetype": "text/x-python",
   "name": "python",
   "nbconvert_exporter": "python",
   "pygments_lexer": "ipython3",
   "version": "3.10.2"
  }
 },
 "nbformat": 4,
 "nbformat_minor": 2
}
