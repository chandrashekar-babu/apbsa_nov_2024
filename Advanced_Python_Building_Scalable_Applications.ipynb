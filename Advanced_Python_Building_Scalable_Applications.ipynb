{
 "cells": [
  {
   "cell_type": "markdown",
   "metadata": {},
   "source": [
    "# Advanced Python: Building Scalable Applications"
   ]
  },
  {
   "cell_type": "markdown",
   "metadata": {},
   "source": [
    "### Module 1: Threads, Processes and Coroutines\n",
    "- Concurrency Vs Parallelism: Choosing generator/coroutines Vs Threads/Processes\n",
    "- Introduction to threads and processes.\n",
    "- Python threading module API\n",
    "   - Creating and managing threads.\n",
    "   - An overview on threading module.\n",
    "   - Using the Thread class and the Timer class.\n",
    "   - Active threads Vs. Daemon threads.\n",
    "   - Helper functions in the threading module.\n",
    "- Python multiprocessing module API\n",
    "   - Multitasking using multiprocessing.Process\n",
    "   - Process Vs Thread: performance and design implications.\n",
    "   - Similarities and differences between Process and Thread class API\n",
    "   - Helper functions in the multiprocessing module.\n",
    "- Creating thread-pools and process-pools using concurrent.futures package\n",
    "- Using gevent framework for massive I/O concurrency work-loads\n",
    "- Implementing co-routines using Python built-in async support\n",
    "- An overview on uvloop and trio\n",
    "- Best architectural design practices while choosing between different concurrency models."
   ]
  }
 ],
 "metadata": {
  "kernelspec": {
   "display_name": "Python 3",
   "language": "python",
   "name": "python3"
  },
  "language_info": {
   "name": "python",
   "version": "3.10.2"
  }
 },
 "nbformat": 4,
 "nbformat_minor": 2
}
