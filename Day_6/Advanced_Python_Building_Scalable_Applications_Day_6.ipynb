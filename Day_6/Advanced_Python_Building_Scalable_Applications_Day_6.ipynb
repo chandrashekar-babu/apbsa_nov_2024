{
 "cells": [
  {
   "cell_type": "markdown",
   "metadata": {},
   "source": [
    "# Advanced Python: Building Scalable Applications\n",
    "\n",
    "### Day 6: Data Persistence, Web APIs and Profiling Code\n"
   ]
  },
  {
   "cell_type": "code",
   "execution_count": 3,
   "metadata": {},
   "outputs": [],
   "source": [
    "import pickle\n",
    "a = 10\n",
    "b = [11, 22, 33, 4]\n",
    "c = {\"x\": 100, \"y\": 200, \"z\": (34, 54, 56)}\n",
    "\n",
    "with open(\"pickled.dat\", \"wb\") as outs:\n",
    "    pickle.dump(a, outs)\n",
    "    pickle.dump(b, outs)\n",
    "    pickle.dump(c, outs)"
   ]
  },
  {
   "cell_type": "code",
   "execution_count": 4,
   "metadata": {},
   "outputs": [
    {
     "data": {
      "text/plain": [
       "<_io.BufferedReader name='pickled.dat'>"
      ]
     },
     "execution_count": 4,
     "metadata": {},
     "output_type": "execute_result"
    }
   ],
   "source": [
    "ins = open(\"pickled.dat\", \"rb\")\n",
    "ins"
   ]
  },
  {
   "cell_type": "code",
   "execution_count": 7,
   "metadata": {},
   "outputs": [
    {
     "data": {
      "text/plain": [
       "{'x': 100, 'y': 200, 'z': (34, 54, 56)}"
      ]
     },
     "execution_count": 7,
     "metadata": {},
     "output_type": "execute_result"
    }
   ],
   "source": [
    "pickle.load(ins)"
   ]
  },
  {
   "cell_type": "code",
   "execution_count": 8,
   "metadata": {},
   "outputs": [],
   "source": [
    "ins.close()"
   ]
  },
  {
   "cell_type": "code",
   "execution_count": 22,
   "metadata": {},
   "outputs": [
    {
     "data": {
      "text/plain": [
       "<shelve.DbfilenameShelf at 0x20230561300>"
      ]
     },
     "execution_count": 22,
     "metadata": {},
     "output_type": "execute_result"
    }
   ],
   "source": [
    "import shelve\n",
    "# shelve module implements a \"persistent\" dictionary\n",
    "\n",
    "d = shelve.open(\"shelved_data\")\n",
    "d"
   ]
  },
  {
   "cell_type": "code",
   "execution_count": 11,
   "metadata": {},
   "outputs": [],
   "source": [
    "d[\"name\"] = \"Guido\""
   ]
  },
  {
   "cell_type": "code",
   "execution_count": 12,
   "metadata": {},
   "outputs": [],
   "source": [
    "d[\"role\"] = \"Founder\""
   ]
  },
  {
   "cell_type": "code",
   "execution_count": 13,
   "metadata": {},
   "outputs": [
    {
     "data": {
      "text/plain": [
       "<shelve.DbfilenameShelf at 0x2022ee0f2e0>"
      ]
     },
     "execution_count": 13,
     "metadata": {},
     "output_type": "execute_result"
    }
   ],
   "source": [
    "d[\"place\"] = \"San Francisco\"\n",
    "d"
   ]
  },
  {
   "cell_type": "code",
   "execution_count": 15,
   "metadata": {},
   "outputs": [
    {
     "data": {
      "text/plain": [
       "('San Francisco', 'Founder')"
      ]
     },
     "execution_count": 15,
     "metadata": {},
     "output_type": "execute_result"
    }
   ],
   "source": [
    "d[\"place\"], d[\"role\"]"
   ]
  },
  {
   "cell_type": "code",
   "execution_count": 16,
   "metadata": {},
   "outputs": [
    {
     "data": {
      "text/plain": [
       "True"
      ]
     },
     "execution_count": 16,
     "metadata": {},
     "output_type": "execute_result"
    }
   ],
   "source": [
    "\"name\" in d"
   ]
  },
  {
   "cell_type": "code",
   "execution_count": 17,
   "metadata": {},
   "outputs": [
    {
     "name": "stdout",
     "output_type": "stream",
     "text": [
      "name Guido\n",
      "role Founder\n",
      "place San Francisco\n"
     ]
    }
   ],
   "source": [
    "for k, v in d.items():\n",
    "    print(k, v)"
   ]
  },
  {
   "cell_type": "code",
   "execution_count": 18,
   "metadata": {},
   "outputs": [],
   "source": [
    "d.close()"
   ]
  },
  {
   "cell_type": "code",
   "execution_count": 23,
   "metadata": {},
   "outputs": [
    {
     "data": {
      "text/plain": [
       "'Raymond'"
      ]
     },
     "execution_count": 23,
     "metadata": {},
     "output_type": "execute_result"
    }
   ],
   "source": [
    "d[\"name\"]"
   ]
  },
  {
   "cell_type": "code",
   "execution_count": 37,
   "metadata": {},
   "outputs": [
    {
     "data": {
      "text/plain": [
       "2292473209843970632"
      ]
     },
     "execution_count": 37,
     "metadata": {},
     "output_type": "execute_result"
    }
   ],
   "source": [
    "a = 1000_000_000_000_000_000_000_000_100\n",
    "hash(a)"
   ]
  },
  {
   "cell_type": "code",
   "execution_count": 39,
   "metadata": {},
   "outputs": [
    {
     "name": "stdout",
     "output_type": "stream",
     "text": [
      "2208434057200 2208434057200\n"
     ]
    }
   ],
   "source": [
    "a = \"Hello_world\"\n",
    "b = \"Hello_world\"\n",
    "print(id(a), id(b))"
   ]
  },
  {
   "cell_type": "code",
   "execution_count": 26,
   "metadata": {},
   "outputs": [
    {
     "name": "stdout",
     "output_type": "stream",
     "text": [
      "2208433088640 2208432439040\n",
      "-571275007076476873 -571275007076476873\n"
     ]
    }
   ],
   "source": [
    "a = \"this is a test string\"\n",
    "b = \"this is a test string\"\n",
    "print(id(a), id(b))\n",
    "a == b\n",
    "print(hash(a), hash(b))"
   ]
  },
  {
   "cell_type": "code",
   "execution_count": null,
   "metadata": {},
   "outputs": [],
   "source": [
    "# In regular dictionaries - keys must be hashable object\n",
    "# However, a shelve object expects a key to be a \"str\" object\n"
   ]
  },
  {
   "cell_type": "code",
   "execution_count": 65,
   "metadata": {},
   "outputs": [
    {
     "data": {
      "text/plain": [
       "25"
      ]
     },
     "execution_count": 65,
     "metadata": {},
     "output_type": "execute_result"
    }
   ],
   "source": [
    "d = { str(v): v*v for v in range(100) }\n",
    "d[\"5\"]"
   ]
  },
  {
   "cell_type": "code",
   "execution_count": 66,
   "metadata": {},
   "outputs": [
    {
     "data": {
      "text/plain": [
       "4696"
      ]
     },
     "execution_count": 66,
     "metadata": {},
     "output_type": "execute_result"
    }
   ],
   "source": [
    "import sys\n",
    "sys.getsizeof(d)"
   ]
  },
  {
   "cell_type": "code",
   "execution_count": 67,
   "metadata": {},
   "outputs": [],
   "source": [
    "import shelve\n",
    "with shelve.open(\"squares\") as s:\n",
    "    s.update(d)"
   ]
  },
  {
   "cell_type": "code",
   "execution_count": 50,
   "metadata": {},
   "outputs": [
    {
     "name": "stdout",
     "output_type": "stream",
     "text": [
      "64\n",
      "232\n",
      "232\n",
      "{}\n",
      "232\n"
     ]
    }
   ],
   "source": [
    "d = {}\n",
    "print(sys.getsizeof(d))\n",
    "d[\"name\"] = \"john\"\n",
    "d[\"role\"] = \"admin\"\n",
    "d[\"place\"] = \"bengaluru\"\n",
    "print(sys.getsizeof(d))\n",
    "del d[\"role\"]\n",
    "del d[\"place\"]\n",
    "print(sys.getsizeof(d))\n",
    "del d[\"name\"]\n",
    "print(d)\n",
    "print(sys.getsizeof(d))\n",
    "\n",
    "\n"
   ]
  },
  {
   "cell_type": "code",
   "execution_count": 71,
   "metadata": {},
   "outputs": [
    {
     "name": "stdout",
     "output_type": "stream",
     "text": [
      "48\n",
      "2500\n",
      "48\n"
     ]
    }
   ],
   "source": [
    "import shelve\n",
    "\n",
    "s = shelve.open(\"squares\")\n",
    "print(sys.getsizeof(s))\n",
    "print(s[\"50\"])\n",
    "print(sys.getsizeof(s))\n"
   ]
  },
  {
   "cell_type": "markdown",
   "metadata": {},
   "source": [
    "#### Working with redis"
   ]
  },
  {
   "cell_type": "code",
   "execution_count": 72,
   "metadata": {},
   "outputs": [
    {
     "name": "stdout",
     "output_type": "stream",
     "text": [
      "Requirement already satisfied: redis in c:\\python310\\lib\\site-packages (4.2.2)\n",
      "Requirement already satisfied: deprecated>=1.2.3 in c:\\python310\\lib\\site-packages (from redis) (1.2.13)\n",
      "Requirement already satisfied: packaging>=20.4 in c:\\python310\\lib\\site-packages (from redis) (20.9)\n",
      "Requirement already satisfied: async-timeout>=4.0.2 in c:\\python310\\lib\\site-packages (from redis) (4.0.2)\n",
      "Requirement already satisfied: wrapt<2,>=1.10 in c:\\python310\\lib\\site-packages (from deprecated>=1.2.3->redis) (1.14.0)\n",
      "Requirement already satisfied: pyparsing>=2.0.2 in c:\\python310\\lib\\site-packages (from packaging>=20.4->redis) (3.0.8)\n",
      "Note: you may need to restart the kernel to use updated packages.\n"
     ]
    }
   ],
   "source": [
    "pip install redis"
   ]
  },
  {
   "cell_type": "code",
   "execution_count": 73,
   "metadata": {},
   "outputs": [
    {
     "data": {
      "text/plain": [
       "ConnectionPool<Connection<host=localhost,port=6379,db=0>>"
      ]
     },
     "execution_count": 73,
     "metadata": {},
     "output_type": "execute_result"
    }
   ],
   "source": [
    "import redis\n",
    "\n",
    "conn = redis.ConnectionPool(host=\"localhost\", port=6379, db=0)\n",
    "conn"
   ]
  },
  {
   "cell_type": "code",
   "execution_count": 74,
   "metadata": {},
   "outputs": [
    {
     "data": {
      "text/plain": [
       "Redis<ConnectionPool<Connection<host=localhost,port=6379,db=0>>>"
      ]
     },
     "execution_count": 74,
     "metadata": {},
     "output_type": "execute_result"
    }
   ],
   "source": [
    "d = redis.Redis(connection_pool=conn)\n",
    "d"
   ]
  },
  {
   "cell_type": "code",
   "execution_count": 75,
   "metadata": {},
   "outputs": [],
   "source": [
    "d[\"name\"] = \"John\""
   ]
  },
  {
   "cell_type": "code",
   "execution_count": 76,
   "metadata": {},
   "outputs": [
    {
     "data": {
      "text/plain": [
       "b'Emily'"
      ]
     },
     "execution_count": 76,
     "metadata": {},
     "output_type": "execute_result"
    }
   ],
   "source": [
    "d[\"name\"]"
   ]
  },
  {
   "cell_type": "code",
   "execution_count": 77,
   "metadata": {},
   "outputs": [
    {
     "name": "stdout",
     "output_type": "stream",
     "text": [
      "['RESPONSE_CALLBACKS', '__abstractmethods__', '__annotations__', '__class__', '__class_getitem__', '__contains__', '__del__', '__delattr__', '__delitem__', '__dict__', '__dir__', '__doc__', '__enter__', '__eq__', '__exit__', '__format__', '__ge__', '__getattribute__', '__getitem__', '__gt__', '__hash__', '__init__', '__init_subclass__', '__le__', '__lt__', '__module__', '__ne__', '__new__', '__parameters__', '__reduce__', '__reduce_ex__', '__repr__', '__setattr__', '__setitem__', '__sizeof__', '__slots__', '__str__', '__subclasshook__', '__weakref__', '_abc_impl', '_disconnect_raise', '_eval', '_evalsha', '_fcall', '_georadiusgeneric', '_geosearchgeneric', '_is_protocol', '_is_runtime_protocol', '_send_command_parse_response', '_zaggregate', '_zrange', 'acl_cat', 'acl_deluser', 'acl_dryrun', 'acl_genpass', 'acl_getuser', 'acl_help', 'acl_list', 'acl_load', 'acl_log', 'acl_log_reset', 'acl_save', 'acl_setuser', 'acl_users', 'acl_whoami', 'append', 'auth', 'bf', 'bgrewriteaof', 'bgsave', 'bitcount', 'bitfield', 'bitop', 'bitpos', 'blmove', 'blmpop', 'blpop', 'brpop', 'brpoplpush', 'bzmpop', 'bzpopmax', 'bzpopmin', 'cf', 'client', 'client_getname', 'client_getredir', 'client_id', 'client_info', 'client_kill', 'client_kill_filter', 'client_list', 'client_no_evict', 'client_pause', 'client_reply', 'client_setname', 'client_tracking', 'client_tracking_off', 'client_tracking_on', 'client_trackinginfo', 'client_unblock', 'client_unpause', 'close', 'cluster', 'cms', 'command', 'command_count', 'command_docs', 'command_getkeys', 'command_info', 'config_get', 'config_resetstat', 'config_rewrite', 'config_set', 'connection', 'connection_pool', 'copy', 'dbsize', 'debug_object', 'debug_segfault', 'decr', 'decrby', 'delete', 'dump', 'echo', 'eval', 'eval_ro', 'evalsha', 'evalsha_ro', 'execute_command', 'exists', 'expire', 'expireat', 'expiretime', 'failover', 'fcall', 'fcall_ro', 'flushall', 'flushdb', 'from_url', 'ft', 'function_delete', 'function_dump', 'function_flush', 'function_kill', 'function_list', 'function_load', 'function_restore', 'function_stats', 'geoadd', 'geodist', 'geohash', 'geopos', 'georadius', 'georadiusbymember', 'geosearch', 'geosearchstore', 'get', 'get_connection_kwargs', 'get_encoder', 'getbit', 'getdel', 'getex', 'getrange', 'getset', 'graph', 'hdel', 'hello', 'hexists', 'hget', 'hgetall', 'hincrby', 'hincrbyfloat', 'hkeys', 'hlen', 'hmget', 'hmset', 'hrandfield', 'hscan', 'hscan_iter', 'hset', 'hsetnx', 'hstrlen', 'hvals', 'incr', 'incrby', 'incrbyfloat', 'info', 'json', 'keys', 'lastsave', 'lcs', 'lindex', 'linsert', 'llen', 'lmove', 'lmpop', 'load_external_module', 'lock', 'lolwut', 'lpop', 'lpos', 'lpush', 'lpushx', 'lrange', 'lrem', 'lset', 'ltrim', 'memory_doctor', 'memory_help', 'memory_malloc_stats', 'memory_purge', 'memory_stats', 'memory_usage', 'mget', 'migrate', 'module_list', 'module_load', 'module_unload', 'monitor', 'move', 'mset', 'msetnx', 'object', 'parse_response', 'persist', 'pexpire', 'pexpireat', 'pexpiretime', 'pfadd', 'pfcount', 'pfmerge', 'ping', 'pipeline', 'psetex', 'psync', 'pttl', 'publish', 'pubsub', 'pubsub_channels', 'pubsub_numpat', 'pubsub_numsub', 'quit', 'randomkey', 'readonly', 'readwrite', 'register_script', 'rename', 'renamenx', 'replicaof', 'reset', 'response_callbacks', 'restore', 'role', 'rpop', 'rpoplpush', 'rpush', 'rpushx', 'sadd', 'save', 'scan', 'scan_iter', 'scard', 'script_debug', 'script_exists', 'script_flush', 'script_kill', 'script_load', 'sdiff', 'sdiffstore', 'select', 'sentinel', 'sentinel_ckquorum', 'sentinel_failover', 'sentinel_flushconfig', 'sentinel_get_master_addr_by_name', 'sentinel_master', 'sentinel_masters', 'sentinel_monitor', 'sentinel_remove', 'sentinel_reset', 'sentinel_sentinels', 'sentinel_set', 'sentinel_slaves', 'set', 'set_response_callback', 'setbit', 'setex', 'setnx', 'setrange', 'shutdown', 'sinter', 'sintercard', 'sinterstore', 'sismember', 'slaveof', 'slowlog_get', 'slowlog_len', 'slowlog_reset', 'smembers', 'smismember', 'smove', 'sort', 'sort_ro', 'spop', 'srandmember', 'srem', 'sscan', 'sscan_iter', 'stralgo', 'strlen', 'substr', 'sunion', 'sunionstore', 'swapdb', 'sync', 'tdigest', 'time', 'topk', 'touch', 'transaction', 'ts', 'ttl', 'type', 'unlink', 'unwatch', 'wait', 'watch', 'xack', 'xadd', 'xautoclaim', 'xclaim', 'xdel', 'xgroup_create', 'xgroup_createconsumer', 'xgroup_delconsumer', 'xgroup_destroy', 'xgroup_setid', 'xinfo_consumers', 'xinfo_groups', 'xinfo_stream', 'xlen', 'xpending', 'xpending_range', 'xrange', 'xread', 'xreadgroup', 'xrevrange', 'xtrim', 'zadd', 'zcard', 'zcount', 'zdiff', 'zdiffstore', 'zincrby', 'zinter', 'zintercard', 'zinterstore', 'zlexcount', 'zmpop', 'zmscore', 'zpopmax', 'zpopmin', 'zrandmember', 'zrange', 'zrangebylex', 'zrangebyscore', 'zrangestore', 'zrank', 'zrem', 'zremrangebylex', 'zremrangebyrank', 'zremrangebyscore', 'zrevrange', 'zrevrangebylex', 'zrevrangebyscore', 'zrevrank', 'zscan', 'zscan_iter', 'zscore', 'zunion', 'zunionstore']\n"
     ]
    }
   ],
   "source": [
    "print(dir(d))"
   ]
  },
  {
   "cell_type": "code",
   "execution_count": 80,
   "metadata": {},
   "outputs": [
    {
     "data": {
      "text/plain": [
       "True"
      ]
     },
     "execution_count": 80,
     "metadata": {},
     "output_type": "execute_result"
    }
   ],
   "source": [
    "\"role\" in d"
   ]
  },
  {
   "cell_type": "code",
   "execution_count": 82,
   "metadata": {},
   "outputs": [],
   "source": [
    "d[\"place\"] = \"Noida\""
   ]
  },
  {
   "cell_type": "code",
   "execution_count": 83,
   "metadata": {},
   "outputs": [
    {
     "data": {
      "text/plain": [
       "b'Noida'"
      ]
     },
     "execution_count": 83,
     "metadata": {},
     "output_type": "execute_result"
    }
   ],
   "source": [
    "d[\"place\"]"
   ]
  },
  {
   "cell_type": "code",
   "execution_count": 86,
   "metadata": {},
   "outputs": [
    {
     "data": {
      "text/plain": [
       "True"
      ]
     },
     "execution_count": 86,
     "metadata": {},
     "output_type": "execute_result"
    }
   ],
   "source": [
    "d.expire(\"place\", 20)"
   ]
  },
  {
   "cell_type": "code",
   "execution_count": 89,
   "metadata": {},
   "outputs": [
    {
     "ename": "KeyError",
     "evalue": "'place'",
     "output_type": "error",
     "traceback": [
      "\u001b[1;31m---------------------------------------------------------------------------\u001b[0m",
      "\u001b[1;31mKeyError\u001b[0m                                  Traceback (most recent call last)",
      "Input \u001b[1;32mIn [89]\u001b[0m, in \u001b[0;36m<module>\u001b[1;34m\u001b[0m\n\u001b[1;32m----> 1\u001b[0m \u001b[43md\u001b[49m\u001b[43m[\u001b[49m\u001b[38;5;124;43m\"\u001b[39;49m\u001b[38;5;124;43mplace\u001b[39;49m\u001b[38;5;124;43m\"\u001b[39;49m\u001b[43m]\u001b[49m\n",
      "File \u001b[1;32mc:\\Python310\\lib\\site-packages\\redis\\commands\\core.py:1688\u001b[0m, in \u001b[0;36mBasicKeyCommands.__getitem__\u001b[1;34m(self, name)\u001b[0m\n\u001b[0;32m   1686\u001b[0m \u001b[38;5;28;01mif\u001b[39;00m value \u001b[38;5;129;01mis\u001b[39;00m \u001b[38;5;129;01mnot\u001b[39;00m \u001b[38;5;28;01mNone\u001b[39;00m:\n\u001b[0;32m   1687\u001b[0m     \u001b[38;5;28;01mreturn\u001b[39;00m value\n\u001b[1;32m-> 1688\u001b[0m \u001b[38;5;28;01mraise\u001b[39;00m \u001b[38;5;167;01mKeyError\u001b[39;00m(name)\n",
      "\u001b[1;31mKeyError\u001b[0m: 'place'"
     ]
    }
   ],
   "source": [
    "d[\"place\"]"
   ]
  },
  {
   "cell_type": "code",
   "execution_count": 1,
   "metadata": {},
   "outputs": [
    {
     "name": "stdout",
     "output_type": "stream",
     "text": [
      "Redis<ConnectionPool<Connection<host=localhost,port=6379,db=0>>>\n",
      "<redis.client.PubSub object at 0x000001CC54488D60>\n"
     ]
    }
   ],
   "source": [
    "# Redis simple publish-subscribe example\n",
    "from redis import Redis\n",
    "r = Redis() # connects to 'localhost:6379' and uses db=0\n",
    "print(r)\n",
    "ps = r.pubsub()\n",
    "ps\n",
    "print(ps)"
   ]
  },
  {
   "cell_type": "code",
   "execution_count": 94,
   "metadata": {},
   "outputs": [],
   "source": [
    "def simple_subscriber(*args, **kwargs):\n",
    "    print(f\"*** got message: {args=}, {kwargs=}\")\n",
    "\n",
    "ps.subscribe(test_event=simple_subscriber)\n"
   ]
  },
  {
   "cell_type": "code",
   "execution_count": 3,
   "metadata": {},
   "outputs": [],
   "source": [
    "def simple_subscriber(info):\n",
    "    print(f\"*** got message on channel {info['channel']}, message {info['data']}\")\n",
    "    for k, v in info.items():\n",
    "        print(f\"    {k} => {v}\")\n",
    "\n",
    "\n",
    "ps.subscribe(test_event=simple_subscriber)\n"
   ]
  },
  {
   "cell_type": "code",
   "execution_count": null,
   "metadata": {},
   "outputs": [
    {
     "name": "stdout",
     "output_type": "stream",
     "text": [
      "{'type': 'subscribe', 'pattern': None, 'channel': b'test_event', 'data': 1}\n",
      "*** got message on channel b'test_event', message b'this is a test message'\n",
      "    type => message\n",
      "    pattern => None\n",
      "    channel => b'test_event'\n",
      "    data => b'this is a test message'\n"
     ]
    }
   ],
   "source": [
    "for m in ps.listen():\n",
    "    print(m)"
   ]
  },
  {
   "cell_type": "code",
   "execution_count": 1,
   "metadata": {},
   "outputs": [
    {
     "name": "stdout",
     "output_type": "stream",
     "text": [
      "Collecting rq\n",
      "  Downloading rq-2.0.0-py3-none-any.whl.metadata (5.8 kB)\n",
      "Requirement already satisfied: click>=5 in c:\\python310\\lib\\site-packages (from rq) (8.0.3)\n",
      "Requirement already satisfied: redis>=3.5 in c:\\python310\\lib\\site-packages (from rq) (4.2.2)\n",
      "Requirement already satisfied: colorama in c:\\python310\\lib\\site-packages (from click>=5->rq) (0.4.4)\n",
      "Requirement already satisfied: deprecated>=1.2.3 in c:\\python310\\lib\\site-packages (from redis>=3.5->rq) (1.2.13)\n",
      "Requirement already satisfied: packaging>=20.4 in c:\\python310\\lib\\site-packages (from redis>=3.5->rq) (20.9)\n",
      "Requirement already satisfied: async-timeout>=4.0.2 in c:\\python310\\lib\\site-packages (from redis>=3.5->rq) (4.0.2)\n",
      "Requirement already satisfied: wrapt<2,>=1.10 in c:\\python310\\lib\\site-packages (from deprecated>=1.2.3->redis>=3.5->rq) (1.14.0)\n",
      "Requirement already satisfied: pyparsing>=2.0.2 in c:\\python310\\lib\\site-packages (from packaging>=20.4->redis>=3.5->rq) (3.0.8)\n",
      "Downloading rq-2.0.0-py3-none-any.whl (95 kB)\n",
      "Installing collected packages: rq\n",
      "Note: you may need to restart the kernel to use updated packages.\n",
      "Successfully installed rq-2.0.0\n"
     ]
    }
   ],
   "source": [
    "pip install rq"
   ]
  },
  {
   "cell_type": "code",
   "execution_count": 3,
   "metadata": {},
   "outputs": [
    {
     "data": {
      "text/plain": [
       "Queue('default')"
      ]
     },
     "execution_count": 3,
     "metadata": {},
     "output_type": "execute_result"
    }
   ],
   "source": [
    "# Using Redis-Queue for task queues\n",
    "from redis import Redis\n",
    "from rq import Queue\n",
    "q = Queue(connection=Redis())\n",
    "q"
   ]
  },
  {
   "cell_type": "code",
   "execution_count": 5,
   "metadata": {},
   "outputs": [
    {
     "name": "stdout",
     "output_type": "stream",
     "text": [
      "c:\\Users\\chandrashekar\\APBSA\\Day_6\\python_rq\n"
     ]
    }
   ],
   "source": [
    "%cd python_rq"
   ]
  },
  {
   "cell_type": "code",
   "execution_count": 7,
   "metadata": {},
   "outputs": [],
   "source": [
    "from simple_tasks import add"
   ]
  },
  {
   "cell_type": "code",
   "execution_count": 8,
   "metadata": {},
   "outputs": [
    {
     "name": "stdout",
     "output_type": "stream",
     "text": [
      "add method invoked: x=2, y=3\n"
     ]
    },
    {
     "data": {
      "text/plain": [
       "5"
      ]
     },
     "execution_count": 8,
     "metadata": {},
     "output_type": "execute_result"
    }
   ],
   "source": [
    "add(2, 3)"
   ]
  },
  {
   "cell_type": "code",
   "execution_count": 10,
   "metadata": {},
   "outputs": [
    {
     "data": {
      "text/plain": [
       "Job('c086a81d-7333-40f3-9893-93f02cba04ef', enqueued_at=datetime.datetime(2024, 11, 25, 6, 4, 14, 908911, tzinfo=datetime.timezone.utc))"
      ]
     },
     "execution_count": 10,
     "metadata": {},
     "output_type": "execute_result"
    }
   ],
   "source": [
    "r = q.enqueue(add, 2, 3)\n",
    "r"
   ]
  },
  {
   "cell_type": "code",
   "execution_count": 15,
   "metadata": {},
   "outputs": [
    {
     "data": {
      "text/plain": [
       "<JobStatus.FINISHED: 'finished'>"
      ]
     },
     "execution_count": 15,
     "metadata": {},
     "output_type": "execute_result"
    }
   ],
   "source": [
    "r.get_status()"
   ]
  },
  {
   "cell_type": "code",
   "execution_count": 18,
   "metadata": {},
   "outputs": [
    {
     "data": {
      "text/plain": [
       "5"
      ]
     },
     "execution_count": 18,
     "metadata": {},
     "output_type": "execute_result"
    }
   ],
   "source": [
    "r.result"
   ]
  },
  {
   "cell_type": "code",
   "execution_count": 19,
   "metadata": {},
   "outputs": [
    {
     "data": {
      "text/plain": [
       "'c:\\\\Users\\\\chandrashekar\\\\APBSA\\\\Day_6\\\\python_rq'"
      ]
     },
     "execution_count": 19,
     "metadata": {},
     "output_type": "execute_result"
    }
   ],
   "source": [
    "pwd"
   ]
  },
  {
   "cell_type": "code",
   "execution_count": 20,
   "metadata": {},
   "outputs": [
    {
     "name": "stdout",
     "output_type": "stream",
     "text": [
      "Enqueuing add_slow(0, 0)\n",
      "Enqueuing add_slow(2, 1)\n",
      "Enqueuing add_slow(4, 4)\n",
      "Enqueuing add_slow(6, 9)\n",
      "Enqueuing add_slow(8, 16)\n",
      "Enqueuing add_slow(10, 25)\n",
      "Enqueuing add_slow(12, 36)\n",
      "Enqueuing add_slow(14, 49)\n",
      "Enqueuing add_slow(16, 64)\n",
      "Enqueuing add_slow(18, 81)\n"
     ]
    }
   ],
   "source": [
    "from simple_tasks import add_slow\n",
    "results = []\n",
    "for i in range(10):\n",
    "    print(f\"Enqueuing add_slow({i*2}, {i**2})\")\n",
    "    ret = q.enqueue(add_slow, i*2, i**2)\n",
    "    results.append(ret)\n"
   ]
  },
  {
   "cell_type": "code",
   "execution_count": 23,
   "metadata": {},
   "outputs": [
    {
     "name": "stdout",
     "output_type": "stream",
     "text": [
      "0\n",
      "3\n",
      "8\n",
      "15\n",
      "24\n",
      "35\n",
      "48\n",
      "63\n",
      "80\n",
      "99\n"
     ]
    }
   ],
   "source": [
    "for r in results:\n",
    "    print(r.result)"
   ]
  },
  {
   "cell_type": "code",
   "execution_count": 25,
   "metadata": {},
   "outputs": [
    {
     "name": "stdout",
     "output_type": "stream",
     "text": [
      "c:\\Users\\chandrashekar\\APBSA\\Day_6\n"
     ]
    }
   ],
   "source": [
    "%cd .."
   ]
  },
  {
   "cell_type": "code",
   "execution_count": 26,
   "metadata": {},
   "outputs": [
    {
     "data": {
      "text/plain": [
       "<sqlite3.Connection at 0x2032def0140>"
      ]
     },
     "execution_count": 26,
     "metadata": {},
     "output_type": "execute_result"
    }
   ],
   "source": [
    "import sqlite3 as driver\n",
    "\n",
    "conn = driver.connect(\"simple_db\")\n",
    "conn"
   ]
  },
  {
   "cell_type": "code",
   "execution_count": 27,
   "metadata": {},
   "outputs": [
    {
     "name": "stdout",
     "output_type": "stream",
     "text": [
      "\u001b[1;31mDocstring:\u001b[0m\n",
      "connect(database[, timeout, detect_types, isolation_level,\n",
      "        check_same_thread, factory, cached_statements, uri])\n",
      "\n",
      "Opens a connection to the SQLite database file *database*. You can use\n",
      "\":memory:\" to open a database connection to a database that resides in\n",
      "RAM instead of on disk.\n",
      "\u001b[1;31mType:\u001b[0m      builtin_function_or_method\n"
     ]
    }
   ],
   "source": [
    "driver.connect?"
   ]
  },
  {
   "cell_type": "code",
   "execution_count": 28,
   "metadata": {},
   "outputs": [
    {
     "data": {
      "text/plain": [
       "<sqlite3.Cursor at 0x2032dea7640>"
      ]
     },
     "execution_count": 28,
     "metadata": {},
     "output_type": "execute_result"
    }
   ],
   "source": [
    "cur = conn.cursor()\n",
    "cur"
   ]
  },
  {
   "cell_type": "code",
   "execution_count": 30,
   "metadata": {},
   "outputs": [
    {
     "ename": "OperationalError",
     "evalue": "table users already exists",
     "output_type": "error",
     "traceback": [
      "\u001b[1;31m---------------------------------------------------------------------------\u001b[0m",
      "\u001b[1;31mOperationalError\u001b[0m                          Traceback (most recent call last)",
      "Input \u001b[1;32mIn [30]\u001b[0m, in \u001b[0;36m<module>\u001b[1;34m\u001b[0m\n\u001b[1;32m----> 1\u001b[0m \u001b[43mcur\u001b[49m\u001b[38;5;241;43m.\u001b[39;49m\u001b[43mexecute\u001b[49m\u001b[43m(\u001b[49m\u001b[38;5;124;43m\"\"\"\u001b[39;49m\u001b[38;5;124;43mCREATE TABLE users(\u001b[39;49m\n\u001b[0;32m      2\u001b[0m \u001b[38;5;124;43m     user_id INTEGER PRIMARY KEY AUTOINCREMENT,\u001b[39;49m\n\u001b[0;32m      3\u001b[0m \u001b[38;5;124;43m     name VARCHAR(32),\u001b[39;49m\n\u001b[0;32m      4\u001b[0m \u001b[38;5;124;43m     email VARCHAR(32)      \u001b[39;49m\n\u001b[0;32m      5\u001b[0m \u001b[38;5;124;43m)\u001b[39;49m\u001b[38;5;124;43m\"\"\"\u001b[39;49m\u001b[43m)\u001b[49m\n",
      "\u001b[1;31mOperationalError\u001b[0m: table users already exists"
     ]
    }
   ],
   "source": [
    "cur.execute(\"\"\"CREATE TABLE users(\n",
    "     user_id INTEGER PRIMARY KEY AUTOINCREMENT,\n",
    "     name VARCHAR(32),\n",
    "     email VARCHAR(32)      \n",
    ")\"\"\")"
   ]
  },
  {
   "cell_type": "code",
   "execution_count": 31,
   "metadata": {},
   "outputs": [
    {
     "data": {
      "text/plain": [
       "<sqlite3.Cursor at 0x2032dea7640>"
      ]
     },
     "execution_count": 31,
     "metadata": {},
     "output_type": "execute_result"
    }
   ],
   "source": [
    "cur.execute(\"\"\"INSERT INTO users(name, email) VALUES('john', 'john.doe@gmail.com')\"\"\")\n"
   ]
  },
  {
   "cell_type": "code",
   "execution_count": 32,
   "metadata": {},
   "outputs": [
    {
     "data": {
      "text/plain": [
       "<sqlite3.Cursor at 0x2032dea7640>"
      ]
     },
     "execution_count": 32,
     "metadata": {},
     "output_type": "execute_result"
    }
   ],
   "source": [
    "user_info = [\n",
    "    (\"emily\", \"em1234@gmail.com\"),\n",
    "    (\"mary\", \"jane@yahoo.com\"),\n",
    "    (\"smith\", \"smith3344@hotmail.com\")\n",
    "]\n",
    "\n",
    "INSERT_SQL = \"\"\"INSERT INTO users(name, email) VALUES(?,?)\"\"\"\n",
    "\n",
    "cur.executemany(INSERT_SQL, user_info)\n"
   ]
  },
  {
   "cell_type": "code",
   "execution_count": 33,
   "metadata": {},
   "outputs": [],
   "source": [
    "conn.commit()"
   ]
  },
  {
   "cell_type": "code",
   "execution_count": 34,
   "metadata": {},
   "outputs": [],
   "source": [
    "conn.close()"
   ]
  },
  {
   "cell_type": "code",
   "execution_count": 38,
   "metadata": {},
   "outputs": [
    {
     "name": "stdout",
     "output_type": "stream",
     "text": [
      "(1, 'john', 'john.doe@gmail.com')\n",
      "(2, 'emily', 'em1234@gmail.com')\n",
      "(4, 'smith', 'smith3344@hotmail.com')\n"
     ]
    }
   ],
   "source": [
    "import sqlite3 as driver\n",
    "with driver.connect(\"simple_db\") as conn:\n",
    "    cur = conn.cursor()\n",
    "    cur.execute(\"SELECT * FROM users\")\n",
    "    for row in cur:\n",
    "        print(row)\n"
   ]
  },
  {
   "cell_type": "code",
   "execution_count": 37,
   "metadata": {},
   "outputs": [
    {
     "name": "stdout",
     "output_type": "stream",
     "text": [
      "(1, 'john', 'john.doe@gmail.com')\n",
      "(2, 'emily', 'em1234@gmail.com')\n",
      "(4, 'smith', 'smith3344@hotmail.com')\n"
     ]
    }
   ],
   "source": [
    "with driver.connect(\"simple_db\") as conn:\n",
    "    cur = conn.cursor()\n",
    "    cur.execute(\"DELETE FROM users WHERE name = ?\", ('mary',))\n",
    "    cur.execute(\"SELECT * FROM users\")\n",
    "    for row in cur:\n",
    "        print(row)"
   ]
  },
  {
   "cell_type": "code",
   "execution_count": 41,
   "metadata": {},
   "outputs": [
    {
     "name": "stdout",
     "output_type": "stream",
     "text": [
      "c:\\Users\\chandrashekar\\APBSA\\Day_6\\generalized_dbapi_design\n"
     ]
    }
   ],
   "source": [
    "cd generalized_dbapi_design"
   ]
  },
  {
   "cell_type": "code",
   "execution_count": null,
   "metadata": {},
   "outputs": [],
   "source": [
    "import sqlite3_config\n",
    "from user_manager import User\n",
    "\n",
    "with User(sqlite3_config) as users:\n",
    "    users.add(\"james\", \"wel234\", \"James Wellington\")\n",
    "    users.add(\"sam\", \"sam123\", \"Samuel Jones\")\n"
   ]
  },
  {
   "cell_type": "code",
   "execution_count": 42,
   "metadata": {},
   "outputs": [
    {
     "name": "stdout",
     "output_type": "stream",
     "text": [
      "Requirement already satisfied: pymongo in c:\\python310\\lib\\site-packages (4.1.1)\n",
      "Note: you may need to restart the kernel to use updated packages.\n"
     ]
    }
   ],
   "source": [
    "pip install pymongo"
   ]
  },
  {
   "cell_type": "code",
   "execution_count": 43,
   "metadata": {},
   "outputs": [],
   "source": [
    "from pymongo import MongoClient"
   ]
  },
  {
   "cell_type": "code",
   "execution_count": 45,
   "metadata": {},
   "outputs": [
    {
     "name": "stdout",
     "output_type": "stream",
     "text": [
      "\u001b[1;31mInit signature:\u001b[0m\n",
      "\u001b[0mMongoClient\u001b[0m\u001b[1;33m(\u001b[0m\u001b[1;33m\n",
      "\u001b[0m    \u001b[0mhost\u001b[0m\u001b[1;33m:\u001b[0m \u001b[0mUnion\u001b[0m\u001b[1;33m[\u001b[0m\u001b[0mstr\u001b[0m\u001b[1;33m,\u001b[0m \u001b[0mSequence\u001b[0m\u001b[1;33m[\u001b[0m\u001b[0mstr\u001b[0m\u001b[1;33m]\u001b[0m\u001b[1;33m,\u001b[0m \u001b[0mNoneType\u001b[0m\u001b[1;33m]\u001b[0m \u001b[1;33m=\u001b[0m \u001b[1;32mNone\u001b[0m\u001b[1;33m,\u001b[0m\u001b[1;33m\n",
      "\u001b[0m    \u001b[0mport\u001b[0m\u001b[1;33m:\u001b[0m \u001b[0mOptional\u001b[0m\u001b[1;33m[\u001b[0m\u001b[0mint\u001b[0m\u001b[1;33m]\u001b[0m \u001b[1;33m=\u001b[0m \u001b[1;32mNone\u001b[0m\u001b[1;33m,\u001b[0m\u001b[1;33m\n",
      "\u001b[0m    \u001b[0mdocument_class\u001b[0m\u001b[1;33m:\u001b[0m \u001b[0mOptional\u001b[0m\u001b[1;33m[\u001b[0m\u001b[0mType\u001b[0m\u001b[1;33m[\u001b[0m\u001b[1;33m~\u001b[0m\u001b[0m_DocumentType\u001b[0m\u001b[1;33m]\u001b[0m\u001b[1;33m]\u001b[0m \u001b[1;33m=\u001b[0m \u001b[1;32mNone\u001b[0m\u001b[1;33m,\u001b[0m\u001b[1;33m\n",
      "\u001b[0m    \u001b[0mtz_aware\u001b[0m\u001b[1;33m:\u001b[0m \u001b[0mOptional\u001b[0m\u001b[1;33m[\u001b[0m\u001b[0mbool\u001b[0m\u001b[1;33m]\u001b[0m \u001b[1;33m=\u001b[0m \u001b[1;32mNone\u001b[0m\u001b[1;33m,\u001b[0m\u001b[1;33m\n",
      "\u001b[0m    \u001b[0mconnect\u001b[0m\u001b[1;33m:\u001b[0m \u001b[0mOptional\u001b[0m\u001b[1;33m[\u001b[0m\u001b[0mbool\u001b[0m\u001b[1;33m]\u001b[0m \u001b[1;33m=\u001b[0m \u001b[1;32mNone\u001b[0m\u001b[1;33m,\u001b[0m\u001b[1;33m\n",
      "\u001b[0m    \u001b[0mtype_registry\u001b[0m\u001b[1;33m:\u001b[0m \u001b[0mOptional\u001b[0m\u001b[1;33m[\u001b[0m\u001b[0mbson\u001b[0m\u001b[1;33m.\u001b[0m\u001b[0mcodec_options\u001b[0m\u001b[1;33m.\u001b[0m\u001b[0mTypeRegistry\u001b[0m\u001b[1;33m]\u001b[0m \u001b[1;33m=\u001b[0m \u001b[1;32mNone\u001b[0m\u001b[1;33m,\u001b[0m\u001b[1;33m\n",
      "\u001b[0m    \u001b[1;33m**\u001b[0m\u001b[0mkwargs\u001b[0m\u001b[1;33m:\u001b[0m \u001b[0mAny\u001b[0m\u001b[1;33m,\u001b[0m\u001b[1;33m\n",
      "\u001b[0m\u001b[1;33m)\u001b[0m \u001b[1;33m->\u001b[0m \u001b[1;32mNone\u001b[0m\u001b[1;33m\u001b[0m\u001b[1;33m\u001b[0m\u001b[0m\n",
      "\u001b[1;31mDocstring:\u001b[0m     \n",
      "A client-side representation of a MongoDB cluster.\n",
      "\n",
      "Instances can represent either a standalone MongoDB server, a replica\n",
      "set, or a sharded cluster. Instances of this class are responsible for\n",
      "maintaining up-to-date state of the cluster, and possibly cache\n",
      "resources related to this, including background threads for monitoring,\n",
      "and connection pools.\n",
      "\u001b[1;31mInit docstring:\u001b[0m\n",
      "Client for a MongoDB instance, a replica set, or a set of mongoses.\n",
      "\n",
      "The client object is thread-safe and has connection-pooling built in.\n",
      "If an operation fails because of a network error,\n",
      ":class:`~pymongo.errors.ConnectionFailure` is raised and the client\n",
      "reconnects in the background. Application code should handle this\n",
      "exception (recognizing that the operation failed) and then continue to\n",
      "execute.\n",
      "\n",
      "The `host` parameter can be a full `mongodb URI\n",
      "<http://dochub.mongodb.org/core/connections>`_, in addition to\n",
      "a simple hostname. It can also be a list of hostnames but no more\n",
      "than one URI. Any port specified in the host string(s) will override\n",
      "the `port` parameter. For username and\n",
      "passwords reserved characters like ':', '/', '+' and '@' must be\n",
      "percent encoded following RFC 2396::\n",
      "\n",
      "    from urllib.parse import quote_plus\n",
      "\n",
      "    uri = \"mongodb://%s:%s@%s\" % (\n",
      "        quote_plus(user), quote_plus(password), host)\n",
      "    client = MongoClient(uri)\n",
      "\n",
      "Unix domain sockets are also supported. The socket path must be percent\n",
      "encoded in the URI::\n",
      "\n",
      "    uri = \"mongodb://%s:%s@%s\" % (\n",
      "        quote_plus(user), quote_plus(password), quote_plus(socket_path))\n",
      "    client = MongoClient(uri)\n",
      "\n",
      "But not when passed as a simple hostname::\n",
      "\n",
      "    client = MongoClient('/tmp/mongodb-27017.sock')\n",
      "\n",
      "Starting with version 3.6, PyMongo supports mongodb+srv:// URIs. The\n",
      "URI must include one, and only one, hostname. The hostname will be\n",
      "resolved to one or more DNS `SRV records\n",
      "<https://en.wikipedia.org/wiki/SRV_record>`_ which will be used\n",
      "as the seed list for connecting to the MongoDB deployment. When using\n",
      "SRV URIs, the `authSource` and `replicaSet` configuration options can\n",
      "be specified using `TXT records\n",
      "<https://en.wikipedia.org/wiki/TXT_record>`_. See the\n",
      "`Initial DNS Seedlist Discovery spec\n",
      "<https://github.com/mongodb/specifications/blob/master/source/\n",
      "initial-dns-seedlist-discovery/initial-dns-seedlist-discovery.rst>`_\n",
      "for more details. Note that the use of SRV URIs implicitly enables\n",
      "TLS support. Pass tls=false in the URI to override.\n",
      "\n",
      ".. note:: MongoClient creation will block waiting for answers from\n",
      "  DNS when mongodb+srv:// URIs are used.\n",
      "\n",
      ".. note:: Starting with version 3.0 the :class:`MongoClient`\n",
      "  constructor no longer blocks while connecting to the server or\n",
      "  servers, and it no longer raises\n",
      "  :class:`~pymongo.errors.ConnectionFailure` if they are\n",
      "  unavailable, nor :class:`~pymongo.errors.ConfigurationError`\n",
      "  if the user's credentials are wrong. Instead, the constructor\n",
      "  returns immediately and launches the connection process on\n",
      "  background threads. You can check if the server is available\n",
      "  like this::\n",
      "\n",
      "    from pymongo.errors import ConnectionFailure\n",
      "    client = MongoClient()\n",
      "    try:\n",
      "        # The ping command is cheap and does not require auth.\n",
      "        client.admin.command('ping')\n",
      "    except ConnectionFailure:\n",
      "        print(\"Server not available\")\n",
      "\n",
      ".. warning:: When using PyMongo in a multiprocessing context, please\n",
      "  read :ref:`multiprocessing` first.\n",
      "\n",
      ".. note:: Many of the following options can be passed using a MongoDB\n",
      "  URI or keyword parameters. If the same option is passed in a URI and\n",
      "  as a keyword parameter the keyword parameter takes precedence.\n",
      "\n",
      ":Parameters:\n",
      "  - `host` (optional): hostname or IP address or Unix domain socket\n",
      "    path of a single mongod or mongos instance to connect to, or a\n",
      "    mongodb URI, or a list of hostnames (but no more than one mongodb\n",
      "    URI). If `host` is an IPv6 literal it must be enclosed in '['\n",
      "    and ']' characters\n",
      "    following the RFC2732 URL syntax (e.g. '[::1]' for localhost).\n",
      "    Multihomed and round robin DNS addresses are **not** supported.\n",
      "  - `port` (optional): port number on which to connect\n",
      "  - `document_class` (optional): default class to use for\n",
      "    documents returned from queries on this client\n",
      "  - `tz_aware` (optional): if ``True``,\n",
      "    :class:`~datetime.datetime` instances returned as values\n",
      "    in a document by this :class:`MongoClient` will be timezone\n",
      "    aware (otherwise they will be naive)\n",
      "  - `connect` (optional): if ``True`` (the default), immediately\n",
      "    begin connecting to MongoDB in the background. Otherwise connect\n",
      "    on the first operation.\n",
      "  - `type_registry` (optional): instance of\n",
      "    :class:`~bson.codec_options.TypeRegistry` to enable encoding\n",
      "    and decoding of custom types.\n",
      "\n",
      "  | **Other optional parameters can be passed as keyword arguments:**\n",
      "\n",
      "  - `directConnection` (optional): if ``True``, forces this client to\n",
      "     connect directly to the specified MongoDB host as a standalone.\n",
      "     If ``false``, the client connects to the entire replica set of\n",
      "     which the given MongoDB host(s) is a part. If this is ``True``\n",
      "     and a mongodb+srv:// URI or a URI containing multiple seeds is\n",
      "     provided, an exception will be raised.\n",
      "  - `maxPoolSize` (optional): The maximum allowable number of\n",
      "    concurrent connections to each connected server. Requests to a\n",
      "    server will block if there are `maxPoolSize` outstanding\n",
      "    connections to the requested server. Defaults to 100. Can be\n",
      "    either 0 or None, in which case there is no limit on the number\n",
      "    of concurrent connections.\n",
      "  - `minPoolSize` (optional): The minimum required number of concurrent\n",
      "    connections that the pool will maintain to each connected server.\n",
      "    Default is 0.\n",
      "  - `maxIdleTimeMS` (optional): The maximum number of milliseconds that\n",
      "    a connection can remain idle in the pool before being removed and\n",
      "    replaced. Defaults to `None` (no limit).\n",
      "  - `maxConnecting` (optional): The maximum number of connections that\n",
      "    each pool can establish concurrently. Defaults to `2`.\n",
      "  - `socketTimeoutMS`: (integer or None) Controls how long (in\n",
      "    milliseconds) the driver will wait for a response after sending an\n",
      "    ordinary (non-monitoring) database operation before concluding that\n",
      "    a network error has occurred. ``0`` or ``None`` means no timeout.\n",
      "    Defaults to ``None`` (no timeout).\n",
      "  - `connectTimeoutMS`: (integer or None) Controls how long (in\n",
      "    milliseconds) the driver will wait during server monitoring when\n",
      "    connecting a new socket to a server before concluding the server\n",
      "    is unavailable. ``0`` or ``None`` means no timeout.\n",
      "    Defaults to ``20000`` (20 seconds).\n",
      "  - `server_selector`: (callable or None) Optional, user-provided\n",
      "    function that augments server selection rules. The function should\n",
      "    accept as an argument a list of\n",
      "    :class:`~pymongo.server_description.ServerDescription` objects and\n",
      "    return a list of server descriptions that should be considered\n",
      "    suitable for the desired operation.\n",
      "  - `serverSelectionTimeoutMS`: (integer) Controls how long (in\n",
      "    milliseconds) the driver will wait to find an available,\n",
      "    appropriate server to carry out a database operation; while it is\n",
      "    waiting, multiple server monitoring operations may be carried out,\n",
      "    each controlled by `connectTimeoutMS`. Defaults to ``30000`` (30\n",
      "    seconds).\n",
      "  - `waitQueueTimeoutMS`: (integer or None) How long (in milliseconds)\n",
      "    a thread will wait for a socket from the pool if the pool has no\n",
      "    free sockets. Defaults to ``None`` (no timeout).\n",
      "  - `heartbeatFrequencyMS`: (optional) The number of milliseconds\n",
      "    between periodic server checks, or None to accept the default\n",
      "    frequency of 10 seconds.\n",
      "  - `appname`: (string or None) The name of the application that\n",
      "    created this MongoClient instance. The server will log this value\n",
      "    upon establishing each connection. It is also recorded in the slow\n",
      "    query log and profile collections.\n",
      "  - `driver`: (pair or None) A driver implemented on top of PyMongo can\n",
      "    pass a :class:`~pymongo.driver_info.DriverInfo` to add its name,\n",
      "    version, and platform to the message printed in the server log when\n",
      "    establishing a connection.\n",
      "  - `event_listeners`: a list or tuple of event listeners. See\n",
      "    :mod:`~pymongo.monitoring` for details.\n",
      "  - `retryWrites`: (boolean) Whether supported write operations\n",
      "    executed within this MongoClient will be retried once after a\n",
      "    network error. Defaults to ``True``.\n",
      "    The supported write operations are:\n",
      "\n",
      "      - :meth:`~pymongo.collection.Collection.bulk_write`, as long as\n",
      "        :class:`~pymongo.operations.UpdateMany` or\n",
      "        :class:`~pymongo.operations.DeleteMany` are not included.\n",
      "      - :meth:`~pymongo.collection.Collection.delete_one`\n",
      "      - :meth:`~pymongo.collection.Collection.insert_one`\n",
      "      - :meth:`~pymongo.collection.Collection.insert_many`\n",
      "      - :meth:`~pymongo.collection.Collection.replace_one`\n",
      "      - :meth:`~pymongo.collection.Collection.update_one`\n",
      "      - :meth:`~pymongo.collection.Collection.find_one_and_delete`\n",
      "      - :meth:`~pymongo.collection.Collection.find_one_and_replace`\n",
      "      - :meth:`~pymongo.collection.Collection.find_one_and_update`\n",
      "\n",
      "    Unsupported write operations include, but are not limited to,\n",
      "    :meth:`~pymongo.collection.Collection.aggregate` using the ``$out``\n",
      "    pipeline operator and any operation with an unacknowledged write\n",
      "    concern (e.g. {w: 0})). See\n",
      "    https://github.com/mongodb/specifications/blob/master/source/retryable-writes/retryable-writes.rst\n",
      "  - `retryReads`: (boolean) Whether supported read operations\n",
      "    executed within this MongoClient will be retried once after a\n",
      "    network error. Defaults to ``True``.\n",
      "    The supported read operations are:\n",
      "    :meth:`~pymongo.collection.Collection.find`,\n",
      "    :meth:`~pymongo.collection.Collection.find_one`,\n",
      "    :meth:`~pymongo.collection.Collection.aggregate` without ``$out``,\n",
      "    :meth:`~pymongo.collection.Collection.distinct`,\n",
      "    :meth:`~pymongo.collection.Collection.count`,\n",
      "    :meth:`~pymongo.collection.Collection.estimated_document_count`,\n",
      "    :meth:`~pymongo.collection.Collection.count_documents`,\n",
      "    :meth:`pymongo.collection.Collection.watch`,\n",
      "    :meth:`~pymongo.collection.Collection.list_indexes`,\n",
      "    :meth:`pymongo.database.Database.watch`,\n",
      "    :meth:`~pymongo.database.Database.list_collections`,\n",
      "    :meth:`pymongo.mongo_client.MongoClient.watch`,\n",
      "    and :meth:`~pymongo.mongo_client.MongoClient.list_databases`.\n",
      "\n",
      "    Unsupported read operations include, but are not limited to\n",
      "    :meth:`~pymongo.database.Database.command` and any getMore\n",
      "    operation on a cursor.\n",
      "\n",
      "    Enabling retryable reads makes applications more resilient to\n",
      "    transient errors such as network failures, database upgrades, and\n",
      "    replica set failovers. For an exact definition of which errors\n",
      "    trigger a retry, see the `retryable reads specification\n",
      "    <https://github.com/mongodb/specifications/blob/master/source/retryable-reads/retryable-reads.rst>`_.\n",
      "\n",
      "  - `compressors`: Comma separated list of compressors for wire\n",
      "    protocol compression. The list is used to negotiate a compressor\n",
      "    with the server. Currently supported options are \"snappy\", \"zlib\"\n",
      "    and \"zstd\". Support for snappy requires the\n",
      "    `python-snappy <https://pypi.org/project/python-snappy/>`_ package.\n",
      "    zlib support requires the Python standard library zlib module. zstd\n",
      "    requires the `zstandard <https://pypi.org/project/zstandard/>`_\n",
      "    package. By default no compression is used. Compression support\n",
      "    must also be enabled on the server. MongoDB 3.6+ supports snappy\n",
      "    and zlib compression. MongoDB 4.2+ adds support for zstd.\n",
      "  - `zlibCompressionLevel`: (int) The zlib compression level to use\n",
      "    when zlib is used as the wire protocol compressor. Supported values\n",
      "    are -1 through 9. -1 tells the zlib library to use its default\n",
      "    compression level (usually 6). 0 means no compression. 1 is best\n",
      "    speed. 9 is best compression. Defaults to -1.\n",
      "  - `uuidRepresentation`: The BSON representation to use when encoding\n",
      "    from and decoding to instances of :class:`~uuid.UUID`. Valid\n",
      "    values are the strings: \"standard\", \"pythonLegacy\", \"javaLegacy\",\n",
      "    \"csharpLegacy\", and \"unspecified\" (the default). New applications\n",
      "    should consider setting this to \"standard\" for cross language\n",
      "    compatibility. See :ref:`handling-uuid-data-example` for details.\n",
      "  - `unicode_decode_error_handler`: The error handler to apply when\n",
      "    a Unicode-related error occurs during BSON decoding that would\n",
      "    otherwise raise :exc:`UnicodeDecodeError`. Valid options include\n",
      "    'strict', 'replace', 'backslashreplace', 'surrogateescape', and\n",
      "    'ignore'. Defaults to 'strict'.\n",
      "  - `srvServiceName`: (string) The SRV service name to use for\n",
      "    \"mongodb+srv://\" URIs. Defaults to \"mongodb\". Use it like so::\n",
      "\n",
      "        MongoClient(\"mongodb+srv://example.com/?srvServiceName=customname\")\n",
      "\n",
      "\n",
      "  | **Write Concern options:**\n",
      "  | (Only set if passed. No default values.)\n",
      "\n",
      "  - `w`: (integer or string) If this is a replica set, write operations\n",
      "    will block until they have been replicated to the specified number\n",
      "    or tagged set of servers. `w=<int>` always includes the replica set\n",
      "    primary (e.g. w=3 means write to the primary and wait until\n",
      "    replicated to **two** secondaries). Passing w=0 **disables write\n",
      "    acknowledgement** and all other write concern options.\n",
      "  - `wTimeoutMS`: (integer) Used in conjunction with `w`. Specify a value\n",
      "    in milliseconds to control how long to wait for write propagation\n",
      "    to complete. If replication does not complete in the given\n",
      "    timeframe, a timeout exception is raised. Passing wTimeoutMS=0\n",
      "    will cause **write operations to wait indefinitely**.\n",
      "  - `journal`: If ``True`` block until write operations have been\n",
      "    committed to the journal. Cannot be used in combination with\n",
      "    `fsync`. Write operations will fail with an exception if this\n",
      "    option is used when the server is running without journaling.\n",
      "  - `fsync`: If ``True`` and the server is running without journaling,\n",
      "    blocks until the server has synced all data files to disk. If the\n",
      "    server is running with journaling, this acts the same as the `j`\n",
      "    option, blocking until write operations have been committed to the\n",
      "    journal. Cannot be used in combination with `j`.\n",
      "\n",
      "  | **Replica set keyword arguments for connecting with a replica set\n",
      "    - either directly or via a mongos:**\n",
      "\n",
      "  - `replicaSet`: (string or None) The name of the replica set to\n",
      "    connect to. The driver will verify that all servers it connects to\n",
      "    match this name. Implies that the hosts specified are a seed list\n",
      "    and the driver should attempt to find all members of the set.\n",
      "    Defaults to ``None``.\n",
      "\n",
      "  | **Read Preference:**\n",
      "\n",
      "  - `readPreference`: The replica set read preference for this client.\n",
      "    One of ``primary``, ``primaryPreferred``, ``secondary``,\n",
      "    ``secondaryPreferred``, or ``nearest``. Defaults to ``primary``.\n",
      "  - `readPreferenceTags`: Specifies a tag set as a comma-separated list\n",
      "    of colon-separated key-value pairs. For example ``dc:ny,rack:1``.\n",
      "    Defaults to ``None``.\n",
      "  - `maxStalenessSeconds`: (integer) The maximum estimated\n",
      "    length of time a replica set secondary can fall behind the primary\n",
      "    in replication before it will no longer be selected for operations.\n",
      "    Defaults to ``-1``, meaning no maximum. If maxStalenessSeconds\n",
      "    is set, it must be a positive integer greater than or equal to\n",
      "    90 seconds.\n",
      "\n",
      "  .. seealso:: :doc:`/examples/server_selection`\n",
      "\n",
      "  | **Authentication:**\n",
      "\n",
      "  - `username`: A string.\n",
      "  - `password`: A string.\n",
      "\n",
      "    Although username and password must be percent-escaped in a MongoDB\n",
      "    URI, they must not be percent-escaped when passed as parameters. In\n",
      "    this example, both the space and slash special characters are passed\n",
      "    as-is::\n",
      "\n",
      "      MongoClient(username=\"user name\", password=\"pass/word\")\n",
      "\n",
      "  - `authSource`: The database to authenticate on. Defaults to the\n",
      "    database specified in the URI, if provided, or to \"admin\".\n",
      "  - `authMechanism`: See :data:`~pymongo.auth.MECHANISMS` for options.\n",
      "    If no mechanism is specified, PyMongo automatically SCRAM-SHA-1\n",
      "    when connected to MongoDB 3.6 and negotiates the mechanism to use\n",
      "    (SCRAM-SHA-1 or SCRAM-SHA-256) when connected to MongoDB 4.0+.\n",
      "  - `authMechanismProperties`: Used to specify authentication mechanism\n",
      "    specific options. To specify the service name for GSSAPI\n",
      "    authentication pass authMechanismProperties='SERVICE_NAME:<service\n",
      "    name>'.\n",
      "    To specify the session token for MONGODB-AWS authentication pass\n",
      "    ``authMechanismProperties='AWS_SESSION_TOKEN:<session token>'``.\n",
      "\n",
      "  .. seealso:: :doc:`/examples/authentication`\n",
      "\n",
      "  | **TLS/SSL configuration:**\n",
      "\n",
      "  - `tls`: (boolean) If ``True``, create the connection to the server\n",
      "    using transport layer security. Defaults to ``False``.\n",
      "  - `tlsInsecure`: (boolean) Specify whether TLS constraints should be\n",
      "    relaxed as much as possible. Setting ``tlsInsecure=True`` implies\n",
      "    ``tlsAllowInvalidCertificates=True`` and\n",
      "    ``tlsAllowInvalidHostnames=True``. Defaults to ``False``. Think\n",
      "    very carefully before setting this to ``True`` as it dramatically\n",
      "    reduces the security of TLS.\n",
      "  - `tlsAllowInvalidCertificates`: (boolean) If ``True``, continues\n",
      "    the TLS handshake regardless of the outcome of the certificate\n",
      "    verification process. If this is ``False``, and a value is not\n",
      "    provided for ``tlsCAFile``, PyMongo will attempt to load system\n",
      "    provided CA certificates. If the python version in use does not\n",
      "    support loading system CA certificates then the ``tlsCAFile``\n",
      "    parameter must point to a file of CA certificates.\n",
      "    ``tlsAllowInvalidCertificates=False`` implies ``tls=True``.\n",
      "    Defaults to ``False``. Think very carefully before setting this\n",
      "    to ``True`` as that could make your application vulnerable to\n",
      "    on-path attackers.\n",
      "  - `tlsAllowInvalidHostnames`: (boolean) If ``True``, disables TLS\n",
      "    hostname verification. ``tlsAllowInvalidHostnames=False`` implies\n",
      "    ``tls=True``. Defaults to ``False``. Think very carefully before\n",
      "    setting this to ``True`` as that could make your application\n",
      "    vulnerable to on-path attackers.\n",
      "  - `tlsCAFile`: A file containing a single or a bundle of\n",
      "    \"certification authority\" certificates, which are used to validate\n",
      "    certificates passed from the other end of the connection.\n",
      "    Implies ``tls=True``. Defaults to ``None``.\n",
      "  - `tlsCertificateKeyFile`: A file containing the client certificate\n",
      "    and private key. Implies ``tls=True``. Defaults to ``None``.\n",
      "  - `tlsCRLFile`: A file containing a PEM or DER formatted\n",
      "    certificate revocation list. Only supported by python 2.7.9+\n",
      "    (pypy 2.5.1+). Implies ``tls=True``. Defaults to ``None``.\n",
      "  - `tlsCertificateKeyFilePassword`: The password or passphrase for\n",
      "    decrypting the private key in ``tlsCertificateKeyFile``. Only\n",
      "    necessary if the private key is encrypted. Only supported by\n",
      "    python 2.7.9+ (pypy 2.5.1+) and 3.3+. Defaults to ``None``.\n",
      "  - `tlsDisableOCSPEndpointCheck`: (boolean) If ``True``, disables\n",
      "    certificate revocation status checking via the OCSP responder\n",
      "    specified on the server certificate.\n",
      "    ``tlsDisableOCSPEndpointCheck=False`` implies ``tls=True``.\n",
      "    Defaults to ``False``.\n",
      "  - `ssl`: (boolean) Alias for ``tls``.\n",
      "\n",
      "  | **Read Concern options:**\n",
      "  | (If not set explicitly, this will use the server default)\n",
      "\n",
      "  - `readConcernLevel`: (string) The read concern level specifies the\n",
      "    level of isolation for read operations.  For example, a read\n",
      "    operation using a read concern level of ``majority`` will only\n",
      "    return data that has been written to a majority of nodes. If the\n",
      "    level is left unspecified, the server default will be used.\n",
      "\n",
      "  | **Client side encryption options:**\n",
      "  | (If not set explicitly, client side encryption will not be enabled.)\n",
      "\n",
      "  - `auto_encryption_opts`: A\n",
      "    :class:`~pymongo.encryption_options.AutoEncryptionOpts` which\n",
      "    configures this client to automatically encrypt collection commands\n",
      "    and automatically decrypt results. See\n",
      "    :ref:`automatic-client-side-encryption` for an example.\n",
      "    If a :class:`MongoClient` is configured with\n",
      "    ``auto_encryption_opts`` and a non-None ``maxPoolSize``, a\n",
      "    separate internal ``MongoClient`` is created if any of the\n",
      "    following are true:\n",
      "\n",
      "      - A ``key_vault_client`` is not passed to\n",
      "        :class:`~pymongo.encryption_options.AutoEncryptionOpts`\n",
      "      - ``bypass_auto_encrpytion=False`` is passed to\n",
      "        :class:`~pymongo.encryption_options.AutoEncryptionOpts`\n",
      "\n",
      "  | **Stable API options:**\n",
      "  | (If not set explicitly, Stable API will not be enabled.)\n",
      "\n",
      "  - `server_api`: A\n",
      "    :class:`~pymongo.server_api.ServerApi` which configures this\n",
      "    client to use Stable API. See :ref:`versioned-api-ref` for\n",
      "    details.\n",
      "\n",
      ".. seealso:: The MongoDB documentation on `connections <https://dochub.mongodb.org/core/connections>`_.\n",
      "\n",
      ".. versionchanged:: 4.0\n",
      "\n",
      "     - Removed the fsync, unlock, is_locked, database_names, and\n",
      "       close_cursor methods.\n",
      "       See the :ref:`pymongo4-migration-guide`.\n",
      "     - Removed the ``waitQueueMultiple`` and ``socketKeepAlive``\n",
      "       keyword arguments.\n",
      "     - The default for `uuidRepresentation` was changed from\n",
      "       ``pythonLegacy`` to ``unspecified``.\n",
      "     - Added the ``srvServiceName`` and ``maxConnecting`` URI and\n",
      "       keyword argument.\n",
      "\n",
      ".. versionchanged:: 3.12\n",
      "   Added the ``server_api`` keyword argument.\n",
      "   The following keyword arguments were deprecated:\n",
      "\n",
      "     - ``ssl_certfile`` and ``ssl_keyfile`` were deprecated in favor\n",
      "       of ``tlsCertificateKeyFile``.\n",
      "\n",
      ".. versionchanged:: 3.11\n",
      "   Added the following keyword arguments and URI options:\n",
      "\n",
      "     - ``tlsDisableOCSPEndpointCheck``\n",
      "     - ``directConnection``\n",
      "\n",
      ".. versionchanged:: 3.9\n",
      "   Added the ``retryReads`` keyword argument and URI option.\n",
      "   Added the ``tlsInsecure`` keyword argument and URI option.\n",
      "   The following keyword arguments and URI options were deprecated:\n",
      "\n",
      "     - ``wTimeout`` was deprecated in favor of ``wTimeoutMS``.\n",
      "     - ``j`` was deprecated in favor of ``journal``.\n",
      "     - ``ssl_cert_reqs`` was deprecated in favor of\n",
      "       ``tlsAllowInvalidCertificates``.\n",
      "     - ``ssl_match_hostname`` was deprecated in favor of\n",
      "       ``tlsAllowInvalidHostnames``.\n",
      "     - ``ssl_ca_certs`` was deprecated in favor of ``tlsCAFile``.\n",
      "     - ``ssl_certfile`` was deprecated in favor of\n",
      "       ``tlsCertificateKeyFile``.\n",
      "     - ``ssl_crlfile`` was deprecated in favor of ``tlsCRLFile``.\n",
      "     - ``ssl_pem_passphrase`` was deprecated in favor of\n",
      "       ``tlsCertificateKeyFilePassword``.\n",
      "\n",
      ".. versionchanged:: 3.9\n",
      "   ``retryWrites`` now defaults to ``True``.\n",
      "\n",
      ".. versionchanged:: 3.8\n",
      "   Added the ``server_selector`` keyword argument.\n",
      "   Added the ``type_registry`` keyword argument.\n",
      "\n",
      ".. versionchanged:: 3.7\n",
      "   Added the ``driver`` keyword argument.\n",
      "\n",
      ".. versionchanged:: 3.6\n",
      "   Added support for mongodb+srv:// URIs.\n",
      "   Added the ``retryWrites`` keyword argument and URI option.\n",
      "\n",
      ".. versionchanged:: 3.5\n",
      "   Add ``username`` and ``password`` options. Document the\n",
      "   ``authSource``, ``authMechanism``, and ``authMechanismProperties``\n",
      "   options.\n",
      "   Deprecated the ``socketKeepAlive`` keyword argument and URI option.\n",
      "   ``socketKeepAlive`` now defaults to ``True``.\n",
      "\n",
      ".. versionchanged:: 3.0\n",
      "   :class:`~pymongo.mongo_client.MongoClient` is now the one and only\n",
      "   client class for a standalone server, mongos, or replica set.\n",
      "   It includes the functionality that had been split into\n",
      "   :class:`~pymongo.mongo_client.MongoReplicaSetClient`: it can connect\n",
      "   to a replica set, discover all its members, and monitor the set for\n",
      "   stepdowns, elections, and reconfigs.\n",
      "\n",
      "   The :class:`~pymongo.mongo_client.MongoClient` constructor no\n",
      "   longer blocks while connecting to the server or servers, and it no\n",
      "   longer raises :class:`~pymongo.errors.ConnectionFailure` if they\n",
      "   are unavailable, nor :class:`~pymongo.errors.ConfigurationError`\n",
      "   if the user's credentials are wrong. Instead, the constructor\n",
      "   returns immediately and launches the connection process on\n",
      "   background threads.\n",
      "\n",
      "   Therefore the ``alive`` method is removed since it no longer\n",
      "   provides meaningful information; even if the client is disconnected,\n",
      "   it may discover a server in time to fulfill the next operation.\n",
      "\n",
      "   In PyMongo 2.x, :class:`~pymongo.MongoClient` accepted a list of\n",
      "   standalone MongoDB servers and used the first it could connect to::\n",
      "\n",
      "       MongoClient(['host1.com:27017', 'host2.com:27017'])\n",
      "\n",
      "   A list of multiple standalones is no longer supported; if multiple\n",
      "   servers are listed they must be members of the same replica set, or\n",
      "   mongoses in the same sharded cluster.\n",
      "\n",
      "   The behavior for a list of mongoses is changed from \"high\n",
      "   availability\" to \"load balancing\". Before, the client connected to\n",
      "   the lowest-latency mongos in the list, and used it until a network\n",
      "   error prompted it to re-evaluate all mongoses' latencies and\n",
      "   reconnect to one of them. In PyMongo 3, the client monitors its\n",
      "   network latency to all the mongoses continuously, and distributes\n",
      "   operations evenly among those with the lowest latency. See\n",
      "   :ref:`mongos-load-balancing` for more information.\n",
      "\n",
      "   The ``connect`` option is added.\n",
      "\n",
      "   The ``start_request``, ``in_request``, and ``end_request`` methods\n",
      "   are removed, as well as the ``auto_start_request`` option.\n",
      "\n",
      "   The ``copy_database`` method is removed, see the\n",
      "   :doc:`copy_database examples </examples/copydb>` for alternatives.\n",
      "\n",
      "   The :meth:`MongoClient.disconnect` method is removed; it was a\n",
      "   synonym for :meth:`~pymongo.MongoClient.close`.\n",
      "\n",
      "   :class:`~pymongo.mongo_client.MongoClient` no longer returns an\n",
      "   instance of :class:`~pymongo.database.Database` for attribute names\n",
      "   with leading underscores. You must use dict-style lookups instead::\n",
      "\n",
      "       client['__my_database__']\n",
      "\n",
      "   Not::\n",
      "\n",
      "       client.__my_database__\n",
      "\u001b[1;31mFile:\u001b[0m           c:\\python310\\lib\\site-packages\\pymongo\\mongo_client.py\n",
      "\u001b[1;31mType:\u001b[0m           type\n",
      "\u001b[1;31mSubclasses:\u001b[0m     \n"
     ]
    }
   ],
   "source": [
    "MongoClient?"
   ]
  },
  {
   "cell_type": "code",
   "execution_count": 46,
   "metadata": {},
   "outputs": [
    {
     "data": {
      "text/plain": [
       "MongoClient(host=['localhost:27017'], document_class=dict, tz_aware=False, connect=True)"
      ]
     },
     "execution_count": 46,
     "metadata": {},
     "output_type": "execute_result"
    }
   ],
   "source": [
    "client = MongoClient()\n",
    "client"
   ]
  },
  {
   "cell_type": "code",
   "execution_count": 47,
   "metadata": {},
   "outputs": [
    {
     "data": {
      "text/plain": [
       "Database(MongoClient(host=['localhost:27017'], document_class=dict, tz_aware=False, connect=True), 'company')"
      ]
     },
     "execution_count": 47,
     "metadata": {},
     "output_type": "execute_result"
    }
   ],
   "source": [
    "c = client[\"company\"]\n",
    "c"
   ]
  },
  {
   "cell_type": "code",
   "execution_count": 48,
   "metadata": {},
   "outputs": [
    {
     "data": {
      "text/plain": [
       "Database(MongoClient(host=['localhost:27017'], document_class=dict, tz_aware=False, connect=True), 'books')"
      ]
     },
     "execution_count": 48,
     "metadata": {},
     "output_type": "execute_result"
    }
   ],
   "source": [
    "c1 = client.books\n",
    "c1"
   ]
  },
  {
   "cell_type": "code",
   "execution_count": 51,
   "metadata": {},
   "outputs": [
    {
     "data": {
      "text/plain": [
       "<pymongo.results.InsertOneResult at 0x2032c521780>"
      ]
     },
     "execution_count": 51,
     "metadata": {},
     "output_type": "execute_result"
    }
   ],
   "source": [
    "e = c.employees\n",
    "r = e.insert_one({\"name\": \"Sam\", \"role\": \"Developer\"})\n",
    "r"
   ]
  },
  {
   "cell_type": "code",
   "execution_count": 52,
   "metadata": {},
   "outputs": [
    {
     "data": {
      "text/plain": [
       "ObjectId('67442d50618a9e5a517a70ad')"
      ]
     },
     "execution_count": 52,
     "metadata": {},
     "output_type": "execute_result"
    }
   ],
   "source": [
    "r.inserted_id"
   ]
  },
  {
   "cell_type": "code",
   "execution_count": 54,
   "metadata": {},
   "outputs": [
    {
     "data": {
      "text/plain": [
       "<pymongo.results.InsertManyResult at 0x2032a936560>"
      ]
     },
     "execution_count": 54,
     "metadata": {},
     "output_type": "execute_result"
    }
   ],
   "source": [
    "data = [\n",
    "    {\"name\": \"Guido\", \"role\": \"Chief\"},\n",
    "    {\"name\": \"Tim\", \"role\": \"Maintainer\"},\n",
    "    {\"place\": \"Denver\", \"event\": \"PyCon 2025\"},\n",
    "    {\"city\": \"Bengaluru\", \"event\": \"PyCon 2025\"}\n",
    "]\n",
    "\n",
    "r = e.insert_many(data)\n",
    "r"
   ]
  },
  {
   "cell_type": "code",
   "execution_count": 56,
   "metadata": {},
   "outputs": [
    {
     "data": {
      "text/plain": [
       "{'_id': ObjectId('67442e17618a9e5a517a70ae'), 'name': 'Guido', 'role': 'Chief'}"
      ]
     },
     "execution_count": 56,
     "metadata": {},
     "output_type": "execute_result"
    }
   ],
   "source": [
    "e.find_one({\"name\": \"Guido\"})"
   ]
  },
  {
   "cell_type": "code",
   "execution_count": 57,
   "metadata": {},
   "outputs": [
    {
     "name": "stdout",
     "output_type": "stream",
     "text": [
      "{'_id': ObjectId('67442e17618a9e5a517a70b0'), 'place': 'Denver', 'event': 'PyCon 2025'}\n",
      "{'_id': ObjectId('67442e17618a9e5a517a70b1'), 'city': 'Bengaluru', 'event': 'PyCon 2025'}\n"
     ]
    }
   ],
   "source": [
    "for doc in e.find({\"event\": \"PyCon 2025\"}):\n",
    "    print(doc)\n"
   ]
  },
  {
   "cell_type": "code",
   "execution_count": 58,
   "metadata": {},
   "outputs": [
    {
     "name": "stdout",
     "output_type": "stream",
     "text": [
      "Collecting fastapi\n",
      "  Downloading fastapi-0.115.5-py3-none-any.whl.metadata (27 kB)\n",
      "Collecting starlette<0.42.0,>=0.40.0 (from fastapi)\n",
      "  Downloading starlette-0.41.3-py3-none-any.whl.metadata (6.0 kB)\n",
      "Collecting pydantic!=1.8,!=1.8.1,!=2.0.0,!=2.0.1,!=2.1.0,<3.0.0,>=1.7.4 (from fastapi)\n",
      "  Downloading pydantic-2.10.1-py3-none-any.whl.metadata (169 kB)\n",
      "Collecting typing-extensions>=4.8.0 (from fastapi)\n",
      "  Using cached typing_extensions-4.12.2-py3-none-any.whl.metadata (3.0 kB)\n",
      "Collecting annotated-types>=0.6.0 (from pydantic!=1.8,!=1.8.1,!=2.0.0,!=2.0.1,!=2.1.0,<3.0.0,>=1.7.4->fastapi)\n",
      "  Downloading annotated_types-0.7.0-py3-none-any.whl.metadata (15 kB)\n",
      "Collecting pydantic-core==2.27.1 (from pydantic!=1.8,!=1.8.1,!=2.0.0,!=2.0.1,!=2.1.0,<3.0.0,>=1.7.4->fastapi)\n",
      "  Downloading pydantic_core-2.27.1-cp310-none-win_amd64.whl.metadata (6.7 kB)\n",
      "Requirement already satisfied: anyio<5,>=3.4.0 in c:\\python310\\lib\\site-packages (from starlette<0.42.0,>=0.40.0->fastapi) (4.6.2.post1)\n",
      "Requirement already satisfied: idna>=2.8 in c:\\python310\\lib\\site-packages (from anyio<5,>=3.4.0->starlette<0.42.0,>=0.40.0->fastapi) (3.3)\n",
      "Requirement already satisfied: sniffio>=1.1 in c:\\python310\\lib\\site-packages (from anyio<5,>=3.4.0->starlette<0.42.0,>=0.40.0->fastapi) (1.2.0)\n",
      "Requirement already satisfied: exceptiongroup>=1.0.2 in c:\\python310\\lib\\site-packages (from anyio<5,>=3.4.0->starlette<0.42.0,>=0.40.0->fastapi) (1.2.2)\n",
      "Downloading fastapi-0.115.5-py3-none-any.whl (94 kB)\n",
      "Downloading pydantic-2.10.1-py3-none-any.whl (455 kB)\n",
      "Downloading pydantic_core-2.27.1-cp310-none-win_amd64.whl (2.0 MB)\n",
      "   ---------------------------------------- 2.0/2.0 MB 4.1 MB/s eta 0:00:00\n",
      "Downloading starlette-0.41.3-py3-none-any.whl (73 kB)\n",
      "Using cached typing_extensions-4.12.2-py3-none-any.whl (37 kB)\n",
      "Downloading annotated_types-0.7.0-py3-none-any.whl (13 kB)\n",
      "Installing collected packages: typing-extensions, annotated-types, pydantic-core, starlette, pydantic, fastapi\n",
      "  Attempting uninstall: typing-extensions\n",
      "    Found existing installation: typing_extensions 4.2.0\n",
      "    Uninstalling typing_extensions-4.2.0:\n",
      "      Successfully uninstalled typing_extensions-4.2.0\n",
      "Successfully installed annotated-types-0.7.0 fastapi-0.115.5 pydantic-2.10.1 pydantic-core-2.27.1 starlette-0.41.3 typing-extensions-4.12.2\n",
      "Note: you may need to restart the kernel to use updated packages.\n"
     ]
    }
   ],
   "source": [
    "pip install fastapi"
   ]
  },
  {
   "cell_type": "code",
   "execution_count": 59,
   "metadata": {},
   "outputs": [
    {
     "name": "stdout",
     "output_type": "stream",
     "text": [
      "Collecting uvicorn\n",
      "  Downloading uvicorn-0.32.1-py3-none-any.whl.metadata (6.6 kB)\n",
      "Requirement already satisfied: click>=7.0 in c:\\python310\\lib\\site-packages (from uvicorn) (8.0.3)\n",
      "Requirement already satisfied: h11>=0.8 in c:\\python310\\lib\\site-packages (from uvicorn) (0.13.0)\n",
      "Requirement already satisfied: typing-extensions>=4.0 in c:\\python310\\lib\\site-packages (from uvicorn) (4.12.2)\n",
      "Requirement already satisfied: colorama in c:\\python310\\lib\\site-packages (from click>=7.0->uvicorn) (0.4.4)\n",
      "Downloading uvicorn-0.32.1-py3-none-any.whl (63 kB)\n",
      "Installing collected packages: uvicorn\n",
      "Successfully installed uvicorn-0.32.1\n",
      "Note: you may need to restart the kernel to use updated packages.\n"
     ]
    }
   ],
   "source": [
    "pip install uvicorn"
   ]
  },
  {
   "cell_type": "code",
   "execution_count": 68,
   "metadata": {},
   "outputs": [
    {
     "data": {
      "text/plain": [
       "[{'id': '1234', 'name': 'john', 'password': 'john123', 'fullname': 'John Doe'}]"
      ]
     },
     "execution_count": 68,
     "metadata": {},
     "output_type": "execute_result"
    }
   ],
   "source": [
    "import httpx\n",
    "\n",
    "ep = \"http://localhost:8000/users\"\n",
    "res = httpx.get(ep)\n",
    "res.json()"
   ]
  },
  {
   "cell_type": "code",
   "execution_count": 66,
   "metadata": {},
   "outputs": [
    {
     "data": {
      "text/plain": [
       "<Response [200 OK]>"
      ]
     },
     "execution_count": 66,
     "metadata": {},
     "output_type": "execute_result"
    }
   ],
   "source": [
    "res = httpx.post(ep, json={\n",
    "      \"name\": \"john\", \n",
    "      \"password\": \"john123\", \n",
    "      \"fullname\": \"John Doe\",\n",
    "      \"id\": \"1234\"})\n",
    "res"
   ]
  },
  {
   "cell_type": "code",
   "execution_count": 67,
   "metadata": {},
   "outputs": [],
   "source": [
    "res.json()"
   ]
  },
  {
   "cell_type": "code",
   "execution_count": 72,
   "metadata": {},
   "outputs": [
    {
     "data": {
      "text/plain": [
       "<Response [405 Method Not Allowed]>"
      ]
     },
     "execution_count": 72,
     "metadata": {},
     "output_type": "execute_result"
    }
   ],
   "source": [
    "res = httpx.patch(ep, params={\"name\": \"john\"}, json={\n",
    "    \"fullname\": \"abcd\", \n",
    "    \"name\": \"john\",\n",
    "    \"password\": \"welcome\",\n",
    "    \"id\": \"1234\"})\n",
    "res"
   ]
  },
  {
   "cell_type": "code",
   "execution_count": 70,
   "metadata": {},
   "outputs": [
    {
     "data": {
      "text/plain": [
       "<Response [405 Method Not Allowed]>"
      ]
     },
     "execution_count": 70,
     "metadata": {},
     "output_type": "execute_result"
    }
   ],
   "source": [
    "res"
   ]
  }
 ],
 "metadata": {
  "kernelspec": {
   "display_name": "Python 3",
   "language": "python",
   "name": "python3"
  },
  "language_info": {
   "codemirror_mode": {
    "name": "ipython",
    "version": 3
   },
   "file_extension": ".py",
   "mimetype": "text/x-python",
   "name": "python",
   "nbconvert_exporter": "python",
   "pygments_lexer": "ipython3",
   "version": "3.10.2"
  }
 },
 "nbformat": 4,
 "nbformat_minor": 2
}
