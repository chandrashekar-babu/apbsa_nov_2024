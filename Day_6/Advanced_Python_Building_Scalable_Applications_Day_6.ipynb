{
 "cells": [
  {
   "cell_type": "markdown",
   "metadata": {},
   "source": [
    "# Advanced Python: Building Scalable Applications\n",
    "\n",
    "### Day 6: Data Persistence, Web APIs and Profiling Code\n"
   ]
  },
  {
   "cell_type": "code",
   "execution_count": 3,
   "metadata": {},
   "outputs": [],
   "source": [
    "import pickle\n",
    "a = 10\n",
    "b = [11, 22, 33, 4]\n",
    "c = {\"x\": 100, \"y\": 200, \"z\": (34, 54, 56)}\n",
    "\n",
    "with open(\"pickled.dat\", \"wb\") as outs:\n",
    "    pickle.dump(a, outs)\n",
    "    pickle.dump(b, outs)\n",
    "    pickle.dump(c, outs)"
   ]
  },
  {
   "cell_type": "code",
   "execution_count": 4,
   "metadata": {},
   "outputs": [
    {
     "data": {
      "text/plain": [
       "<_io.BufferedReader name='pickled.dat'>"
      ]
     },
     "execution_count": 4,
     "metadata": {},
     "output_type": "execute_result"
    }
   ],
   "source": [
    "ins = open(\"pickled.dat\", \"rb\")\n",
    "ins"
   ]
  },
  {
   "cell_type": "code",
   "execution_count": 7,
   "metadata": {},
   "outputs": [
    {
     "data": {
      "text/plain": [
       "{'x': 100, 'y': 200, 'z': (34, 54, 56)}"
      ]
     },
     "execution_count": 7,
     "metadata": {},
     "output_type": "execute_result"
    }
   ],
   "source": [
    "pickle.load(ins)"
   ]
  },
  {
   "cell_type": "code",
   "execution_count": 8,
   "metadata": {},
   "outputs": [],
   "source": [
    "ins.close()"
   ]
  },
  {
   "cell_type": "code",
   "execution_count": 22,
   "metadata": {},
   "outputs": [
    {
     "data": {
      "text/plain": [
       "<shelve.DbfilenameShelf at 0x20230561300>"
      ]
     },
     "execution_count": 22,
     "metadata": {},
     "output_type": "execute_result"
    }
   ],
   "source": [
    "import shelve\n",
    "# shelve module implements a \"persistent\" dictionary\n",
    "\n",
    "d = shelve.open(\"shelved_data\")\n",
    "d"
   ]
  },
  {
   "cell_type": "code",
   "execution_count": 11,
   "metadata": {},
   "outputs": [],
   "source": [
    "d[\"name\"] = \"Guido\""
   ]
  },
  {
   "cell_type": "code",
   "execution_count": 12,
   "metadata": {},
   "outputs": [],
   "source": [
    "d[\"role\"] = \"Founder\""
   ]
  },
  {
   "cell_type": "code",
   "execution_count": 13,
   "metadata": {},
   "outputs": [
    {
     "data": {
      "text/plain": [
       "<shelve.DbfilenameShelf at 0x2022ee0f2e0>"
      ]
     },
     "execution_count": 13,
     "metadata": {},
     "output_type": "execute_result"
    }
   ],
   "source": [
    "d[\"place\"] = \"San Francisco\"\n",
    "d"
   ]
  },
  {
   "cell_type": "code",
   "execution_count": 15,
   "metadata": {},
   "outputs": [
    {
     "data": {
      "text/plain": [
       "('San Francisco', 'Founder')"
      ]
     },
     "execution_count": 15,
     "metadata": {},
     "output_type": "execute_result"
    }
   ],
   "source": [
    "d[\"place\"], d[\"role\"]"
   ]
  },
  {
   "cell_type": "code",
   "execution_count": 16,
   "metadata": {},
   "outputs": [
    {
     "data": {
      "text/plain": [
       "True"
      ]
     },
     "execution_count": 16,
     "metadata": {},
     "output_type": "execute_result"
    }
   ],
   "source": [
    "\"name\" in d"
   ]
  },
  {
   "cell_type": "code",
   "execution_count": 17,
   "metadata": {},
   "outputs": [
    {
     "name": "stdout",
     "output_type": "stream",
     "text": [
      "name Guido\n",
      "role Founder\n",
      "place San Francisco\n"
     ]
    }
   ],
   "source": [
    "for k, v in d.items():\n",
    "    print(k, v)"
   ]
  },
  {
   "cell_type": "code",
   "execution_count": 18,
   "metadata": {},
   "outputs": [],
   "source": [
    "d.close()"
   ]
  },
  {
   "cell_type": "code",
   "execution_count": 23,
   "metadata": {},
   "outputs": [
    {
     "data": {
      "text/plain": [
       "'Raymond'"
      ]
     },
     "execution_count": 23,
     "metadata": {},
     "output_type": "execute_result"
    }
   ],
   "source": [
    "d[\"name\"]"
   ]
  },
  {
   "cell_type": "code",
   "execution_count": 37,
   "metadata": {},
   "outputs": [
    {
     "data": {
      "text/plain": [
       "2292473209843970632"
      ]
     },
     "execution_count": 37,
     "metadata": {},
     "output_type": "execute_result"
    }
   ],
   "source": [
    "a = 1000_000_000_000_000_000_000_000_100\n",
    "hash(a)"
   ]
  },
  {
   "cell_type": "code",
   "execution_count": 39,
   "metadata": {},
   "outputs": [
    {
     "name": "stdout",
     "output_type": "stream",
     "text": [
      "2208434057200 2208434057200\n"
     ]
    }
   ],
   "source": [
    "a = \"Hello_world\"\n",
    "b = \"Hello_world\"\n",
    "print(id(a), id(b))"
   ]
  },
  {
   "cell_type": "code",
   "execution_count": 26,
   "metadata": {},
   "outputs": [
    {
     "name": "stdout",
     "output_type": "stream",
     "text": [
      "2208433088640 2208432439040\n",
      "-571275007076476873 -571275007076476873\n"
     ]
    }
   ],
   "source": [
    "a = \"this is a test string\"\n",
    "b = \"this is a test string\"\n",
    "print(id(a), id(b))\n",
    "a == b\n",
    "print(hash(a), hash(b))"
   ]
  },
  {
   "cell_type": "code",
   "execution_count": null,
   "metadata": {},
   "outputs": [],
   "source": [
    "# In regular dictionaries - keys must be hashable object\n",
    "# However, a shelve object expects a key to be a \"str\" object\n"
   ]
  },
  {
   "cell_type": "code",
   "execution_count": 65,
   "metadata": {},
   "outputs": [
    {
     "data": {
      "text/plain": [
       "25"
      ]
     },
     "execution_count": 65,
     "metadata": {},
     "output_type": "execute_result"
    }
   ],
   "source": [
    "d = { str(v): v*v for v in range(100) }\n",
    "d[\"5\"]"
   ]
  },
  {
   "cell_type": "code",
   "execution_count": 66,
   "metadata": {},
   "outputs": [
    {
     "data": {
      "text/plain": [
       "4696"
      ]
     },
     "execution_count": 66,
     "metadata": {},
     "output_type": "execute_result"
    }
   ],
   "source": [
    "import sys\n",
    "sys.getsizeof(d)"
   ]
  },
  {
   "cell_type": "code",
   "execution_count": 67,
   "metadata": {},
   "outputs": [],
   "source": [
    "import shelve\n",
    "with shelve.open(\"squares\") as s:\n",
    "    s.update(d)"
   ]
  },
  {
   "cell_type": "code",
   "execution_count": 50,
   "metadata": {},
   "outputs": [
    {
     "name": "stdout",
     "output_type": "stream",
     "text": [
      "64\n",
      "232\n",
      "232\n",
      "{}\n",
      "232\n"
     ]
    }
   ],
   "source": [
    "d = {}\n",
    "print(sys.getsizeof(d))\n",
    "d[\"name\"] = \"john\"\n",
    "d[\"role\"] = \"admin\"\n",
    "d[\"place\"] = \"bengaluru\"\n",
    "print(sys.getsizeof(d))\n",
    "del d[\"role\"]\n",
    "del d[\"place\"]\n",
    "print(sys.getsizeof(d))\n",
    "del d[\"name\"]\n",
    "print(d)\n",
    "print(sys.getsizeof(d))\n",
    "\n",
    "\n"
   ]
  },
  {
   "cell_type": "code",
   "execution_count": 71,
   "metadata": {},
   "outputs": [
    {
     "name": "stdout",
     "output_type": "stream",
     "text": [
      "48\n",
      "2500\n",
      "48\n"
     ]
    }
   ],
   "source": [
    "import shelve\n",
    "\n",
    "s = shelve.open(\"squares\")\n",
    "print(sys.getsizeof(s))\n",
    "print(s[\"50\"])\n",
    "print(sys.getsizeof(s))\n"
   ]
  },
  {
   "cell_type": "markdown",
   "metadata": {},
   "source": [
    "#### Working with redis"
   ]
  },
  {
   "cell_type": "code",
   "execution_count": 72,
   "metadata": {},
   "outputs": [
    {
     "name": "stdout",
     "output_type": "stream",
     "text": [
      "Requirement already satisfied: redis in c:\\python310\\lib\\site-packages (4.2.2)\n",
      "Requirement already satisfied: deprecated>=1.2.3 in c:\\python310\\lib\\site-packages (from redis) (1.2.13)\n",
      "Requirement already satisfied: packaging>=20.4 in c:\\python310\\lib\\site-packages (from redis) (20.9)\n",
      "Requirement already satisfied: async-timeout>=4.0.2 in c:\\python310\\lib\\site-packages (from redis) (4.0.2)\n",
      "Requirement already satisfied: wrapt<2,>=1.10 in c:\\python310\\lib\\site-packages (from deprecated>=1.2.3->redis) (1.14.0)\n",
      "Requirement already satisfied: pyparsing>=2.0.2 in c:\\python310\\lib\\site-packages (from packaging>=20.4->redis) (3.0.8)\n",
      "Note: you may need to restart the kernel to use updated packages.\n"
     ]
    }
   ],
   "source": [
    "pip install redis"
   ]
  },
  {
   "cell_type": "code",
   "execution_count": 73,
   "metadata": {},
   "outputs": [
    {
     "data": {
      "text/plain": [
       "ConnectionPool<Connection<host=localhost,port=6379,db=0>>"
      ]
     },
     "execution_count": 73,
     "metadata": {},
     "output_type": "execute_result"
    }
   ],
   "source": [
    "import redis\n",
    "\n",
    "conn = redis.ConnectionPool(host=\"localhost\", port=6379, db=0)\n",
    "conn"
   ]
  },
  {
   "cell_type": "code",
   "execution_count": 74,
   "metadata": {},
   "outputs": [
    {
     "data": {
      "text/plain": [
       "Redis<ConnectionPool<Connection<host=localhost,port=6379,db=0>>>"
      ]
     },
     "execution_count": 74,
     "metadata": {},
     "output_type": "execute_result"
    }
   ],
   "source": [
    "d = redis.Redis(connection_pool=conn)\n",
    "d"
   ]
  },
  {
   "cell_type": "code",
   "execution_count": 75,
   "metadata": {},
   "outputs": [],
   "source": [
    "d[\"name\"] = \"John\""
   ]
  },
  {
   "cell_type": "code",
   "execution_count": 76,
   "metadata": {},
   "outputs": [
    {
     "data": {
      "text/plain": [
       "b'Emily'"
      ]
     },
     "execution_count": 76,
     "metadata": {},
     "output_type": "execute_result"
    }
   ],
   "source": [
    "d[\"name\"]"
   ]
  },
  {
   "cell_type": "code",
   "execution_count": 77,
   "metadata": {},
   "outputs": [
    {
     "name": "stdout",
     "output_type": "stream",
     "text": [
      "['RESPONSE_CALLBACKS', '__abstractmethods__', '__annotations__', '__class__', '__class_getitem__', '__contains__', '__del__', '__delattr__', '__delitem__', '__dict__', '__dir__', '__doc__', '__enter__', '__eq__', '__exit__', '__format__', '__ge__', '__getattribute__', '__getitem__', '__gt__', '__hash__', '__init__', '__init_subclass__', '__le__', '__lt__', '__module__', '__ne__', '__new__', '__parameters__', '__reduce__', '__reduce_ex__', '__repr__', '__setattr__', '__setitem__', '__sizeof__', '__slots__', '__str__', '__subclasshook__', '__weakref__', '_abc_impl', '_disconnect_raise', '_eval', '_evalsha', '_fcall', '_georadiusgeneric', '_geosearchgeneric', '_is_protocol', '_is_runtime_protocol', '_send_command_parse_response', '_zaggregate', '_zrange', 'acl_cat', 'acl_deluser', 'acl_dryrun', 'acl_genpass', 'acl_getuser', 'acl_help', 'acl_list', 'acl_load', 'acl_log', 'acl_log_reset', 'acl_save', 'acl_setuser', 'acl_users', 'acl_whoami', 'append', 'auth', 'bf', 'bgrewriteaof', 'bgsave', 'bitcount', 'bitfield', 'bitop', 'bitpos', 'blmove', 'blmpop', 'blpop', 'brpop', 'brpoplpush', 'bzmpop', 'bzpopmax', 'bzpopmin', 'cf', 'client', 'client_getname', 'client_getredir', 'client_id', 'client_info', 'client_kill', 'client_kill_filter', 'client_list', 'client_no_evict', 'client_pause', 'client_reply', 'client_setname', 'client_tracking', 'client_tracking_off', 'client_tracking_on', 'client_trackinginfo', 'client_unblock', 'client_unpause', 'close', 'cluster', 'cms', 'command', 'command_count', 'command_docs', 'command_getkeys', 'command_info', 'config_get', 'config_resetstat', 'config_rewrite', 'config_set', 'connection', 'connection_pool', 'copy', 'dbsize', 'debug_object', 'debug_segfault', 'decr', 'decrby', 'delete', 'dump', 'echo', 'eval', 'eval_ro', 'evalsha', 'evalsha_ro', 'execute_command', 'exists', 'expire', 'expireat', 'expiretime', 'failover', 'fcall', 'fcall_ro', 'flushall', 'flushdb', 'from_url', 'ft', 'function_delete', 'function_dump', 'function_flush', 'function_kill', 'function_list', 'function_load', 'function_restore', 'function_stats', 'geoadd', 'geodist', 'geohash', 'geopos', 'georadius', 'georadiusbymember', 'geosearch', 'geosearchstore', 'get', 'get_connection_kwargs', 'get_encoder', 'getbit', 'getdel', 'getex', 'getrange', 'getset', 'graph', 'hdel', 'hello', 'hexists', 'hget', 'hgetall', 'hincrby', 'hincrbyfloat', 'hkeys', 'hlen', 'hmget', 'hmset', 'hrandfield', 'hscan', 'hscan_iter', 'hset', 'hsetnx', 'hstrlen', 'hvals', 'incr', 'incrby', 'incrbyfloat', 'info', 'json', 'keys', 'lastsave', 'lcs', 'lindex', 'linsert', 'llen', 'lmove', 'lmpop', 'load_external_module', 'lock', 'lolwut', 'lpop', 'lpos', 'lpush', 'lpushx', 'lrange', 'lrem', 'lset', 'ltrim', 'memory_doctor', 'memory_help', 'memory_malloc_stats', 'memory_purge', 'memory_stats', 'memory_usage', 'mget', 'migrate', 'module_list', 'module_load', 'module_unload', 'monitor', 'move', 'mset', 'msetnx', 'object', 'parse_response', 'persist', 'pexpire', 'pexpireat', 'pexpiretime', 'pfadd', 'pfcount', 'pfmerge', 'ping', 'pipeline', 'psetex', 'psync', 'pttl', 'publish', 'pubsub', 'pubsub_channels', 'pubsub_numpat', 'pubsub_numsub', 'quit', 'randomkey', 'readonly', 'readwrite', 'register_script', 'rename', 'renamenx', 'replicaof', 'reset', 'response_callbacks', 'restore', 'role', 'rpop', 'rpoplpush', 'rpush', 'rpushx', 'sadd', 'save', 'scan', 'scan_iter', 'scard', 'script_debug', 'script_exists', 'script_flush', 'script_kill', 'script_load', 'sdiff', 'sdiffstore', 'select', 'sentinel', 'sentinel_ckquorum', 'sentinel_failover', 'sentinel_flushconfig', 'sentinel_get_master_addr_by_name', 'sentinel_master', 'sentinel_masters', 'sentinel_monitor', 'sentinel_remove', 'sentinel_reset', 'sentinel_sentinels', 'sentinel_set', 'sentinel_slaves', 'set', 'set_response_callback', 'setbit', 'setex', 'setnx', 'setrange', 'shutdown', 'sinter', 'sintercard', 'sinterstore', 'sismember', 'slaveof', 'slowlog_get', 'slowlog_len', 'slowlog_reset', 'smembers', 'smismember', 'smove', 'sort', 'sort_ro', 'spop', 'srandmember', 'srem', 'sscan', 'sscan_iter', 'stralgo', 'strlen', 'substr', 'sunion', 'sunionstore', 'swapdb', 'sync', 'tdigest', 'time', 'topk', 'touch', 'transaction', 'ts', 'ttl', 'type', 'unlink', 'unwatch', 'wait', 'watch', 'xack', 'xadd', 'xautoclaim', 'xclaim', 'xdel', 'xgroup_create', 'xgroup_createconsumer', 'xgroup_delconsumer', 'xgroup_destroy', 'xgroup_setid', 'xinfo_consumers', 'xinfo_groups', 'xinfo_stream', 'xlen', 'xpending', 'xpending_range', 'xrange', 'xread', 'xreadgroup', 'xrevrange', 'xtrim', 'zadd', 'zcard', 'zcount', 'zdiff', 'zdiffstore', 'zincrby', 'zinter', 'zintercard', 'zinterstore', 'zlexcount', 'zmpop', 'zmscore', 'zpopmax', 'zpopmin', 'zrandmember', 'zrange', 'zrangebylex', 'zrangebyscore', 'zrangestore', 'zrank', 'zrem', 'zremrangebylex', 'zremrangebyrank', 'zremrangebyscore', 'zrevrange', 'zrevrangebylex', 'zrevrangebyscore', 'zrevrank', 'zscan', 'zscan_iter', 'zscore', 'zunion', 'zunionstore']\n"
     ]
    }
   ],
   "source": [
    "print(dir(d))"
   ]
  },
  {
   "cell_type": "code",
   "execution_count": 80,
   "metadata": {},
   "outputs": [
    {
     "data": {
      "text/plain": [
       "True"
      ]
     },
     "execution_count": 80,
     "metadata": {},
     "output_type": "execute_result"
    }
   ],
   "source": [
    "\"role\" in d"
   ]
  },
  {
   "cell_type": "code",
   "execution_count": 82,
   "metadata": {},
   "outputs": [],
   "source": [
    "d[\"place\"] = \"Noida\""
   ]
  },
  {
   "cell_type": "code",
   "execution_count": 83,
   "metadata": {},
   "outputs": [
    {
     "data": {
      "text/plain": [
       "b'Noida'"
      ]
     },
     "execution_count": 83,
     "metadata": {},
     "output_type": "execute_result"
    }
   ],
   "source": [
    "d[\"place\"]"
   ]
  },
  {
   "cell_type": "code",
   "execution_count": 86,
   "metadata": {},
   "outputs": [
    {
     "data": {
      "text/plain": [
       "True"
      ]
     },
     "execution_count": 86,
     "metadata": {},
     "output_type": "execute_result"
    }
   ],
   "source": [
    "d.expire(\"place\", 20)"
   ]
  },
  {
   "cell_type": "code",
   "execution_count": 89,
   "metadata": {},
   "outputs": [
    {
     "ename": "KeyError",
     "evalue": "'place'",
     "output_type": "error",
     "traceback": [
      "\u001b[1;31m---------------------------------------------------------------------------\u001b[0m",
      "\u001b[1;31mKeyError\u001b[0m                                  Traceback (most recent call last)",
      "Input \u001b[1;32mIn [89]\u001b[0m, in \u001b[0;36m<module>\u001b[1;34m\u001b[0m\n\u001b[1;32m----> 1\u001b[0m \u001b[43md\u001b[49m\u001b[43m[\u001b[49m\u001b[38;5;124;43m\"\u001b[39;49m\u001b[38;5;124;43mplace\u001b[39;49m\u001b[38;5;124;43m\"\u001b[39;49m\u001b[43m]\u001b[49m\n",
      "File \u001b[1;32mc:\\Python310\\lib\\site-packages\\redis\\commands\\core.py:1688\u001b[0m, in \u001b[0;36mBasicKeyCommands.__getitem__\u001b[1;34m(self, name)\u001b[0m\n\u001b[0;32m   1686\u001b[0m \u001b[38;5;28;01mif\u001b[39;00m value \u001b[38;5;129;01mis\u001b[39;00m \u001b[38;5;129;01mnot\u001b[39;00m \u001b[38;5;28;01mNone\u001b[39;00m:\n\u001b[0;32m   1687\u001b[0m     \u001b[38;5;28;01mreturn\u001b[39;00m value\n\u001b[1;32m-> 1688\u001b[0m \u001b[38;5;28;01mraise\u001b[39;00m \u001b[38;5;167;01mKeyError\u001b[39;00m(name)\n",
      "\u001b[1;31mKeyError\u001b[0m: 'place'"
     ]
    }
   ],
   "source": [
    "d[\"place\"]"
   ]
  },
  {
   "cell_type": "code",
   "execution_count": 1,
   "metadata": {},
   "outputs": [
    {
     "name": "stdout",
     "output_type": "stream",
     "text": [
      "Redis<ConnectionPool<Connection<host=localhost,port=6379,db=0>>>\n",
      "<redis.client.PubSub object at 0x000001CC54488D60>\n"
     ]
    }
   ],
   "source": [
    "# Redis simple publish-subscribe example\n",
    "from redis import Redis\n",
    "r = Redis() # connects to 'localhost:6379' and uses db=0\n",
    "print(r)\n",
    "ps = r.pubsub()\n",
    "ps\n",
    "print(ps)"
   ]
  },
  {
   "cell_type": "code",
   "execution_count": 94,
   "metadata": {},
   "outputs": [],
   "source": [
    "def simple_subscriber(*args, **kwargs):\n",
    "    print(f\"*** got message: {args=}, {kwargs=}\")\n",
    "\n",
    "ps.subscribe(test_event=simple_subscriber)\n"
   ]
  },
  {
   "cell_type": "code",
   "execution_count": 3,
   "metadata": {},
   "outputs": [],
   "source": [
    "def simple_subscriber(info):\n",
    "    print(f\"*** got message on channel {info['channel']}, message {info['data']}\")\n",
    "    for k, v in info.items():\n",
    "        print(f\"    {k} => {v}\")\n",
    "\n",
    "\n",
    "ps.subscribe(test_event=simple_subscriber)\n"
   ]
  },
  {
   "cell_type": "code",
   "execution_count": null,
   "metadata": {},
   "outputs": [
    {
     "name": "stdout",
     "output_type": "stream",
     "text": [
      "{'type': 'subscribe', 'pattern': None, 'channel': b'test_event', 'data': 1}\n",
      "*** got message on channel b'test_event', message b'this is a test message'\n",
      "    type => message\n",
      "    pattern => None\n",
      "    channel => b'test_event'\n",
      "    data => b'this is a test message'\n"
     ]
    }
   ],
   "source": [
    "for m in ps.listen():\n",
    "    print(m)"
   ]
  }
 ],
 "metadata": {
  "kernelspec": {
   "display_name": "Python 3",
   "language": "python",
   "name": "python3"
  },
  "language_info": {
   "codemirror_mode": {
    "name": "ipython",
    "version": 3
   },
   "file_extension": ".py",
   "mimetype": "text/x-python",
   "name": "python",
   "nbconvert_exporter": "python",
   "pygments_lexer": "ipython3",
   "version": "3.10.2"
  }
 },
 "nbformat": 4,
 "nbformat_minor": 2
}
