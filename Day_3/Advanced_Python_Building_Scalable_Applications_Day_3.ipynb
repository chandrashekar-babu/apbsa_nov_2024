{
 "cells": [
  {
   "cell_type": "markdown",
   "metadata": {},
   "source": [
    "# Advanced Python: Building Scalable Applications\n",
    "\n",
    "### Day 3: Synchronization mechanisms\n",
    "\n",
    "- Thread / Process synchronization mechanisms\n",
    "   - Mutual exclusion patterns using Lock and RLock.\n",
    "   - Wait/notify patterns using Condition and Event.\n",
    "   - Synchronizing flow-control using Barrier.\n",
    "   - Bandwidth management/control using Semaphore and BoundedSemaphore.\n",
    "   - Implementing Producer/Consumer patterns using Queue.\n",
    "   - Creating thread-local objects using threading.local().\n",
    "- Sharing/Exchanging data between processes\n",
    "   - Streaming data using Pipe and Queue\n",
    "   - Sharing counters and buffers using Value and Array\n",
    "   - Sharing python lists and dictionaries using Manager\n",
    "   - Creating and managing shared memory using multiprocessing.shared_memory features"
   ]
  },
  {
   "cell_type": "markdown",
   "metadata": {},
   "source": [
    "### Mutual Exclusion using Lock and RLock\n",
    "\n",
    "```\n",
    "from threading import Lock\n",
    "\n",
    "lock = Lock()\n",
    "\n",
    "with lock:\n",
    "    critical_section()\n",
    "\n",
    "lock.acquire() / lock.release()\n",
    "\n",
    "```"
   ]
  },
  {
   "cell_type": "markdown",
   "metadata": {},
   "source": [
    "### Event\n",
    "\n",
    "```\n",
    "from threading import Event\n",
    "e = Event()\n",
    "\n",
    "e.set()\n",
    "e.clear()\n",
    "e.is_set()\n",
    "\n",
    "e.wait()\n",
    "```\n"
   ]
  },
  {
   "cell_type": "code",
   "execution_count": 4,
   "metadata": {},
   "outputs": [],
   "source": [
    "from threading import Thread, Event\n",
    "from time import sleep\n",
    "\n",
    "ev = Event()\n",
    "\n",
    "def testfn():\n",
    "    print(\"Start of testfn: waiting for event...\")\n",
    "    ev.wait()\n",
    "    print(\"Got event, continuing...\")"
   ]
  },
  {
   "cell_type": "code",
   "execution_count": null,
   "metadata": {},
   "outputs": [],
   "source": [
    "\n",
    "t = Thread(target=testfn)\n",
    "t.start()\n"
   ]
  },
  {
   "cell_type": "code",
   "execution_count": 2,
   "metadata": {},
   "outputs": [
    {
     "name": "stdout",
     "output_type": "stream",
     "text": [
      "Got event, continuing...\n"
     ]
    }
   ],
   "source": [
    "ev.set()"
   ]
  },
  {
   "cell_type": "code",
   "execution_count": 3,
   "metadata": {},
   "outputs": [],
   "source": [
    "t.join()"
   ]
  },
  {
   "cell_type": "code",
   "execution_count": 5,
   "metadata": {},
   "outputs": [
    {
     "name": "stdout",
     "output_type": "stream",
     "text": [
      "Start of testfn: waiting for event...\n",
      "Start of testfn: waiting for event...\n",
      "Start of testfn: waiting for event...\n",
      "Start of testfn: waiting for event...Start of testfn: waiting for event...\n",
      "\n",
      "Start of testfn: waiting for event...\n",
      "Start of testfn: waiting for event...\n",
      "Start of testfn: waiting for event...\n",
      "Start of testfn: waiting for event...\n",
      "Start of testfn: waiting for event...\n"
     ]
    }
   ],
   "source": [
    "threads = []\n",
    "for _ in range(10):\n",
    "    t = Thread(target=testfn)\n",
    "    t.start()\n",
    "    threads.append(t)\n",
    "    "
   ]
  },
  {
   "cell_type": "code",
   "execution_count": 6,
   "metadata": {},
   "outputs": [
    {
     "name": "stdout",
     "output_type": "stream",
     "text": [
      "Got event, continuing...Got event, continuing...Got event, continuing...Got event, continuing...\n",
      "Got event, continuing...Got event, continuing...\n",
      "\n",
      "\n",
      "Got event, continuing...\n",
      "\n",
      "Got event, continuing...\n",
      "Got event, continuing...Got event, continuing...\n",
      "\n",
      "\n"
     ]
    }
   ],
   "source": [
    "ev.set()"
   ]
  }
 ],
 "metadata": {
  "kernelspec": {
   "display_name": "Python 3",
   "language": "python",
   "name": "python3"
  },
  "language_info": {
   "codemirror_mode": {
    "name": "ipython",
    "version": 3
   },
   "file_extension": ".py",
   "mimetype": "text/x-python",
   "name": "python",
   "nbconvert_exporter": "python",
   "pygments_lexer": "ipython3",
   "version": "3.10.2"
  }
 },
 "nbformat": 4,
 "nbformat_minor": 2
}
