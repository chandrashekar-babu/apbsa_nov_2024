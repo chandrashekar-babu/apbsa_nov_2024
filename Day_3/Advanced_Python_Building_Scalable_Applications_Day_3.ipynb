{
 "cells": [
  {
   "cell_type": "markdown",
   "metadata": {},
   "source": [
    "# Advanced Python: Building Scalable Applications\n",
    "\n",
    "### Day 3: Synchronization mechanisms\n",
    "\n",
    "- Thread / Process synchronization mechanisms\n",
    "   - Mutual exclusion patterns using Lock and RLock.\n",
    "   - Wait/notify patterns using Condition and Event.\n",
    "   - Synchronizing flow-control using Barrier.\n",
    "   - Bandwidth management/control using Semaphore and BoundedSemaphore.\n",
    "   - Implementing Producer/Consumer patterns using Queue.\n",
    "   - Creating thread-local objects using threading.local().\n",
    "- Sharing/Exchanging data between processes\n",
    "   - Streaming data using Pipe and Queue\n",
    "   - Sharing counters and buffers using Value and Array\n",
    "   - Sharing python lists and dictionaries using Manager\n",
    "   - Creating and managing shared memory using multiprocessing.shared_memory features"
   ]
  },
  {
   "cell_type": "markdown",
   "metadata": {},
   "source": [
    "### Mutual Exclusion using Lock and RLock\n",
    "\n",
    "```\n",
    "from threading import Lock\n",
    "\n",
    "lock = Lock()\n",
    "\n",
    "with lock:\n",
    "    critical_section()\n",
    "\n",
    "lock.acquire() / lock.release()\n",
    "\n",
    "```"
   ]
  },
  {
   "cell_type": "markdown",
   "metadata": {},
   "source": [
    "### Event\n",
    "\n",
    "```\n",
    "from threading import Event\n",
    "e = Event()\n",
    "\n",
    "e.set()\n",
    "e.clear()\n",
    "e.is_set()\n",
    "\n",
    "e.wait()\n",
    "```\n"
   ]
  },
  {
   "cell_type": "code",
   "execution_count": 4,
   "metadata": {},
   "outputs": [],
   "source": [
    "from threading import Thread, Event\n",
    "from time import sleep\n",
    "\n",
    "ev = Event()\n",
    "\n",
    "def testfn():\n",
    "    print(\"Start of testfn: waiting for event...\")\n",
    "    ev.wait()\n",
    "    print(\"Got event, continuing...\")"
   ]
  },
  {
   "cell_type": "code",
   "execution_count": null,
   "metadata": {},
   "outputs": [],
   "source": [
    "\n",
    "t = Thread(target=testfn)\n",
    "t.start()\n"
   ]
  },
  {
   "cell_type": "code",
   "execution_count": 2,
   "metadata": {},
   "outputs": [
    {
     "name": "stdout",
     "output_type": "stream",
     "text": [
      "Got event, continuing...\n"
     ]
    }
   ],
   "source": [
    "ev.set()"
   ]
  },
  {
   "cell_type": "code",
   "execution_count": 3,
   "metadata": {},
   "outputs": [],
   "source": [
    "t.join()"
   ]
  },
  {
   "cell_type": "code",
   "execution_count": 5,
   "metadata": {},
   "outputs": [
    {
     "name": "stdout",
     "output_type": "stream",
     "text": [
      "Start of testfn: waiting for event...\n",
      "Start of testfn: waiting for event...\n",
      "Start of testfn: waiting for event...\n",
      "Start of testfn: waiting for event...Start of testfn: waiting for event...\n",
      "\n",
      "Start of testfn: waiting for event...\n",
      "Start of testfn: waiting for event...\n",
      "Start of testfn: waiting for event...\n",
      "Start of testfn: waiting for event...\n",
      "Start of testfn: waiting for event...\n"
     ]
    }
   ],
   "source": [
    "threads = []\n",
    "for _ in range(10):\n",
    "    t = Thread(target=testfn)\n",
    "    t.start()\n",
    "    threads.append(t)\n",
    "    "
   ]
  },
  {
   "cell_type": "code",
   "execution_count": 6,
   "metadata": {},
   "outputs": [
    {
     "name": "stdout",
     "output_type": "stream",
     "text": [
      "Got event, continuing...Got event, continuing...Got event, continuing...Got event, continuing...\n",
      "Got event, continuing...Got event, continuing...\n",
      "\n",
      "\n",
      "Got event, continuing...\n",
      "\n",
      "Got event, continuing...\n",
      "Got event, continuing...Got event, continuing...\n",
      "\n",
      "\n"
     ]
    }
   ],
   "source": [
    "ev.set()"
   ]
  },
  {
   "cell_type": "code",
   "execution_count": 7,
   "metadata": {},
   "outputs": [],
   "source": [
    "### Using synchronized queues"
   ]
  },
  {
   "cell_type": "code",
   "execution_count": 9,
   "metadata": {},
   "outputs": [
    {
     "name": "stdout",
     "output_type": "stream",
     "text": [
      "<queue.Queue object at 0x000001731E7DCE50>\n"
     ]
    }
   ],
   "source": [
    "from queue import Queue\n",
    "\n",
    "q = Queue(5)\n",
    "print(q)"
   ]
  },
  {
   "cell_type": "code",
   "execution_count": 24,
   "metadata": {},
   "outputs": [],
   "source": [
    "q.put(12)"
   ]
  },
  {
   "cell_type": "code",
   "execution_count": 27,
   "metadata": {},
   "outputs": [
    {
     "name": "stdout",
     "output_type": "stream",
     "text": [
      "The queue is full...\n"
     ]
    }
   ],
   "source": [
    "import queue\n",
    "try:\n",
    "    q.put(15, block=False)\n",
    "except queue.Full:\n",
    "    print(\"The queue is full...\")\n"
   ]
  },
  {
   "cell_type": "code",
   "execution_count": 33,
   "metadata": {},
   "outputs": [
    {
     "name": "stdout",
     "output_type": "stream",
     "text": [
      "The queue is empty\n"
     ]
    }
   ],
   "source": [
    "import queue\n",
    "try:\n",
    "    v = q.get(block=False)\n",
    "    print(f\"Fetched {v}, {q.qsize()=}, {q.maxsize=}\")\n",
    "except queue.Empty:\n",
    "    print(\"The queue is empty\")\n"
   ]
  },
  {
   "cell_type": "code",
   "execution_count": 25,
   "metadata": {},
   "outputs": [
    {
     "name": "stdout",
     "output_type": "stream",
     "text": [
      "deque([10, 12, 12, 12, 12])\n",
      "5\n",
      "5\n"
     ]
    }
   ],
   "source": [
    "print(q.queue)\n",
    "print(q.maxsize)\n",
    "print(q.qsize())"
   ]
  },
  {
   "cell_type": "code",
   "execution_count": 34,
   "metadata": {},
   "outputs": [
    {
     "name": "stdout",
     "output_type": "stream",
     "text": [
      "['all_tasks_done', 'empty', 'full', 'get', 'get_nowait', 'join', 'maxsize', 'mutex', 'not_empty', 'not_full', 'put', 'put_nowait', 'qsize', 'queue', 'task_done', 'unfinished_tasks']\n"
     ]
    }
   ],
   "source": [
    "print([ attr for attr in dir(q) if attr[0] != '_'])"
   ]
  }
 ],
 "metadata": {
  "kernelspec": {
   "display_name": "Python 3",
   "language": "python",
   "name": "python3"
  },
  "language_info": {
   "codemirror_mode": {
    "name": "ipython",
    "version": 3
   },
   "file_extension": ".py",
   "mimetype": "text/x-python",
   "name": "python",
   "nbconvert_exporter": "python",
   "pygments_lexer": "ipython3",
   "version": "3.10.2"
  }
 },
 "nbformat": 4,
 "nbformat_minor": 2
}
