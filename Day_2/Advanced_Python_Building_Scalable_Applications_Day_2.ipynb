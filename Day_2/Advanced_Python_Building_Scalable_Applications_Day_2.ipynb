{
 "cells": [
  {
   "cell_type": "markdown",
   "metadata": {},
   "source": [
    "# Advanced Python: Building Scalable Applications\n",
    "\n",
    "### Day 2: Threads, Processes and Synchronization mechanisms\n",
    "\n",
    "- Using the Thread class and the Timer class.\n",
    "- Active threads Vs. Daemon threads.\n",
    "- Helper functions in the threading module.\n",
    "- Python multiprocessing module API\n",
    "   - Multitasking using multiprocessing.Process\n",
    "   - Process Vs Thread: performance and design implications.\n",
    "   - Similarities and differences between Process and Thread class API\n",
    "   - Helper functions in the multiprocessing module.\n",
    "\n",
    "- Thread / Process synchronization mechanisms\n",
    "   - Mutual exclusion patterns using Lock and RLock.\n",
    "   - Wait/notify patterns using Condition and Event.\n",
    "   - Synchronizing flow-control using Barrier.\n",
    "   - Bandwidth management/control using Semaphore and BoundedSemaphore.\n",
    "   - Implementing Producer/Consumer patterns using Queue.\n",
    "   - Creating thread-local objects using threading.local().\n",
    "- Sharing/Exchanging data between processes\n",
    "   - Streaming data using Pipe and Queue\n",
    "   - Sharing counters and buffers using Value and Array\n",
    "   - Sharing python lists and dictionaries using Manager\n",
    "   - Creating and managing shared memory using multiprocessing.shared_memory features"
   ]
  },
  {
   "cell_type": "code",
   "execution_count": 1,
   "metadata": {},
   "outputs": [],
   "source": [
    "from threading import Thread"
   ]
  },
  {
   "cell_type": "code",
   "execution_count": 2,
   "metadata": {},
   "outputs": [
    {
     "name": "stdout",
     "output_type": "stream",
     "text": [
      "\u001b[1;31mInit signature:\u001b[0m\n",
      "\u001b[0mThread\u001b[0m\u001b[1;33m(\u001b[0m\u001b[1;33m\n",
      "\u001b[0m    \u001b[0mgroup\u001b[0m\u001b[1;33m=\u001b[0m\u001b[1;32mNone\u001b[0m\u001b[1;33m,\u001b[0m\u001b[1;33m\n",
      "\u001b[0m    \u001b[0mtarget\u001b[0m\u001b[1;33m=\u001b[0m\u001b[1;32mNone\u001b[0m\u001b[1;33m,\u001b[0m\u001b[1;33m\n",
      "\u001b[0m    \u001b[0mname\u001b[0m\u001b[1;33m=\u001b[0m\u001b[1;32mNone\u001b[0m\u001b[1;33m,\u001b[0m\u001b[1;33m\n",
      "\u001b[0m    \u001b[0margs\u001b[0m\u001b[1;33m=\u001b[0m\u001b[1;33m(\u001b[0m\u001b[1;33m)\u001b[0m\u001b[1;33m,\u001b[0m\u001b[1;33m\n",
      "\u001b[0m    \u001b[0mkwargs\u001b[0m\u001b[1;33m=\u001b[0m\u001b[1;32mNone\u001b[0m\u001b[1;33m,\u001b[0m\u001b[1;33m\n",
      "\u001b[0m    \u001b[1;33m*\u001b[0m\u001b[1;33m,\u001b[0m\u001b[1;33m\n",
      "\u001b[0m    \u001b[0mdaemon\u001b[0m\u001b[1;33m=\u001b[0m\u001b[1;32mNone\u001b[0m\u001b[1;33m,\u001b[0m\u001b[1;33m\n",
      "\u001b[0m\u001b[1;33m)\u001b[0m\u001b[1;33m\u001b[0m\u001b[1;33m\u001b[0m\u001b[0m\n",
      "\u001b[1;31mDocstring:\u001b[0m     \n",
      "A class that represents a thread of control.\n",
      "\n",
      "This class can be safely subclassed in a limited fashion. There are two ways\n",
      "to specify the activity: by passing a callable object to the constructor, or\n",
      "by overriding the run() method in a subclass.\n",
      "\u001b[1;31mInit docstring:\u001b[0m\n",
      "This constructor should always be called with keyword arguments. Arguments are:\n",
      "\n",
      "*group* should be None; reserved for future extension when a ThreadGroup\n",
      "class is implemented.\n",
      "\n",
      "*target* is the callable object to be invoked by the run()\n",
      "method. Defaults to None, meaning nothing is called.\n",
      "\n",
      "*name* is the thread name. By default, a unique name is constructed of\n",
      "the form \"Thread-N\" where N is a small decimal number.\n",
      "\n",
      "*args* is the argument tuple for the target invocation. Defaults to ().\n",
      "\n",
      "*kwargs* is a dictionary of keyword arguments for the target\n",
      "invocation. Defaults to {}.\n",
      "\n",
      "If a subclass overrides the constructor, it must make sure to invoke\n",
      "the base class constructor (Thread.__init__()) before doing anything\n",
      "else to the thread.\n",
      "\u001b[1;31mFile:\u001b[0m           c:\\python310\\lib\\threading.py\n",
      "\u001b[1;31mType:\u001b[0m           type\n",
      "\u001b[1;31mSubclasses:\u001b[0m     Timer, _MainThread, _DummyThread, HBChannel, HistorySavingThread, ControlThread, Heartbeat, PyDBDaemonThread, ParentPollerUnix, ParentPollerWindows, ...\n"
     ]
    }
   ],
   "source": [
    "Thread?"
   ]
  }
 ],
 "metadata": {
  "kernelspec": {
   "display_name": "Python 3",
   "language": "python",
   "name": "python3"
  },
  "language_info": {
   "codemirror_mode": {
    "name": "ipython",
    "version": 3
   },
   "file_extension": ".py",
   "mimetype": "text/x-python",
   "name": "python",
   "nbconvert_exporter": "python",
   "pygments_lexer": "ipython3",
   "version": "3.10.2"
  }
 },
 "nbformat": 4,
 "nbformat_minor": 2
}
