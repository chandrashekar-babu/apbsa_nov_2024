{
 "cells": [
  {
   "cell_type": "markdown",
   "metadata": {},
   "source": [
    "# Advanced Python: Building Scalable Applications\n",
    "\n",
    "### Day 2: Threads, Processes and Synchronization mechanisms\n",
    "\n",
    "- Using the Thread class and the Timer class.\n",
    "- Active threads Vs. Daemon threads.\n",
    "- Helper functions in the threading module.\n",
    "- Python multiprocessing module API\n",
    "   - Multitasking using multiprocessing.Process\n",
    "   - Process Vs Thread: performance and design implications.\n",
    "   - Similarities and differences between Process and Thread class API\n",
    "   - Helper functions in the multiprocessing module.\n",
    "\n",
    "- Thread / Process synchronization mechanisms\n",
    "   - Mutual exclusion patterns using Lock and RLock.\n",
    "   - Wait/notify patterns using Condition and Event.\n",
    "   - Synchronizing flow-control using Barrier.\n",
    "   - Bandwidth management/control using Semaphore and BoundedSemaphore.\n",
    "   - Implementing Producer/Consumer patterns using Queue.\n",
    "   - Creating thread-local objects using threading.local().\n",
    "- Sharing/Exchanging data between processes\n",
    "   - Streaming data using Pipe and Queue\n",
    "   - Sharing counters and buffers using Value and Array\n",
    "   - Sharing python lists and dictionaries using Manager\n",
    "   - Creating and managing shared memory using multiprocessing.shared_memory features"
   ]
  }
 ],
 "metadata": {
  "kernelspec": {
   "display_name": "Python 3",
   "language": "python",
   "name": "python3"
  },
  "language_info": {
   "name": "python",
   "version": "3.10.2"
  }
 },
 "nbformat": 4,
 "nbformat_minor": 2
}
